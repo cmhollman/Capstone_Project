{
 "cells": [
  {
   "cell_type": "markdown",
   "id": "4b9f926c",
   "metadata": {},
   "source": [
    "# Climate Change Analysis \n",
    "* Student name: Chris Hollman\n",
    "* Student pace: Self paced\n",
    "* Scheduled review date/time: \n",
    "* Instructor name: Abhineet Kulkarni"
   ]
  },
  {
   "cell_type": "markdown",
   "id": "2c17ec2d",
   "metadata": {},
   "source": [
    "## Project Overview\n",
    "The goal of this project is to study the trends of our global climate. This will include an analysis of historical data, a prediction of future trends, and a regresssion model to determine associated factors. "
   ]
  },
  {
   "cell_type": "code",
   "execution_count": 157,
   "id": "19abaa7b",
   "metadata": {
    "ExecuteTime": {
     "end_time": "2022-10-31T17:54:16.643295Z",
     "start_time": "2022-10-31T17:54:16.633436Z"
    }
   },
   "outputs": [],
   "source": [
    "import pandas as pd\n",
    "import matplotlib.pyplot as plt\n",
    "%matplotlib inline\n",
    "from matplotlib.pylab import rcParams\n",
    "import seaborn as sns\n",
    "sns.set_style('darkgrid')\n",
    "from prophet import Prophet\n",
    "import datetime\n",
    "import warnings"
   ]
  },
  {
   "cell_type": "code",
   "execution_count": 158,
   "id": "ad7cc623",
   "metadata": {
    "ExecuteTime": {
     "end_time": "2022-10-31T17:54:17.207592Z",
     "start_time": "2022-10-31T17:54:16.939252Z"
    }
   },
   "outputs": [],
   "source": [
    "country_df = pd.read_csv('data/GlobalLandTemperaturesByCountry.csv')\n",
    "global_df = pd.read_csv('data/GlobalTemperatures.csv')\n",
    "hist_gas_df = pd.read_csv('data/historical_emissions.csv')\n",
    "pop_df = pd.read_csv('data/20_year_world_pop.csv')\n",
    "gdp_df = pd.read_csv('data/gdp_growth.csv')\n",
    "    "
   ]
  },
  {
   "cell_type": "markdown",
   "id": "ac7816a3",
   "metadata": {},
   "source": [
    "## Initial Data Exploration"
   ]
  },
  {
   "cell_type": "code",
   "execution_count": 159,
   "id": "ad8e3c3c",
   "metadata": {
    "ExecuteTime": {
     "end_time": "2022-10-31T17:54:17.767962Z",
     "start_time": "2022-10-31T17:54:17.746736Z"
    },
    "scrolled": true
   },
   "outputs": [
    {
     "name": "stdout",
     "output_type": "stream",
     "text": [
      "<class 'pandas.core.frame.DataFrame'>\n",
      "RangeIndex: 3192 entries, 0 to 3191\n",
      "Data columns (total 9 columns):\n",
      " #   Column                                     Non-Null Count  Dtype  \n",
      "---  ------                                     --------------  -----  \n",
      " 0   dt                                         3192 non-null   object \n",
      " 1   LandAverageTemperature                     3180 non-null   float64\n",
      " 2   LandAverageTemperatureUncertainty          3180 non-null   float64\n",
      " 3   LandMaxTemperature                         1992 non-null   float64\n",
      " 4   LandMaxTemperatureUncertainty              1992 non-null   float64\n",
      " 5   LandMinTemperature                         1992 non-null   float64\n",
      " 6   LandMinTemperatureUncertainty              1992 non-null   float64\n",
      " 7   LandAndOceanAverageTemperature             1992 non-null   float64\n",
      " 8   LandAndOceanAverageTemperatureUncertainty  1992 non-null   float64\n",
      "dtypes: float64(8), object(1)\n",
      "memory usage: 224.6+ KB\n"
     ]
    }
   ],
   "source": [
    "global_df.info()"
   ]
  },
  {
   "cell_type": "code",
   "execution_count": 160,
   "id": "ad059bfa",
   "metadata": {
    "ExecuteTime": {
     "end_time": "2022-10-31T17:54:18.115782Z",
     "start_time": "2022-10-31T17:54:18.109424Z"
    }
   },
   "outputs": [],
   "source": [
    "global_df['dt'] = pd.to_datetime(global_df['dt'])"
   ]
  },
  {
   "cell_type": "code",
   "execution_count": 161,
   "id": "54cebcc9",
   "metadata": {
    "ExecuteTime": {
     "end_time": "2022-10-31T17:54:18.626218Z",
     "start_time": "2022-10-31T17:54:18.617647Z"
    },
    "scrolled": false
   },
   "outputs": [
    {
     "name": "stdout",
     "output_type": "stream",
     "text": [
      "7.88\n",
      "0.034\n"
     ]
    }
   ],
   "source": [
    "print(global_df['LandAverageTemperatureUncertainty'].max())\n",
    "print(global_df['LandAverageTemperatureUncertainty'].min())"
   ]
  },
  {
   "cell_type": "code",
   "execution_count": 162,
   "id": "5042d1e2",
   "metadata": {
    "ExecuteTime": {
     "end_time": "2022-10-31T17:54:19.206780Z",
     "start_time": "2022-10-31T17:54:19.192334Z"
    }
   },
   "outputs": [
    {
     "data": {
      "text/html": [
       "<div>\n",
       "<style scoped>\n",
       "    .dataframe tbody tr th:only-of-type {\n",
       "        vertical-align: middle;\n",
       "    }\n",
       "\n",
       "    .dataframe tbody tr th {\n",
       "        vertical-align: top;\n",
       "    }\n",
       "\n",
       "    .dataframe thead th {\n",
       "        text-align: right;\n",
       "    }\n",
       "</style>\n",
       "<table border=\"1\" class=\"dataframe\">\n",
       "  <thead>\n",
       "    <tr style=\"text-align: right;\">\n",
       "      <th></th>\n",
       "      <th>dt</th>\n",
       "      <th>LandAverageTemperature</th>\n",
       "      <th>LandAverageTemperatureUncertainty</th>\n",
       "      <th>LandMaxTemperature</th>\n",
       "      <th>LandMaxTemperatureUncertainty</th>\n",
       "      <th>LandMinTemperature</th>\n",
       "      <th>LandMinTemperatureUncertainty</th>\n",
       "      <th>LandAndOceanAverageTemperature</th>\n",
       "      <th>LandAndOceanAverageTemperatureUncertainty</th>\n",
       "    </tr>\n",
       "  </thead>\n",
       "  <tbody>\n",
       "    <tr>\n",
       "      <th>0</th>\n",
       "      <td>1750-01-01</td>\n",
       "      <td>3.034</td>\n",
       "      <td>3.574</td>\n",
       "      <td>NaN</td>\n",
       "      <td>NaN</td>\n",
       "      <td>NaN</td>\n",
       "      <td>NaN</td>\n",
       "      <td>NaN</td>\n",
       "      <td>NaN</td>\n",
       "    </tr>\n",
       "    <tr>\n",
       "      <th>1</th>\n",
       "      <td>1750-02-01</td>\n",
       "      <td>3.083</td>\n",
       "      <td>3.702</td>\n",
       "      <td>NaN</td>\n",
       "      <td>NaN</td>\n",
       "      <td>NaN</td>\n",
       "      <td>NaN</td>\n",
       "      <td>NaN</td>\n",
       "      <td>NaN</td>\n",
       "    </tr>\n",
       "    <tr>\n",
       "      <th>2</th>\n",
       "      <td>1750-03-01</td>\n",
       "      <td>5.626</td>\n",
       "      <td>3.076</td>\n",
       "      <td>NaN</td>\n",
       "      <td>NaN</td>\n",
       "      <td>NaN</td>\n",
       "      <td>NaN</td>\n",
       "      <td>NaN</td>\n",
       "      <td>NaN</td>\n",
       "    </tr>\n",
       "    <tr>\n",
       "      <th>3</th>\n",
       "      <td>1750-04-01</td>\n",
       "      <td>8.490</td>\n",
       "      <td>2.451</td>\n",
       "      <td>NaN</td>\n",
       "      <td>NaN</td>\n",
       "      <td>NaN</td>\n",
       "      <td>NaN</td>\n",
       "      <td>NaN</td>\n",
       "      <td>NaN</td>\n",
       "    </tr>\n",
       "    <tr>\n",
       "      <th>4</th>\n",
       "      <td>1750-05-01</td>\n",
       "      <td>11.573</td>\n",
       "      <td>2.072</td>\n",
       "      <td>NaN</td>\n",
       "      <td>NaN</td>\n",
       "      <td>NaN</td>\n",
       "      <td>NaN</td>\n",
       "      <td>NaN</td>\n",
       "      <td>NaN</td>\n",
       "    </tr>\n",
       "  </tbody>\n",
       "</table>\n",
       "</div>"
      ],
      "text/plain": [
       "          dt  LandAverageTemperature  LandAverageTemperatureUncertainty  \\\n",
       "0 1750-01-01                   3.034                              3.574   \n",
       "1 1750-02-01                   3.083                              3.702   \n",
       "2 1750-03-01                   5.626                              3.076   \n",
       "3 1750-04-01                   8.490                              2.451   \n",
       "4 1750-05-01                  11.573                              2.072   \n",
       "\n",
       "   LandMaxTemperature  LandMaxTemperatureUncertainty  LandMinTemperature  \\\n",
       "0                 NaN                            NaN                 NaN   \n",
       "1                 NaN                            NaN                 NaN   \n",
       "2                 NaN                            NaN                 NaN   \n",
       "3                 NaN                            NaN                 NaN   \n",
       "4                 NaN                            NaN                 NaN   \n",
       "\n",
       "   LandMinTemperatureUncertainty  LandAndOceanAverageTemperature  \\\n",
       "0                            NaN                             NaN   \n",
       "1                            NaN                             NaN   \n",
       "2                            NaN                             NaN   \n",
       "3                            NaN                             NaN   \n",
       "4                            NaN                             NaN   \n",
       "\n",
       "   LandAndOceanAverageTemperatureUncertainty  \n",
       "0                                        NaN  \n",
       "1                                        NaN  \n",
       "2                                        NaN  \n",
       "3                                        NaN  \n",
       "4                                        NaN  "
      ]
     },
     "execution_count": 162,
     "metadata": {},
     "output_type": "execute_result"
    }
   ],
   "source": [
    "global_df.head()"
   ]
  },
  {
   "cell_type": "code",
   "execution_count": 163,
   "id": "1e1a2d2f",
   "metadata": {
    "ExecuteTime": {
     "end_time": "2022-10-31T17:54:19.963536Z",
     "start_time": "2022-10-31T17:54:19.944943Z"
    }
   },
   "outputs": [
    {
     "data": {
      "text/html": [
       "<div>\n",
       "<style scoped>\n",
       "    .dataframe tbody tr th:only-of-type {\n",
       "        vertical-align: middle;\n",
       "    }\n",
       "\n",
       "    .dataframe tbody tr th {\n",
       "        vertical-align: top;\n",
       "    }\n",
       "\n",
       "    .dataframe thead th {\n",
       "        text-align: right;\n",
       "    }\n",
       "</style>\n",
       "<table border=\"1\" class=\"dataframe\">\n",
       "  <thead>\n",
       "    <tr style=\"text-align: right;\">\n",
       "      <th></th>\n",
       "      <th>dt</th>\n",
       "      <th>LandAverageTemperature</th>\n",
       "      <th>LandAverageTemperatureUncertainty</th>\n",
       "      <th>LandMaxTemperature</th>\n",
       "      <th>LandMaxTemperatureUncertainty</th>\n",
       "      <th>LandMinTemperature</th>\n",
       "      <th>LandMinTemperatureUncertainty</th>\n",
       "      <th>LandAndOceanAverageTemperature</th>\n",
       "      <th>LandAndOceanAverageTemperatureUncertainty</th>\n",
       "    </tr>\n",
       "  </thead>\n",
       "  <tbody>\n",
       "    <tr>\n",
       "      <th>3187</th>\n",
       "      <td>2015-08-01</td>\n",
       "      <td>14.755</td>\n",
       "      <td>0.072</td>\n",
       "      <td>20.699</td>\n",
       "      <td>0.110</td>\n",
       "      <td>9.005</td>\n",
       "      <td>0.170</td>\n",
       "      <td>17.589</td>\n",
       "      <td>0.057</td>\n",
       "    </tr>\n",
       "    <tr>\n",
       "      <th>3188</th>\n",
       "      <td>2015-09-01</td>\n",
       "      <td>12.999</td>\n",
       "      <td>0.079</td>\n",
       "      <td>18.845</td>\n",
       "      <td>0.088</td>\n",
       "      <td>7.199</td>\n",
       "      <td>0.229</td>\n",
       "      <td>17.049</td>\n",
       "      <td>0.058</td>\n",
       "    </tr>\n",
       "    <tr>\n",
       "      <th>3189</th>\n",
       "      <td>2015-10-01</td>\n",
       "      <td>10.801</td>\n",
       "      <td>0.102</td>\n",
       "      <td>16.450</td>\n",
       "      <td>0.059</td>\n",
       "      <td>5.232</td>\n",
       "      <td>0.115</td>\n",
       "      <td>16.290</td>\n",
       "      <td>0.062</td>\n",
       "    </tr>\n",
       "    <tr>\n",
       "      <th>3190</th>\n",
       "      <td>2015-11-01</td>\n",
       "      <td>7.433</td>\n",
       "      <td>0.119</td>\n",
       "      <td>12.892</td>\n",
       "      <td>0.093</td>\n",
       "      <td>2.157</td>\n",
       "      <td>0.106</td>\n",
       "      <td>15.252</td>\n",
       "      <td>0.063</td>\n",
       "    </tr>\n",
       "    <tr>\n",
       "      <th>3191</th>\n",
       "      <td>2015-12-01</td>\n",
       "      <td>5.518</td>\n",
       "      <td>0.100</td>\n",
       "      <td>10.725</td>\n",
       "      <td>0.154</td>\n",
       "      <td>0.287</td>\n",
       "      <td>0.099</td>\n",
       "      <td>14.774</td>\n",
       "      <td>0.062</td>\n",
       "    </tr>\n",
       "  </tbody>\n",
       "</table>\n",
       "</div>"
      ],
      "text/plain": [
       "             dt  LandAverageTemperature  LandAverageTemperatureUncertainty  \\\n",
       "3187 2015-08-01                  14.755                              0.072   \n",
       "3188 2015-09-01                  12.999                              0.079   \n",
       "3189 2015-10-01                  10.801                              0.102   \n",
       "3190 2015-11-01                   7.433                              0.119   \n",
       "3191 2015-12-01                   5.518                              0.100   \n",
       "\n",
       "      LandMaxTemperature  LandMaxTemperatureUncertainty  LandMinTemperature  \\\n",
       "3187              20.699                          0.110               9.005   \n",
       "3188              18.845                          0.088               7.199   \n",
       "3189              16.450                          0.059               5.232   \n",
       "3190              12.892                          0.093               2.157   \n",
       "3191              10.725                          0.154               0.287   \n",
       "\n",
       "      LandMinTemperatureUncertainty  LandAndOceanAverageTemperature  \\\n",
       "3187                          0.170                          17.589   \n",
       "3188                          0.229                          17.049   \n",
       "3189                          0.115                          16.290   \n",
       "3190                          0.106                          15.252   \n",
       "3191                          0.099                          14.774   \n",
       "\n",
       "      LandAndOceanAverageTemperatureUncertainty  \n",
       "3187                                      0.057  \n",
       "3188                                      0.058  \n",
       "3189                                      0.062  \n",
       "3190                                      0.063  \n",
       "3191                                      0.062  "
      ]
     },
     "execution_count": 163,
     "metadata": {},
     "output_type": "execute_result"
    }
   ],
   "source": [
    "global_df.tail()"
   ]
  },
  {
   "cell_type": "code",
   "execution_count": 164,
   "id": "eb765a37",
   "metadata": {
    "ExecuteTime": {
     "end_time": "2022-10-31T17:54:23.849327Z",
     "start_time": "2022-10-31T17:54:23.806245Z"
    },
    "scrolled": true
   },
   "outputs": [
    {
     "data": {
      "text/html": [
       "<div>\n",
       "<style scoped>\n",
       "    .dataframe tbody tr th:only-of-type {\n",
       "        vertical-align: middle;\n",
       "    }\n",
       "\n",
       "    .dataframe tbody tr th {\n",
       "        vertical-align: top;\n",
       "    }\n",
       "\n",
       "    .dataframe thead th {\n",
       "        text-align: right;\n",
       "    }\n",
       "</style>\n",
       "<table border=\"1\" class=\"dataframe\">\n",
       "  <thead>\n",
       "    <tr style=\"text-align: right;\">\n",
       "      <th></th>\n",
       "      <th>LandAverageTemperature</th>\n",
       "      <th>LandAverageTemperatureUncertainty</th>\n",
       "      <th>LandMaxTemperature</th>\n",
       "      <th>LandMaxTemperatureUncertainty</th>\n",
       "      <th>LandMinTemperature</th>\n",
       "      <th>LandMinTemperatureUncertainty</th>\n",
       "      <th>LandAndOceanAverageTemperature</th>\n",
       "      <th>LandAndOceanAverageTemperatureUncertainty</th>\n",
       "    </tr>\n",
       "  </thead>\n",
       "  <tbody>\n",
       "    <tr>\n",
       "      <th>count</th>\n",
       "      <td>266.000000</td>\n",
       "      <td>266.000000</td>\n",
       "      <td>166.000000</td>\n",
       "      <td>166.000000</td>\n",
       "      <td>166.000000</td>\n",
       "      <td>166.000000</td>\n",
       "      <td>166.000000</td>\n",
       "      <td>166.000000</td>\n",
       "    </tr>\n",
       "    <tr>\n",
       "      <th>mean</th>\n",
       "      <td>8.369337</td>\n",
       "      <td>0.945719</td>\n",
       "      <td>14.350601</td>\n",
       "      <td>0.479782</td>\n",
       "      <td>2.743595</td>\n",
       "      <td>0.431849</td>\n",
       "      <td>15.212566</td>\n",
       "      <td>0.128532</td>\n",
       "    </tr>\n",
       "    <tr>\n",
       "      <th>std</th>\n",
       "      <td>0.584921</td>\n",
       "      <td>0.994110</td>\n",
       "      <td>0.447741</td>\n",
       "      <td>0.549759</td>\n",
       "      <td>0.614124</td>\n",
       "      <td>0.406697</td>\n",
       "      <td>0.298629</td>\n",
       "      <td>0.071441</td>\n",
       "    </tr>\n",
       "    <tr>\n",
       "      <th>min</th>\n",
       "      <td>5.779833</td>\n",
       "      <td>0.062083</td>\n",
       "      <td>13.081000</td>\n",
       "      <td>0.078500</td>\n",
       "      <td>1.525083</td>\n",
       "      <td>0.102500</td>\n",
       "      <td>14.740083</td>\n",
       "      <td>0.047500</td>\n",
       "    </tr>\n",
       "    <tr>\n",
       "      <th>25%</th>\n",
       "      <td>8.081563</td>\n",
       "      <td>0.210208</td>\n",
       "      <td>14.055917</td>\n",
       "      <td>0.139542</td>\n",
       "      <td>2.262562</td>\n",
       "      <td>0.149896</td>\n",
       "      <td>14.991208</td>\n",
       "      <td>0.062937</td>\n",
       "    </tr>\n",
       "    <tr>\n",
       "      <th>50%</th>\n",
       "      <td>8.372167</td>\n",
       "      <td>0.405583</td>\n",
       "      <td>14.307708</td>\n",
       "      <td>0.240125</td>\n",
       "      <td>2.734917</td>\n",
       "      <td>0.274667</td>\n",
       "      <td>15.144208</td>\n",
       "      <td>0.123625</td>\n",
       "    </tr>\n",
       "    <tr>\n",
       "      <th>75%</th>\n",
       "      <td>8.704167</td>\n",
       "      <td>1.629563</td>\n",
       "      <td>14.539167</td>\n",
       "      <td>0.508000</td>\n",
       "      <td>3.126833</td>\n",
       "      <td>0.437000</td>\n",
       "      <td>15.379104</td>\n",
       "      <td>0.150229</td>\n",
       "    </tr>\n",
       "    <tr>\n",
       "      <th>max</th>\n",
       "      <td>9.831000</td>\n",
       "      <td>4.026000</td>\n",
       "      <td>15.572667</td>\n",
       "      <td>2.619250</td>\n",
       "      <td>4.148833</td>\n",
       "      <td>1.778500</td>\n",
       "      <td>16.058583</td>\n",
       "      <td>0.316417</td>\n",
       "    </tr>\n",
       "  </tbody>\n",
       "</table>\n",
       "</div>"
      ],
      "text/plain": [
       "       LandAverageTemperature  LandAverageTemperatureUncertainty  \\\n",
       "count              266.000000                         266.000000   \n",
       "mean                 8.369337                           0.945719   \n",
       "std                  0.584921                           0.994110   \n",
       "min                  5.779833                           0.062083   \n",
       "25%                  8.081563                           0.210208   \n",
       "50%                  8.372167                           0.405583   \n",
       "75%                  8.704167                           1.629563   \n",
       "max                  9.831000                           4.026000   \n",
       "\n",
       "       LandMaxTemperature  LandMaxTemperatureUncertainty  LandMinTemperature  \\\n",
       "count          166.000000                     166.000000          166.000000   \n",
       "mean            14.350601                       0.479782            2.743595   \n",
       "std              0.447741                       0.549759            0.614124   \n",
       "min             13.081000                       0.078500            1.525083   \n",
       "25%             14.055917                       0.139542            2.262562   \n",
       "50%             14.307708                       0.240125            2.734917   \n",
       "75%             14.539167                       0.508000            3.126833   \n",
       "max             15.572667                       2.619250            4.148833   \n",
       "\n",
       "       LandMinTemperatureUncertainty  LandAndOceanAverageTemperature  \\\n",
       "count                     166.000000                      166.000000   \n",
       "mean                        0.431849                       15.212566   \n",
       "std                         0.406697                        0.298629   \n",
       "min                         0.102500                       14.740083   \n",
       "25%                         0.149896                       14.991208   \n",
       "50%                         0.274667                       15.144208   \n",
       "75%                         0.437000                       15.379104   \n",
       "max                         1.778500                       16.058583   \n",
       "\n",
       "       LandAndOceanAverageTemperatureUncertainty  \n",
       "count                                 166.000000  \n",
       "mean                                    0.128532  \n",
       "std                                     0.071441  \n",
       "min                                     0.047500  \n",
       "25%                                     0.062937  \n",
       "50%                                     0.123625  \n",
       "75%                                     0.150229  \n",
       "max                                     0.316417  "
      ]
     },
     "execution_count": 164,
     "metadata": {},
     "output_type": "execute_result"
    }
   ],
   "source": [
    "grouped = global_df.groupby(pd.Grouper(key='dt', freq='Y')).mean()\n",
    "grouped.describe()"
   ]
  },
  {
   "cell_type": "code",
   "execution_count": 165,
   "id": "e3bc854f",
   "metadata": {
    "ExecuteTime": {
     "end_time": "2022-10-31T17:54:24.554816Z",
     "start_time": "2022-10-31T17:54:24.546010Z"
    }
   },
   "outputs": [
    {
     "data": {
      "text/plain": [
       "Timestamp('1846-04-01 00:00:00')"
      ]
     },
     "execution_count": 165,
     "metadata": {},
     "output_type": "execute_result"
    }
   ],
   "source": [
    "global_df[global_df['LandAverageTemperatureUncertainty'] > 1.6]['dt'].max()"
   ]
  },
  {
   "cell_type": "code",
   "execution_count": 166,
   "id": "18c9ccdc",
   "metadata": {
    "ExecuteTime": {
     "end_time": "2022-10-31T17:54:27.144853Z",
     "start_time": "2022-10-31T17:54:27.140076Z"
    }
   },
   "outputs": [],
   "source": [
    "global_df = global_df[global_df['dt'] >= '1847']"
   ]
  },
  {
   "cell_type": "code",
   "execution_count": 167,
   "id": "e2100250",
   "metadata": {
    "ExecuteTime": {
     "end_time": "2022-10-31T17:54:33.187000Z",
     "start_time": "2022-10-31T17:54:33.182348Z"
    }
   },
   "outputs": [],
   "source": [
    "global_df['LandAverageTemperatureF'] = global_df['LandAverageTemperature']*1.8+32"
   ]
  },
  {
   "cell_type": "code",
   "execution_count": 169,
   "id": "710fd72e",
   "metadata": {
    "ExecuteTime": {
     "end_time": "2022-10-31T18:05:22.800645Z",
     "start_time": "2022-10-31T18:05:22.780128Z"
    },
    "scrolled": true
   },
   "outputs": [
    {
     "data": {
      "text/html": [
       "<div>\n",
       "<style scoped>\n",
       "    .dataframe tbody tr th:only-of-type {\n",
       "        vertical-align: middle;\n",
       "    }\n",
       "\n",
       "    .dataframe tbody tr th {\n",
       "        vertical-align: top;\n",
       "    }\n",
       "\n",
       "    .dataframe thead th {\n",
       "        text-align: right;\n",
       "    }\n",
       "</style>\n",
       "<table border=\"1\" class=\"dataframe\">\n",
       "  <thead>\n",
       "    <tr style=\"text-align: right;\">\n",
       "      <th></th>\n",
       "      <th>dt</th>\n",
       "      <th>LandAverageTemperature</th>\n",
       "      <th>LandAverageTemperatureUncertainty</th>\n",
       "      <th>LandMaxTemperature</th>\n",
       "      <th>LandMaxTemperatureUncertainty</th>\n",
       "      <th>LandMinTemperature</th>\n",
       "      <th>LandMinTemperatureUncertainty</th>\n",
       "      <th>LandAndOceanAverageTemperature</th>\n",
       "      <th>LandAndOceanAverageTemperatureUncertainty</th>\n",
       "      <th>LandAverageTemperatureF</th>\n",
       "    </tr>\n",
       "  </thead>\n",
       "  <tbody>\n",
       "    <tr>\n",
       "      <th>1164</th>\n",
       "      <td>1847-01-01</td>\n",
       "      <td>2.753</td>\n",
       "      <td>1.269</td>\n",
       "      <td>NaN</td>\n",
       "      <td>NaN</td>\n",
       "      <td>NaN</td>\n",
       "      <td>NaN</td>\n",
       "      <td>NaN</td>\n",
       "      <td>NaN</td>\n",
       "      <td>36.9554</td>\n",
       "    </tr>\n",
       "    <tr>\n",
       "      <th>1165</th>\n",
       "      <td>1847-02-01</td>\n",
       "      <td>3.602</td>\n",
       "      <td>1.383</td>\n",
       "      <td>NaN</td>\n",
       "      <td>NaN</td>\n",
       "      <td>NaN</td>\n",
       "      <td>NaN</td>\n",
       "      <td>NaN</td>\n",
       "      <td>NaN</td>\n",
       "      <td>38.4836</td>\n",
       "    </tr>\n",
       "    <tr>\n",
       "      <th>1166</th>\n",
       "      <td>1847-03-01</td>\n",
       "      <td>4.046</td>\n",
       "      <td>1.583</td>\n",
       "      <td>NaN</td>\n",
       "      <td>NaN</td>\n",
       "      <td>NaN</td>\n",
       "      <td>NaN</td>\n",
       "      <td>NaN</td>\n",
       "      <td>NaN</td>\n",
       "      <td>39.2828</td>\n",
       "    </tr>\n",
       "    <tr>\n",
       "      <th>1167</th>\n",
       "      <td>1847-04-01</td>\n",
       "      <td>7.980</td>\n",
       "      <td>0.998</td>\n",
       "      <td>NaN</td>\n",
       "      <td>NaN</td>\n",
       "      <td>NaN</td>\n",
       "      <td>NaN</td>\n",
       "      <td>NaN</td>\n",
       "      <td>NaN</td>\n",
       "      <td>46.3640</td>\n",
       "    </tr>\n",
       "    <tr>\n",
       "      <th>1168</th>\n",
       "      <td>1847-05-01</td>\n",
       "      <td>10.622</td>\n",
       "      <td>0.752</td>\n",
       "      <td>NaN</td>\n",
       "      <td>NaN</td>\n",
       "      <td>NaN</td>\n",
       "      <td>NaN</td>\n",
       "      <td>NaN</td>\n",
       "      <td>NaN</td>\n",
       "      <td>51.1196</td>\n",
       "    </tr>\n",
       "  </tbody>\n",
       "</table>\n",
       "</div>"
      ],
      "text/plain": [
       "             dt  LandAverageTemperature  LandAverageTemperatureUncertainty  \\\n",
       "1164 1847-01-01                   2.753                              1.269   \n",
       "1165 1847-02-01                   3.602                              1.383   \n",
       "1166 1847-03-01                   4.046                              1.583   \n",
       "1167 1847-04-01                   7.980                              0.998   \n",
       "1168 1847-05-01                  10.622                              0.752   \n",
       "\n",
       "      LandMaxTemperature  LandMaxTemperatureUncertainty  LandMinTemperature  \\\n",
       "1164                 NaN                            NaN                 NaN   \n",
       "1165                 NaN                            NaN                 NaN   \n",
       "1166                 NaN                            NaN                 NaN   \n",
       "1167                 NaN                            NaN                 NaN   \n",
       "1168                 NaN                            NaN                 NaN   \n",
       "\n",
       "      LandMinTemperatureUncertainty  LandAndOceanAverageTemperature  \\\n",
       "1164                            NaN                             NaN   \n",
       "1165                            NaN                             NaN   \n",
       "1166                            NaN                             NaN   \n",
       "1167                            NaN                             NaN   \n",
       "1168                            NaN                             NaN   \n",
       "\n",
       "      LandAndOceanAverageTemperatureUncertainty  LandAverageTemperatureF  \n",
       "1164                                        NaN                  36.9554  \n",
       "1165                                        NaN                  38.4836  \n",
       "1166                                        NaN                  39.2828  \n",
       "1167                                        NaN                  46.3640  \n",
       "1168                                        NaN                  51.1196  "
      ]
     },
     "execution_count": 169,
     "metadata": {},
     "output_type": "execute_result"
    }
   ],
   "source": [
    "global_df.head()"
   ]
  },
  {
   "cell_type": "code",
   "execution_count": 170,
   "id": "91424ede",
   "metadata": {
    "ExecuteTime": {
     "end_time": "2022-10-31T18:40:45.226035Z",
     "start_time": "2022-10-31T18:40:44.989859Z"
    }
   },
   "outputs": [
    {
     "data": {
      "text/plain": [
       "[<matplotlib.lines.Line2D at 0x1643ea1c0>]"
      ]
     },
     "execution_count": 170,
     "metadata": {},
     "output_type": "execute_result"
    },
    {
     "data": {
      "image/png": "[encoded data removed]",
      "text/plain": [
       "<Figure size 432x288 with 1 Axes>"
      ]
     },
     "metadata": {},
     "output_type": "display_data"
    }
   ],
   "source": [
    "X = global_df['dt']\n",
    "y = global_df['LandAverageTemperatureF']\n",
    "plt.plot(X,y)"
   ]
  },
  {
   "cell_type": "markdown",
   "id": "ee77b43c",
   "metadata": {},
   "source": [
    "## Cleaning/Preprocessing"
   ]
  }
 ],
 "metadata": {
  "kernelspec": {
   "display_name": "Python 3.9 (tensorflow)",
   "language": "python",
   "name": "tensorflow"
  },
  "language_info": {
   "codemirror_mode": {
    "name": "ipython",
    "version": 3
   },
   "file_extension": ".py",
   "mimetype": "text/x-python",
   "name": "python",
   "nbconvert_exporter": "python",
   "pygments_lexer": "ipython3",
   "version": "3.9.13"
  }
 },
 "nbformat": 4,
 "nbformat_minor": 5
}

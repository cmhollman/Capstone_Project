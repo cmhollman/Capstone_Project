{
 "cells": [
  {
   "cell_type": "markdown",
   "id": "4b9f926c",
   "metadata": {},
   "source": [
    "# Climate Change Analysis \n",
    "* Student name: Chris Hollman\n",
    "* Student pace: Self paced\n",
    "* Scheduled review date/time: \n",
    "* Instructor name: Abhineet Kulkarni"
   ]
  },
  {
   "cell_type": "markdown",
   "id": "6cb3a983",
   "metadata": {},
   "source": [
    "## Buisiness Problem\n",
    "An environmentally focused nonprofit organization is seeking data-focused insight to better understand climate change. This includes long term outlook and contributing factors. "
   ]
  },
  {
   "cell_type": "markdown",
   "id": "2c17ec2d",
   "metadata": {},
   "source": [
    "## Project Overview\n",
    "The goal of this project is to study the trends of our global climate. This will include an analysis of historical data, a prediction of future values, and a regresssion model to determine major temperature predictors."
   ]
  },
  {
   "cell_type": "code",
   "execution_count": 1,
   "id": "19abaa7b",
   "metadata": {
    "ExecuteTime": {
     "end_time": "2022-11-17T16:55:26.241047Z",
     "start_time": "2022-11-17T16:55:22.181863Z"
    }
   },
   "outputs": [],
   "source": [
    "#importing necessarly tools\n",
    "import pandas as pd\n",
    "import numpy as np\n",
    "import matplotlib.pyplot as plt\n",
    "from matplotlib.pylab import rcParams\n",
    "plt.style.use('seaborn')\n",
    "import seaborn as sns\n",
    "sns.set_style('darkgrid')\n",
    "import datetime\n",
    "from keras.models import Sequential\n",
    "from keras.layers import Dense, Dropout, LSTM\n",
    "from neuralprophet import NeuralProphet\n",
    "import warnings\n",
    "warnings.filterwarnings('ignore')\n",
    "from sklearn.metrics import mean_absolute_error\n",
    "from statsmodels.tsa.seasonal import seasonal_decompose\n",
    "from sklearn.preprocessing import MinMaxScaler\n",
    "from keras.preprocessing.sequence import TimeseriesGenerator\n",
    "import xgboost\n",
    "from xgboost import XGBRegressor\n",
    "from sklearn.model_selection import train_test_split\n",
    "from sklearn.model_selection import GridSearchCV"
   ]
  },
  {
   "cell_type": "code",
   "execution_count": 2,
   "id": "ad7cc623",
   "metadata": {
    "ExecuteTime": {
     "end_time": "2022-11-17T16:55:26.273105Z",
     "start_time": "2022-11-17T16:55:26.242338Z"
    },
    "scrolled": true
   },
   "outputs": [],
   "source": [
    "global_df = pd.read_csv('data/GlobalTemperatures.csv')\n",
    "hist_gas_df = pd.read_csv('data/historical_emissions.csv')\n",
    "gdp_df = pd.read_csv('data/gdp_growth.csv')\n",
    "pop_df = pd.read_csv('data/world_population.csv')\n",
    "forest_df = pd.read_csv('data/forest_area.csv')\n",
    "oil_df = pd.read_csv('data/oil_consumption.csv')"
   ]
  },
  {
   "cell_type": "markdown",
   "id": "ac7816a3",
   "metadata": {},
   "source": [
    "## Initial Data Exploration for Timeseries Modeling\n",
    "The first stage of this project will focus on changes on global temperature over time. We will build a model to identify trends in monthly temperature data, and eventually predict future temperature values."
   ]
  },
  {
   "cell_type": "markdown",
   "id": "502d3d7f",
   "metadata": {},
   "source": [
    "There are columns for both land and land/ocean min, max, and average temperatures. The ocean temperatures seem to have not been recorded until around l00 years later than land temps. "
   ]
  },
  {
   "cell_type": "code",
   "execution_count": 3,
   "id": "ad059bfa",
   "metadata": {
    "ExecuteTime": {
     "end_time": "2022-11-17T16:55:26.276794Z",
     "start_time": "2022-11-17T16:55:26.274043Z"
    }
   },
   "outputs": [],
   "source": [
    "#Converting time stamp column to datetime format\n",
    "global_df['dt'] = pd.to_datetime(global_df['dt'])"
   ]
  },
  {
   "cell_type": "code",
   "execution_count": 4,
   "id": "54cebcc9",
   "metadata": {
    "ExecuteTime": {
     "end_time": "2022-11-17T16:55:26.281461Z",
     "start_time": "2022-11-17T16:55:26.278302Z"
    },
    "scrolled": true
   },
   "outputs": [
    {
     "name": "stdout",
     "output_type": "stream",
     "text": [
      "lowest uncertainty: 0.034\n",
      "highest uncertainty: 7.88\n"
     ]
    }
   ],
   "source": [
    "print(\"lowest uncertainty:\", global_df['LandAverageTemperatureUncertainty'].min())\n",
    "print(\"highest uncertainty:\", global_df['LandAverageTemperatureUncertainty'].max())"
   ]
  },
  {
   "cell_type": "markdown",
   "id": "e7705973",
   "metadata": {},
   "source": [
    "There is an extremely large difference in uncertainty as recording methods have become more sophisticated. The highest uncertaintly is +/- 7.88 degrees Celcius (14.8 degrees Farenheit). I've decided to trim the least accurate quartile of data."
   ]
  },
  {
   "cell_type": "code",
   "execution_count": 5,
   "id": "4ecbd037",
   "metadata": {
    "ExecuteTime": {
     "end_time": "2022-11-17T16:55:26.291014Z",
     "start_time": "2022-11-17T16:55:26.282879Z"
    }
   },
   "outputs": [
    {
     "data": {
      "text/plain": [
       "count    3180.000000\n",
       "mean        0.938468\n",
       "std         1.096440\n",
       "min         0.034000\n",
       "25%         0.186750\n",
       "50%         0.392000\n",
       "75%         1.419250\n",
       "max         7.880000\n",
       "Name: LandAverageTemperatureUncertainty, dtype: float64"
      ]
     },
     "execution_count": 5,
     "metadata": {},
     "output_type": "execute_result"
    }
   ],
   "source": [
    "global_df['LandAverageTemperatureUncertainty'].describe()"
   ]
  },
  {
   "cell_type": "code",
   "execution_count": 6,
   "id": "5042d1e2",
   "metadata": {
    "ExecuteTime": {
     "end_time": "2022-11-17T16:55:26.298339Z",
     "start_time": "2022-11-17T16:55:26.292040Z"
    }
   },
   "outputs": [
    {
     "data": {
      "text/html": [
       "<div>\n",
       "<style scoped>\n",
       "    .dataframe tbody tr th:only-of-type {\n",
       "        vertical-align: middle;\n",
       "    }\n",
       "\n",
       "    .dataframe tbody tr th {\n",
       "        vertical-align: top;\n",
       "    }\n",
       "\n",
       "    .dataframe thead th {\n",
       "        text-align: right;\n",
       "    }\n",
       "</style>\n",
       "<table border=\"1\" class=\"dataframe\">\n",
       "  <thead>\n",
       "    <tr style=\"text-align: right;\">\n",
       "      <th></th>\n",
       "      <th>dt</th>\n",
       "      <th>LandAverageTemperature</th>\n",
       "      <th>LandAverageTemperatureUncertainty</th>\n",
       "      <th>LandMaxTemperature</th>\n",
       "      <th>LandMaxTemperatureUncertainty</th>\n",
       "      <th>LandMinTemperature</th>\n",
       "      <th>LandMinTemperatureUncertainty</th>\n",
       "      <th>LandAndOceanAverageTemperature</th>\n",
       "      <th>LandAndOceanAverageTemperatureUncertainty</th>\n",
       "    </tr>\n",
       "  </thead>\n",
       "  <tbody>\n",
       "    <tr>\n",
       "      <th>0</th>\n",
       "      <td>1750-01-01</td>\n",
       "      <td>3.034</td>\n",
       "      <td>3.574</td>\n",
       "      <td>NaN</td>\n",
       "      <td>NaN</td>\n",
       "      <td>NaN</td>\n",
       "      <td>NaN</td>\n",
       "      <td>NaN</td>\n",
       "      <td>NaN</td>\n",
       "    </tr>\n",
       "    <tr>\n",
       "      <th>1</th>\n",
       "      <td>1750-02-01</td>\n",
       "      <td>3.083</td>\n",
       "      <td>3.702</td>\n",
       "      <td>NaN</td>\n",
       "      <td>NaN</td>\n",
       "      <td>NaN</td>\n",
       "      <td>NaN</td>\n",
       "      <td>NaN</td>\n",
       "      <td>NaN</td>\n",
       "    </tr>\n",
       "    <tr>\n",
       "      <th>2</th>\n",
       "      <td>1750-03-01</td>\n",
       "      <td>5.626</td>\n",
       "      <td>3.076</td>\n",
       "      <td>NaN</td>\n",
       "      <td>NaN</td>\n",
       "      <td>NaN</td>\n",
       "      <td>NaN</td>\n",
       "      <td>NaN</td>\n",
       "      <td>NaN</td>\n",
       "    </tr>\n",
       "    <tr>\n",
       "      <th>3</th>\n",
       "      <td>1750-04-01</td>\n",
       "      <td>8.490</td>\n",
       "      <td>2.451</td>\n",
       "      <td>NaN</td>\n",
       "      <td>NaN</td>\n",
       "      <td>NaN</td>\n",
       "      <td>NaN</td>\n",
       "      <td>NaN</td>\n",
       "      <td>NaN</td>\n",
       "    </tr>\n",
       "    <tr>\n",
       "      <th>4</th>\n",
       "      <td>1750-05-01</td>\n",
       "      <td>11.573</td>\n",
       "      <td>2.072</td>\n",
       "      <td>NaN</td>\n",
       "      <td>NaN</td>\n",
       "      <td>NaN</td>\n",
       "      <td>NaN</td>\n",
       "      <td>NaN</td>\n",
       "      <td>NaN</td>\n",
       "    </tr>\n",
       "  </tbody>\n",
       "</table>\n",
       "</div>"
      ],
      "text/plain": [
       "          dt  LandAverageTemperature  LandAverageTemperatureUncertainty  \\\n",
       "0 1750-01-01                   3.034                              3.574   \n",
       "1 1750-02-01                   3.083                              3.702   \n",
       "2 1750-03-01                   5.626                              3.076   \n",
       "3 1750-04-01                   8.490                              2.451   \n",
       "4 1750-05-01                  11.573                              2.072   \n",
       "\n",
       "   LandMaxTemperature  LandMaxTemperatureUncertainty  LandMinTemperature  \\\n",
       "0                 NaN                            NaN                 NaN   \n",
       "1                 NaN                            NaN                 NaN   \n",
       "2                 NaN                            NaN                 NaN   \n",
       "3                 NaN                            NaN                 NaN   \n",
       "4                 NaN                            NaN                 NaN   \n",
       "\n",
       "   LandMinTemperatureUncertainty  LandAndOceanAverageTemperature  \\\n",
       "0                            NaN                             NaN   \n",
       "1                            NaN                             NaN   \n",
       "2                            NaN                             NaN   \n",
       "3                            NaN                             NaN   \n",
       "4                            NaN                             NaN   \n",
       "\n",
       "   LandAndOceanAverageTemperatureUncertainty  \n",
       "0                                        NaN  \n",
       "1                                        NaN  \n",
       "2                                        NaN  \n",
       "3                                        NaN  \n",
       "4                                        NaN  "
      ]
     },
     "execution_count": 6,
     "metadata": {},
     "output_type": "execute_result"
    }
   ],
   "source": [
    "#as expected, the uncertainty values for earlier dates tend to be on the high side\n",
    "global_df.head()"
   ]
  },
  {
   "cell_type": "code",
   "execution_count": 7,
   "id": "1e1a2d2f",
   "metadata": {
    "ExecuteTime": {
     "end_time": "2022-11-17T16:55:26.305635Z",
     "start_time": "2022-11-17T16:55:26.299296Z"
    }
   },
   "outputs": [
    {
     "data": {
      "text/html": [
       "<div>\n",
       "<style scoped>\n",
       "    .dataframe tbody tr th:only-of-type {\n",
       "        vertical-align: middle;\n",
       "    }\n",
       "\n",
       "    .dataframe tbody tr th {\n",
       "        vertical-align: top;\n",
       "    }\n",
       "\n",
       "    .dataframe thead th {\n",
       "        text-align: right;\n",
       "    }\n",
       "</style>\n",
       "<table border=\"1\" class=\"dataframe\">\n",
       "  <thead>\n",
       "    <tr style=\"text-align: right;\">\n",
       "      <th></th>\n",
       "      <th>dt</th>\n",
       "      <th>LandAverageTemperature</th>\n",
       "      <th>LandAverageTemperatureUncertainty</th>\n",
       "      <th>LandMaxTemperature</th>\n",
       "      <th>LandMaxTemperatureUncertainty</th>\n",
       "      <th>LandMinTemperature</th>\n",
       "      <th>LandMinTemperatureUncertainty</th>\n",
       "      <th>LandAndOceanAverageTemperature</th>\n",
       "      <th>LandAndOceanAverageTemperatureUncertainty</th>\n",
       "    </tr>\n",
       "  </thead>\n",
       "  <tbody>\n",
       "    <tr>\n",
       "      <th>3187</th>\n",
       "      <td>2015-08-01</td>\n",
       "      <td>14.755</td>\n",
       "      <td>0.072</td>\n",
       "      <td>20.699</td>\n",
       "      <td>0.110</td>\n",
       "      <td>9.005</td>\n",
       "      <td>0.170</td>\n",
       "      <td>17.589</td>\n",
       "      <td>0.057</td>\n",
       "    </tr>\n",
       "    <tr>\n",
       "      <th>3188</th>\n",
       "      <td>2015-09-01</td>\n",
       "      <td>12.999</td>\n",
       "      <td>0.079</td>\n",
       "      <td>18.845</td>\n",
       "      <td>0.088</td>\n",
       "      <td>7.199</td>\n",
       "      <td>0.229</td>\n",
       "      <td>17.049</td>\n",
       "      <td>0.058</td>\n",
       "    </tr>\n",
       "    <tr>\n",
       "      <th>3189</th>\n",
       "      <td>2015-10-01</td>\n",
       "      <td>10.801</td>\n",
       "      <td>0.102</td>\n",
       "      <td>16.450</td>\n",
       "      <td>0.059</td>\n",
       "      <td>5.232</td>\n",
       "      <td>0.115</td>\n",
       "      <td>16.290</td>\n",
       "      <td>0.062</td>\n",
       "    </tr>\n",
       "    <tr>\n",
       "      <th>3190</th>\n",
       "      <td>2015-11-01</td>\n",
       "      <td>7.433</td>\n",
       "      <td>0.119</td>\n",
       "      <td>12.892</td>\n",
       "      <td>0.093</td>\n",
       "      <td>2.157</td>\n",
       "      <td>0.106</td>\n",
       "      <td>15.252</td>\n",
       "      <td>0.063</td>\n",
       "    </tr>\n",
       "    <tr>\n",
       "      <th>3191</th>\n",
       "      <td>2015-12-01</td>\n",
       "      <td>5.518</td>\n",
       "      <td>0.100</td>\n",
       "      <td>10.725</td>\n",
       "      <td>0.154</td>\n",
       "      <td>0.287</td>\n",
       "      <td>0.099</td>\n",
       "      <td>14.774</td>\n",
       "      <td>0.062</td>\n",
       "    </tr>\n",
       "  </tbody>\n",
       "</table>\n",
       "</div>"
      ],
      "text/plain": [
       "             dt  LandAverageTemperature  LandAverageTemperatureUncertainty  \\\n",
       "3187 2015-08-01                  14.755                              0.072   \n",
       "3188 2015-09-01                  12.999                              0.079   \n",
       "3189 2015-10-01                  10.801                              0.102   \n",
       "3190 2015-11-01                   7.433                              0.119   \n",
       "3191 2015-12-01                   5.518                              0.100   \n",
       "\n",
       "      LandMaxTemperature  LandMaxTemperatureUncertainty  LandMinTemperature  \\\n",
       "3187              20.699                          0.110               9.005   \n",
       "3188              18.845                          0.088               7.199   \n",
       "3189              16.450                          0.059               5.232   \n",
       "3190              12.892                          0.093               2.157   \n",
       "3191              10.725                          0.154               0.287   \n",
       "\n",
       "      LandMinTemperatureUncertainty  LandAndOceanAverageTemperature  \\\n",
       "3187                          0.170                          17.589   \n",
       "3188                          0.229                          17.049   \n",
       "3189                          0.115                          16.290   \n",
       "3190                          0.106                          15.252   \n",
       "3191                          0.099                          14.774   \n",
       "\n",
       "      LandAndOceanAverageTemperatureUncertainty  \n",
       "3187                                      0.057  \n",
       "3188                                      0.058  \n",
       "3189                                      0.062  \n",
       "3190                                      0.063  \n",
       "3191                                      0.062  "
      ]
     },
     "execution_count": 7,
     "metadata": {},
     "output_type": "execute_result"
    }
   ],
   "source": [
    "#more recent temperatures are accurate within +/- two tenths of a degree Farenheit\n",
    "global_df.tail()"
   ]
  },
  {
   "cell_type": "code",
   "execution_count": 8,
   "id": "eb765a37",
   "metadata": {
    "ExecuteTime": {
     "end_time": "2022-11-17T16:55:26.312614Z",
     "start_time": "2022-11-17T16:55:26.306578Z"
    },
    "scrolled": true
   },
   "outputs": [
    {
     "data": {
      "text/html": [
       "<div>\n",
       "<style scoped>\n",
       "    .dataframe tbody tr th:only-of-type {\n",
       "        vertical-align: middle;\n",
       "    }\n",
       "\n",
       "    .dataframe tbody tr th {\n",
       "        vertical-align: top;\n",
       "    }\n",
       "\n",
       "    .dataframe thead th {\n",
       "        text-align: right;\n",
       "    }\n",
       "</style>\n",
       "<table border=\"1\" class=\"dataframe\">\n",
       "  <thead>\n",
       "    <tr style=\"text-align: right;\">\n",
       "      <th></th>\n",
       "      <th>dt</th>\n",
       "      <th>LandAverageTemperature</th>\n",
       "      <th>LandAverageTemperatureUncertainty</th>\n",
       "      <th>LandMaxTemperature</th>\n",
       "      <th>LandMaxTemperatureUncertainty</th>\n",
       "      <th>LandMinTemperature</th>\n",
       "      <th>LandMinTemperatureUncertainty</th>\n",
       "      <th>LandAndOceanAverageTemperature</th>\n",
       "      <th>LandAndOceanAverageTemperatureUncertainty</th>\n",
       "    </tr>\n",
       "  </thead>\n",
       "  <tbody>\n",
       "    <tr>\n",
       "      <th>1155</th>\n",
       "      <td>1846-04-01</td>\n",
       "      <td>7.473</td>\n",
       "      <td>1.729</td>\n",
       "      <td>NaN</td>\n",
       "      <td>NaN</td>\n",
       "      <td>NaN</td>\n",
       "      <td>NaN</td>\n",
       "      <td>NaN</td>\n",
       "      <td>NaN</td>\n",
       "    </tr>\n",
       "    <tr>\n",
       "      <th>1166</th>\n",
       "      <td>1847-03-01</td>\n",
       "      <td>4.046</td>\n",
       "      <td>1.583</td>\n",
       "      <td>NaN</td>\n",
       "      <td>NaN</td>\n",
       "      <td>NaN</td>\n",
       "      <td>NaN</td>\n",
       "      <td>NaN</td>\n",
       "      <td>NaN</td>\n",
       "    </tr>\n",
       "    <tr>\n",
       "      <th>1177</th>\n",
       "      <td>1848-02-01</td>\n",
       "      <td>3.726</td>\n",
       "      <td>1.437</td>\n",
       "      <td>NaN</td>\n",
       "      <td>NaN</td>\n",
       "      <td>NaN</td>\n",
       "      <td>NaN</td>\n",
       "      <td>NaN</td>\n",
       "      <td>NaN</td>\n",
       "    </tr>\n",
       "    <tr>\n",
       "      <th>1237</th>\n",
       "      <td>1853-02-01</td>\n",
       "      <td>2.228</td>\n",
       "      <td>1.492</td>\n",
       "      <td>8.29</td>\n",
       "      <td>1.535</td>\n",
       "      <td>-3.213</td>\n",
       "      <td>1.783</td>\n",
       "      <td>13.362</td>\n",
       "      <td>0.457</td>\n",
       "    </tr>\n",
       "    <tr>\n",
       "      <th>1260</th>\n",
       "      <td>1855-01-01</td>\n",
       "      <td>2.522</td>\n",
       "      <td>1.465</td>\n",
       "      <td>8.22</td>\n",
       "      <td>1.099</td>\n",
       "      <td>-3.125</td>\n",
       "      <td>1.699</td>\n",
       "      <td>13.384</td>\n",
       "      <td>0.442</td>\n",
       "    </tr>\n",
       "  </tbody>\n",
       "</table>\n",
       "</div>"
      ],
      "text/plain": [
       "             dt  LandAverageTemperature  LandAverageTemperatureUncertainty  \\\n",
       "1155 1846-04-01                   7.473                              1.729   \n",
       "1166 1847-03-01                   4.046                              1.583   \n",
       "1177 1848-02-01                   3.726                              1.437   \n",
       "1237 1853-02-01                   2.228                              1.492   \n",
       "1260 1855-01-01                   2.522                              1.465   \n",
       "\n",
       "      LandMaxTemperature  LandMaxTemperatureUncertainty  LandMinTemperature  \\\n",
       "1155                 NaN                            NaN                 NaN   \n",
       "1166                 NaN                            NaN                 NaN   \n",
       "1177                 NaN                            NaN                 NaN   \n",
       "1237                8.29                          1.535              -3.213   \n",
       "1260                8.22                          1.099              -3.125   \n",
       "\n",
       "      LandMinTemperatureUncertainty  LandAndOceanAverageTemperature  \\\n",
       "1155                            NaN                             NaN   \n",
       "1166                            NaN                             NaN   \n",
       "1177                            NaN                             NaN   \n",
       "1237                          1.783                          13.362   \n",
       "1260                          1.699                          13.384   \n",
       "\n",
       "      LandAndOceanAverageTemperatureUncertainty  \n",
       "1155                                        NaN  \n",
       "1166                                        NaN  \n",
       "1177                                        NaN  \n",
       "1237                                      0.457  \n",
       "1260                                      0.442  "
      ]
     },
     "execution_count": 8,
     "metadata": {},
     "output_type": "execute_result"
    }
   ],
   "source": [
    "#determining the latest month with an uncertainty greater than cutoff threshold\n",
    "global_df[global_df['LandAverageTemperatureUncertainty']>1.4].tail()"
   ]
  },
  {
   "cell_type": "code",
   "execution_count": 9,
   "id": "18c9ccdc",
   "metadata": {
    "ExecuteTime": {
     "end_time": "2022-11-17T16:55:26.316455Z",
     "start_time": "2022-11-17T16:55:26.314023Z"
    }
   },
   "outputs": [],
   "source": [
    "#dropping all dates prior to 1856(the last year in which every recorded temp was within desired uncertainty range)\n",
    "global_df = global_df[global_df['dt'] >= '1856']"
   ]
  },
  {
   "cell_type": "code",
   "execution_count": 10,
   "id": "e2100250",
   "metadata": {
    "ExecuteTime": {
     "end_time": "2022-11-17T16:55:26.321488Z",
     "start_time": "2022-11-17T16:55:26.319232Z"
    }
   },
   "outputs": [],
   "source": [
    "#converting temps the Farenheit for interpretability\n",
    "global_df['y'] = global_df['LandAverageTemperature']*1.8+32\n",
    "global_df.rename(columns = {'dt':'ds'}, inplace = True)"
   ]
  },
  {
   "cell_type": "markdown",
   "id": "44715418",
   "metadata": {},
   "source": [
    "## Prophet Model\n",
    "Since there are no other obvious cleaning or preperation needed for our remaining data, we can start with a simple, useful model using NeuralProphet. This model calls for there to be only two columns, one with the datetime values that needs to be named 'ds' and one with the temperature values which needs to be named 'y'"
   ]
  },
  {
   "cell_type": "code",
   "execution_count": 11,
   "id": "710fd72e",
   "metadata": {
    "ExecuteTime": {
     "end_time": "2022-11-17T16:55:26.327220Z",
     "start_time": "2022-11-17T16:55:26.322343Z"
    },
    "scrolled": true
   },
   "outputs": [
    {
     "data": {
      "text/html": [
       "<div>\n",
       "<style scoped>\n",
       "    .dataframe tbody tr th:only-of-type {\n",
       "        vertical-align: middle;\n",
       "    }\n",
       "\n",
       "    .dataframe tbody tr th {\n",
       "        vertical-align: top;\n",
       "    }\n",
       "\n",
       "    .dataframe thead th {\n",
       "        text-align: right;\n",
       "    }\n",
       "</style>\n",
       "<table border=\"1\" class=\"dataframe\">\n",
       "  <thead>\n",
       "    <tr style=\"text-align: right;\">\n",
       "      <th></th>\n",
       "      <th>ds</th>\n",
       "      <th>y</th>\n",
       "    </tr>\n",
       "  </thead>\n",
       "  <tbody>\n",
       "    <tr>\n",
       "      <th>1272</th>\n",
       "      <td>1856-01-01</td>\n",
       "      <td>36.9680</td>\n",
       "    </tr>\n",
       "    <tr>\n",
       "      <th>1273</th>\n",
       "      <td>1856-02-01</td>\n",
       "      <td>36.0068</td>\n",
       "    </tr>\n",
       "    <tr>\n",
       "      <th>1274</th>\n",
       "      <td>1856-03-01</td>\n",
       "      <td>39.8696</td>\n",
       "    </tr>\n",
       "    <tr>\n",
       "      <th>1275</th>\n",
       "      <td>1856-04-01</td>\n",
       "      <td>45.9518</td>\n",
       "    </tr>\n",
       "    <tr>\n",
       "      <th>1276</th>\n",
       "      <td>1856-05-01</td>\n",
       "      <td>50.9540</td>\n",
       "    </tr>\n",
       "  </tbody>\n",
       "</table>\n",
       "</div>"
      ],
      "text/plain": [
       "             ds        y\n",
       "1272 1856-01-01  36.9680\n",
       "1273 1856-02-01  36.0068\n",
       "1274 1856-03-01  39.8696\n",
       "1275 1856-04-01  45.9518\n",
       "1276 1856-05-01  50.9540"
      ]
     },
     "execution_count": 11,
     "metadata": {},
     "output_type": "execute_result"
    }
   ],
   "source": [
    "#dropping unneccessary columns and formatting for Neural Prophet\n",
    "drop_columns = ['LandAverageTemperature',\n",
    "                'LandAverageTemperatureUncertainty',\n",
    "                'LandMaxTemperature',\n",
    "                'LandMaxTemperatureUncertainty',\n",
    "                'LandMinTemperature',\n",
    "                'LandMinTemperatureUncertainty',\n",
    "                'LandAndOceanAverageTemperature',\n",
    "                'LandAndOceanAverageTemperatureUncertainty']\n",
    "ts = global_df.drop(drop_columns, axis=1)\n",
    "ts.head()"
   ]
  },
  {
   "cell_type": "code",
   "execution_count": 12,
   "id": "bb43eefc",
   "metadata": {
    "ExecuteTime": {
     "end_time": "2022-11-17T16:55:26.330612Z",
     "start_time": "2022-11-17T16:55:26.328154Z"
    }
   },
   "outputs": [],
   "source": [
    "#taking a small sampple to take an initial look at the data\n",
    "temp_1990_2000 = ts[ts['ds'].between('1990-01-01','2000-01-01')]\n",
    "X = temp_1990_2000['ds']\n",
    "y = temp_1990_2000['y']"
   ]
  },
  {
   "cell_type": "code",
   "execution_count": 13,
   "id": "91424ede",
   "metadata": {
    "ExecuteTime": {
     "end_time": "2022-11-17T16:55:26.565037Z",
     "start_time": "2022-11-17T16:55:26.331492Z"
    },
    "scrolled": false
   },
   "outputs": [
    {
     "data": {
      "image/png": "[encoded data removed]",
      "text/plain": [
       "<Figure size 1080x576 with 1 Axes>"
      ]
     },
     "metadata": {
      "needs_background": "light"
     },
     "output_type": "display_data"
    }
   ],
   "source": [
    "pd.plotting.register_matplotlib_converters()\n",
    "ax = ts.set_index('ds').plot(figsize=(15, 8))\n",
    "ax.set_title('Historical Average Temperatures')\n",
    "ax.set_ylabel('Temperature(F)')\n",
    "ax.set_xlabel('Date')\n",
    "ax.legend(['Average Temperature']);"
   ]
  },
  {
   "cell_type": "markdown",
   "id": "7a9b34f7",
   "metadata": {},
   "source": [
    "From this broad view, we can see that there is an slight overall upward trend. As expected there is yearly seasonality that the model should automatically pick up on."
   ]
  },
  {
   "cell_type": "code",
   "execution_count": 14,
   "id": "e78f111f",
   "metadata": {
    "ExecuteTime": {
     "end_time": "2022-11-17T16:55:26.716670Z",
     "start_time": "2022-11-17T16:55:26.566367Z"
    }
   },
   "outputs": [
    {
     "data": {
      "image/png": "[encoded data removed]",
      "text/plain": [
       "<Figure size 432x288 with 1 Axes>"
      ]
     },
     "metadata": {
      "needs_background": "light"
     },
     "output_type": "display_data"
    }
   ],
   "source": [
    "#splitting off last 2 years of data as a test set\n",
    "\n",
    "ts_train = ts[ts['ds'] < pd.Timestamp('2014-01-01')]\n",
    "ts_test = ts[ts['ds'] >= pd.Timestamp('2014-01-01')]\n",
    "\n",
    "plt.title('Train/Test Sets', size=12)\n",
    "plt.plot(ts_train['ds'], ts_train['y'], label='Training set')\n",
    "plt.plot(ts_test['ds'], ts_test['y'], label='Test set', color='orange')\n",
    "plt.xlabel('Year')\n",
    "plt.ylabel('Average Monthly Temp (F)')\n",
    "plt.legend();"
   ]
  },
  {
   "cell_type": "code",
   "execution_count": 15,
   "id": "cd10e93a",
   "metadata": {
    "ExecuteTime": {
     "end_time": "2022-11-17T16:55:26.722687Z",
     "start_time": "2022-11-17T16:55:26.718017Z"
    },
    "scrolled": false
   },
   "outputs": [
    {
     "data": {
      "text/html": [
       "<div>\n",
       "<style scoped>\n",
       "    .dataframe tbody tr th:only-of-type {\n",
       "        vertical-align: middle;\n",
       "    }\n",
       "\n",
       "    .dataframe tbody tr th {\n",
       "        vertical-align: top;\n",
       "    }\n",
       "\n",
       "    .dataframe thead th {\n",
       "        text-align: right;\n",
       "    }\n",
       "</style>\n",
       "<table border=\"1\" class=\"dataframe\">\n",
       "  <thead>\n",
       "    <tr style=\"text-align: right;\">\n",
       "      <th></th>\n",
       "      <th>ds</th>\n",
       "      <th>y</th>\n",
       "    </tr>\n",
       "  </thead>\n",
       "  <tbody>\n",
       "    <tr>\n",
       "      <th>3168</th>\n",
       "      <td>2014-01-01</td>\n",
       "      <td>38.7176</td>\n",
       "    </tr>\n",
       "    <tr>\n",
       "      <th>3169</th>\n",
       "      <td>2014-02-01</td>\n",
       "      <td>38.3000</td>\n",
       "    </tr>\n",
       "    <tr>\n",
       "      <th>3170</th>\n",
       "      <td>2014-03-01</td>\n",
       "      <td>43.4804</td>\n",
       "    </tr>\n",
       "    <tr>\n",
       "      <th>3171</th>\n",
       "      <td>2014-04-01</td>\n",
       "      <td>49.2602</td>\n",
       "    </tr>\n",
       "    <tr>\n",
       "      <th>3172</th>\n",
       "      <td>2014-05-01</td>\n",
       "      <td>54.6476</td>\n",
       "    </tr>\n",
       "    <tr>\n",
       "      <th>3173</th>\n",
       "      <td>2014-06-01</td>\n",
       "      <td>57.8030</td>\n",
       "    </tr>\n",
       "    <tr>\n",
       "      <th>3174</th>\n",
       "      <td>2014-07-01</td>\n",
       "      <td>58.7714</td>\n",
       "    </tr>\n",
       "    <tr>\n",
       "      <th>3175</th>\n",
       "      <td>2014-08-01</td>\n",
       "      <td>58.7750</td>\n",
       "    </tr>\n",
       "    <tr>\n",
       "      <th>3176</th>\n",
       "      <td>2014-09-01</td>\n",
       "      <td>55.5638</td>\n",
       "    </tr>\n",
       "    <tr>\n",
       "      <th>3177</th>\n",
       "      <td>2014-10-01</td>\n",
       "      <td>50.5940</td>\n",
       "    </tr>\n",
       "    <tr>\n",
       "      <th>3178</th>\n",
       "      <td>2014-11-01</td>\n",
       "      <td>44.0834</td>\n",
       "    </tr>\n",
       "    <tr>\n",
       "      <th>3179</th>\n",
       "      <td>2014-12-01</td>\n",
       "      <td>40.7300</td>\n",
       "    </tr>\n",
       "    <tr>\n",
       "      <th>3180</th>\n",
       "      <td>2015-01-01</td>\n",
       "      <td>38.9858</td>\n",
       "    </tr>\n",
       "    <tr>\n",
       "      <th>3181</th>\n",
       "      <td>2015-02-01</td>\n",
       "      <td>40.3952</td>\n",
       "    </tr>\n",
       "    <tr>\n",
       "      <th>3182</th>\n",
       "      <td>2015-03-01</td>\n",
       "      <td>44.1320</td>\n",
       "    </tr>\n",
       "    <tr>\n",
       "      <th>3183</th>\n",
       "      <td>2015-04-01</td>\n",
       "      <td>48.7634</td>\n",
       "    </tr>\n",
       "    <tr>\n",
       "      <th>3184</th>\n",
       "      <td>2015-05-01</td>\n",
       "      <td>54.1616</td>\n",
       "    </tr>\n",
       "    <tr>\n",
       "      <th>3185</th>\n",
       "      <td>2015-06-01</td>\n",
       "      <td>58.1090</td>\n",
       "    </tr>\n",
       "    <tr>\n",
       "      <th>3186</th>\n",
       "      <td>2015-07-01</td>\n",
       "      <td>59.0918</td>\n",
       "    </tr>\n",
       "    <tr>\n",
       "      <th>3187</th>\n",
       "      <td>2015-08-01</td>\n",
       "      <td>58.5590</td>\n",
       "    </tr>\n",
       "    <tr>\n",
       "      <th>3188</th>\n",
       "      <td>2015-09-01</td>\n",
       "      <td>55.3982</td>\n",
       "    </tr>\n",
       "    <tr>\n",
       "      <th>3189</th>\n",
       "      <td>2015-10-01</td>\n",
       "      <td>51.4418</td>\n",
       "    </tr>\n",
       "    <tr>\n",
       "      <th>3190</th>\n",
       "      <td>2015-11-01</td>\n",
       "      <td>45.3794</td>\n",
       "    </tr>\n",
       "    <tr>\n",
       "      <th>3191</th>\n",
       "      <td>2015-12-01</td>\n",
       "      <td>41.9324</td>\n",
       "    </tr>\n",
       "  </tbody>\n",
       "</table>\n",
       "</div>"
      ],
      "text/plain": [
       "             ds        y\n",
       "3168 2014-01-01  38.7176\n",
       "3169 2014-02-01  38.3000\n",
       "3170 2014-03-01  43.4804\n",
       "3171 2014-04-01  49.2602\n",
       "3172 2014-05-01  54.6476\n",
       "3173 2014-06-01  57.8030\n",
       "3174 2014-07-01  58.7714\n",
       "3175 2014-08-01  58.7750\n",
       "3176 2014-09-01  55.5638\n",
       "3177 2014-10-01  50.5940\n",
       "3178 2014-11-01  44.0834\n",
       "3179 2014-12-01  40.7300\n",
       "3180 2015-01-01  38.9858\n",
       "3181 2015-02-01  40.3952\n",
       "3182 2015-03-01  44.1320\n",
       "3183 2015-04-01  48.7634\n",
       "3184 2015-05-01  54.1616\n",
       "3185 2015-06-01  58.1090\n",
       "3186 2015-07-01  59.0918\n",
       "3187 2015-08-01  58.5590\n",
       "3188 2015-09-01  55.3982\n",
       "3189 2015-10-01  51.4418\n",
       "3190 2015-11-01  45.3794\n",
       "3191 2015-12-01  41.9324"
      ]
     },
     "execution_count": 15,
     "metadata": {},
     "output_type": "execute_result"
    }
   ],
   "source": [
    "#checking test set dates\n",
    "ts_test"
   ]
  },
  {
   "cell_type": "markdown",
   "id": "eb42c6b6",
   "metadata": {},
   "source": [
    "### Intitial Modeling\n",
    "The next step is to fit a NeuralProphet model to the timeseries. For the baseline model the only parameters we'll pass will be to prioritize MAE as the preferred metric to optimize. Once used to predict the test set, the model will return a validation MAE score as well as the components (trend and seasonality) applied to make the predictions. If the resulting MAE score is satisfactory, we can then broadcast those prediction out for future forecasts. For something as gradual as global temperature averages, we will try a longer term forecast of 30 years."
   ]
  },
  {
   "cell_type": "code",
   "execution_count": 16,
   "id": "49ab86d1",
   "metadata": {
    "ExecuteTime": {
     "end_time": "2022-11-17T16:55:32.873798Z",
     "start_time": "2022-11-17T16:55:26.724377Z"
    },
    "scrolled": true
   },
   "outputs": [
    {
     "name": "stderr",
     "output_type": "stream",
     "text": [
      "INFO - (NP.df_utils._infer_frequency) - Major frequency MS corresponds to 91.614% of the data.\n",
      "INFO - (NP.df_utils._infer_frequency) - Defined frequency is equal to major frequency - MS\n",
      "INFO - (NP.config.init_data_params) - Setting normalization to global as only one dataframe provided for training.\n",
      "INFO - (NP.utils.set_auto_seasonalities) - Disabling weekly seasonality. Run NeuralProphet with weekly_seasonality=True to override this.\n",
      "INFO - (NP.utils.set_auto_seasonalities) - Disabling daily seasonality. Run NeuralProphet with daily_seasonality=True to override this.\n",
      "INFO - (NP.config.set_auto_batch_epoch) - Auto-set batch_size to 32\n",
      "INFO - (NP.config.set_auto_batch_epoch) - Auto-set epochs to 160\n"
     ]
    },
    {
     "data": {
      "application/vnd.jupyter.widget-view+json": {
       "model_id": "8136e00d035845849f5e2f7350e00c60",
       "version_major": 2,
       "version_minor": 0
      },
      "text/plain": [
       "  0%|          | 0/132 [00:00<?, ?it/s]"
      ]
     },
     "metadata": {},
     "output_type": "display_data"
    },
    {
     "name": "stderr",
     "output_type": "stream",
     "text": [
      "INFO - (NP.utils_torch.lr_range_test) - lr-range-test results: steep: 8.10E-02, min: 1.19E+00\n"
     ]
    },
    {
     "data": {
      "application/vnd.jupyter.widget-view+json": {
       "model_id": "8155d6fb70b84c97b69967d9990208ca",
       "version_major": 2,
       "version_minor": 0
      },
      "text/plain": [
       "  0%|          | 0/132 [00:00<?, ?it/s]"
      ]
     },
     "metadata": {},
     "output_type": "display_data"
    },
    {
     "name": "stderr",
     "output_type": "stream",
     "text": [
      "INFO - (NP.utils_torch.lr_range_test) - lr-range-test results: steep: 9.49E-02, min: 1.79E-01\n",
      "INFO - (NP.forecaster._init_train_loader) - lr-range-test selected learning rate: 9.16E-02\n",
      "Epoch[160/160]: 100%|█| 160/160 [00:05<00:00, 27.73it/s, L1Loss=0.0193, MAE=0.48\n"
     ]
    },
    {
     "data": {
      "text/html": [
       "<div>\n",
       "<style scoped>\n",
       "    .dataframe tbody tr th:only-of-type {\n",
       "        vertical-align: middle;\n",
       "    }\n",
       "\n",
       "    .dataframe tbody tr th {\n",
       "        vertical-align: top;\n",
       "    }\n",
       "\n",
       "    .dataframe thead th {\n",
       "        text-align: right;\n",
       "    }\n",
       "</style>\n",
       "<table border=\"1\" class=\"dataframe\">\n",
       "  <thead>\n",
       "    <tr style=\"text-align: right;\">\n",
       "      <th></th>\n",
       "      <th>L1Loss</th>\n",
       "      <th>MAE</th>\n",
       "      <th>RMSE</th>\n",
       "      <th>Loss</th>\n",
       "      <th>RegLoss</th>\n",
       "      <th>L1Loss_val</th>\n",
       "      <th>MAE_val</th>\n",
       "      <th>RMSE_val</th>\n",
       "    </tr>\n",
       "  </thead>\n",
       "  <tbody>\n",
       "    <tr>\n",
       "      <th>0</th>\n",
       "      <td>1.424897</td>\n",
       "      <td>35.691965</td>\n",
       "      <td>40.852027</td>\n",
       "      <td>1.081746</td>\n",
       "      <td>0.0</td>\n",
       "      <td>1.383941</td>\n",
       "      <td>34.666061</td>\n",
       "      <td>39.020642</td>\n",
       "    </tr>\n",
       "    <tr>\n",
       "      <th>1</th>\n",
       "      <td>1.303291</td>\n",
       "      <td>32.645871</td>\n",
       "      <td>37.896478</td>\n",
       "      <td>0.984459</td>\n",
       "      <td>0.0</td>\n",
       "      <td>1.251197</td>\n",
       "      <td>31.340977</td>\n",
       "      <td>35.779400</td>\n",
       "    </tr>\n",
       "    <tr>\n",
       "      <th>2</th>\n",
       "      <td>1.148677</td>\n",
       "      <td>28.772978</td>\n",
       "      <td>34.094686</td>\n",
       "      <td>0.861035</td>\n",
       "      <td>0.0</td>\n",
       "      <td>1.073594</td>\n",
       "      <td>26.892233</td>\n",
       "      <td>31.392531</td>\n",
       "    </tr>\n",
       "    <tr>\n",
       "      <th>3</th>\n",
       "      <td>0.950671</td>\n",
       "      <td>23.813179</td>\n",
       "      <td>29.003890</td>\n",
       "      <td>0.705014</td>\n",
       "      <td>0.0</td>\n",
       "      <td>0.850672</td>\n",
       "      <td>21.308314</td>\n",
       "      <td>25.749957</td>\n",
       "    </tr>\n",
       "    <tr>\n",
       "      <th>4</th>\n",
       "      <td>0.699414</td>\n",
       "      <td>17.519469</td>\n",
       "      <td>22.529463</td>\n",
       "      <td>0.507607</td>\n",
       "      <td>0.0</td>\n",
       "      <td>0.606793</td>\n",
       "      <td>15.199444</td>\n",
       "      <td>19.413364</td>\n",
       "    </tr>\n",
       "    <tr>\n",
       "      <th>...</th>\n",
       "      <td>...</td>\n",
       "      <td>...</td>\n",
       "      <td>...</td>\n",
       "      <td>...</td>\n",
       "      <td>...</td>\n",
       "      <td>...</td>\n",
       "      <td>...</td>\n",
       "      <td>...</td>\n",
       "    </tr>\n",
       "    <tr>\n",
       "      <th>155</th>\n",
       "      <td>0.019540</td>\n",
       "      <td>0.489447</td>\n",
       "      <td>0.641359</td>\n",
       "      <td>0.014235</td>\n",
       "      <td>0.0</td>\n",
       "      <td>0.347513</td>\n",
       "      <td>8.704784</td>\n",
       "      <td>10.747031</td>\n",
       "    </tr>\n",
       "    <tr>\n",
       "      <th>156</th>\n",
       "      <td>0.019411</td>\n",
       "      <td>0.486216</td>\n",
       "      <td>0.636823</td>\n",
       "      <td>0.014153</td>\n",
       "      <td>0.0</td>\n",
       "      <td>0.347575</td>\n",
       "      <td>8.706343</td>\n",
       "      <td>10.748567</td>\n",
       "    </tr>\n",
       "    <tr>\n",
       "      <th>157</th>\n",
       "      <td>0.019297</td>\n",
       "      <td>0.483357</td>\n",
       "      <td>0.632118</td>\n",
       "      <td>0.014073</td>\n",
       "      <td>0.0</td>\n",
       "      <td>0.347574</td>\n",
       "      <td>8.706305</td>\n",
       "      <td>10.748478</td>\n",
       "    </tr>\n",
       "    <tr>\n",
       "      <th>158</th>\n",
       "      <td>0.019283</td>\n",
       "      <td>0.483017</td>\n",
       "      <td>0.633052</td>\n",
       "      <td>0.014060</td>\n",
       "      <td>0.0</td>\n",
       "      <td>0.347503</td>\n",
       "      <td>8.704544</td>\n",
       "      <td>10.746559</td>\n",
       "    </tr>\n",
       "    <tr>\n",
       "      <th>159</th>\n",
       "      <td>0.019272</td>\n",
       "      <td>0.482746</td>\n",
       "      <td>0.631637</td>\n",
       "      <td>0.014050</td>\n",
       "      <td>0.0</td>\n",
       "      <td>0.347517</td>\n",
       "      <td>8.704888</td>\n",
       "      <td>10.746940</td>\n",
       "    </tr>\n",
       "  </tbody>\n",
       "</table>\n",
       "<p>160 rows × 8 columns</p>\n",
       "</div>"
      ],
      "text/plain": [
       "       L1Loss        MAE       RMSE      Loss  RegLoss  L1Loss_val    MAE_val  \\\n",
       "0    1.424897  35.691965  40.852027  1.081746      0.0    1.383941  34.666061   \n",
       "1    1.303291  32.645871  37.896478  0.984459      0.0    1.251197  31.340977   \n",
       "2    1.148677  28.772978  34.094686  0.861035      0.0    1.073594  26.892233   \n",
       "3    0.950671  23.813179  29.003890  0.705014      0.0    0.850672  21.308314   \n",
       "4    0.699414  17.519469  22.529463  0.507607      0.0    0.606793  15.199444   \n",
       "..        ...        ...        ...       ...      ...         ...        ...   \n",
       "155  0.019540   0.489447   0.641359  0.014235      0.0    0.347513   8.704784   \n",
       "156  0.019411   0.486216   0.636823  0.014153      0.0    0.347575   8.706343   \n",
       "157  0.019297   0.483357   0.632118  0.014073      0.0    0.347574   8.706305   \n",
       "158  0.019283   0.483017   0.633052  0.014060      0.0    0.347503   8.704544   \n",
       "159  0.019272   0.482746   0.631637  0.014050      0.0    0.347517   8.704888   \n",
       "\n",
       "      RMSE_val  \n",
       "0    39.020642  \n",
       "1    35.779400  \n",
       "2    31.392531  \n",
       "3    25.749957  \n",
       "4    19.413364  \n",
       "..         ...  \n",
       "155  10.747031  \n",
       "156  10.748567  \n",
       "157  10.748478  \n",
       "158  10.746559  \n",
       "159  10.746940  \n",
       "\n",
       "[160 rows x 8 columns]"
      ]
     },
     "execution_count": 16,
     "metadata": {},
     "output_type": "execute_result"
    }
   ],
   "source": [
    "#fitting 'vanilla' NeuralProphet with MAE as loss function. \n",
    "m1 = NeuralProphet(loss_func='MAE')\n",
    "m1.fit(ts_train, validation_df=ts_train, freq = 'MS')"
   ]
  },
  {
   "cell_type": "code",
   "execution_count": 17,
   "id": "d1944124",
   "metadata": {
    "ExecuteTime": {
     "end_time": "2022-11-17T16:55:33.034097Z",
     "start_time": "2022-11-17T16:55:32.874872Z"
    },
    "scrolled": false
   },
   "outputs": [
    {
     "name": "stderr",
     "output_type": "stream",
     "text": [
      "INFO - (NP.df_utils._infer_frequency) - Major frequency MS corresponds to 87.5% of the data.\n",
      "INFO - (NP.df_utils._infer_frequency) - Defined frequency is equal to major frequency - MS\n",
      "INFO - (NP.df_utils._infer_frequency) - Major frequency MS corresponds to 87.5% of the data.\n",
      "INFO - (NP.df_utils._infer_frequency) - Defined frequency is equal to major frequency - MS\n",
      "INFO - (NP.df_utils.return_df_in_original_format) - Returning df with no ID column\n"
     ]
    },
    {
     "data": {
      "image/png": "[encoded data removed]",
      "text/plain": [
       "<Figure size 432x288 with 1 Axes>"
      ]
     },
     "metadata": {
      "needs_background": "light"
     },
     "output_type": "display_data"
    }
   ],
   "source": [
    "#plotting forcasted vs actual temperatures for test set\n",
    "forecast1 = m1.predict(ts_test)\n",
    "ax = plt.subplot()\n",
    "plot= m1.plot(forecast1, ax = ax)\n",
    "ax.set_title('Predicted vs Actual Temperatures')\n",
    "ax.set_xlabel('Forecast Date')\n",
    "ax.set_ylabel('Temperature (F)')\n",
    "ax.legend(['Predicted Temperature', 'Actual Temperature']);"
   ]
  },
  {
   "cell_type": "code",
   "execution_count": 18,
   "id": "1b50cdc5",
   "metadata": {
    "ExecuteTime": {
     "end_time": "2022-11-17T16:55:33.040546Z",
     "start_time": "2022-11-17T16:55:33.034967Z"
    }
   },
   "outputs": [
    {
     "data": {
      "text/html": [
       "<div>\n",
       "<style scoped>\n",
       "    .dataframe tbody tr th:only-of-type {\n",
       "        vertical-align: middle;\n",
       "    }\n",
       "\n",
       "    .dataframe tbody tr th {\n",
       "        vertical-align: top;\n",
       "    }\n",
       "\n",
       "    .dataframe thead th {\n",
       "        text-align: right;\n",
       "    }\n",
       "</style>\n",
       "<table border=\"1\" class=\"dataframe\">\n",
       "  <thead>\n",
       "    <tr style=\"text-align: right;\">\n",
       "      <th></th>\n",
       "      <th>ds</th>\n",
       "      <th>y</th>\n",
       "      <th>residual1</th>\n",
       "      <th>yhat1</th>\n",
       "      <th>trend</th>\n",
       "      <th>season_yearly</th>\n",
       "    </tr>\n",
       "  </thead>\n",
       "  <tbody>\n",
       "    <tr>\n",
       "      <th>0</th>\n",
       "      <td>2014-01-01</td>\n",
       "      <td>38.7176</td>\n",
       "      <td>-0.067022</td>\n",
       "      <td>38.650578</td>\n",
       "      <td>49.422318</td>\n",
       "      <td>-10.771738</td>\n",
       "    </tr>\n",
       "    <tr>\n",
       "      <th>1</th>\n",
       "      <td>2014-02-01</td>\n",
       "      <td>38.3000</td>\n",
       "      <td>1.270644</td>\n",
       "      <td>39.570644</td>\n",
       "      <td>49.426224</td>\n",
       "      <td>-9.855580</td>\n",
       "    </tr>\n",
       "    <tr>\n",
       "      <th>2</th>\n",
       "      <td>2014-03-01</td>\n",
       "      <td>43.4804</td>\n",
       "      <td>-0.282795</td>\n",
       "      <td>43.197605</td>\n",
       "      <td>49.429756</td>\n",
       "      <td>-6.232152</td>\n",
       "    </tr>\n",
       "    <tr>\n",
       "      <th>3</th>\n",
       "      <td>2014-04-01</td>\n",
       "      <td>49.2602</td>\n",
       "      <td>-0.348567</td>\n",
       "      <td>48.911633</td>\n",
       "      <td>49.433666</td>\n",
       "      <td>-0.522035</td>\n",
       "    </tr>\n",
       "    <tr>\n",
       "      <th>4</th>\n",
       "      <td>2014-05-01</td>\n",
       "      <td>54.6476</td>\n",
       "      <td>-0.550253</td>\n",
       "      <td>54.097347</td>\n",
       "      <td>49.437450</td>\n",
       "      <td>4.659897</td>\n",
       "    </tr>\n",
       "    <tr>\n",
       "      <th>5</th>\n",
       "      <td>2014-06-01</td>\n",
       "      <td>57.8030</td>\n",
       "      <td>0.221086</td>\n",
       "      <td>58.024086</td>\n",
       "      <td>49.441360</td>\n",
       "      <td>8.582726</td>\n",
       "    </tr>\n",
       "    <tr>\n",
       "      <th>6</th>\n",
       "      <td>2014-07-01</td>\n",
       "      <td>58.7714</td>\n",
       "      <td>0.995965</td>\n",
       "      <td>59.767365</td>\n",
       "      <td>49.445145</td>\n",
       "      <td>10.322219</td>\n",
       "    </tr>\n",
       "    <tr>\n",
       "      <th>7</th>\n",
       "      <td>2014-08-01</td>\n",
       "      <td>58.7750</td>\n",
       "      <td>0.038118</td>\n",
       "      <td>58.813118</td>\n",
       "      <td>49.449051</td>\n",
       "      <td>9.364065</td>\n",
       "    </tr>\n",
       "    <tr>\n",
       "      <th>8</th>\n",
       "      <td>2014-09-01</td>\n",
       "      <td>55.5638</td>\n",
       "      <td>0.064458</td>\n",
       "      <td>55.628258</td>\n",
       "      <td>49.452965</td>\n",
       "      <td>6.175294</td>\n",
       "    </tr>\n",
       "    <tr>\n",
       "      <th>9</th>\n",
       "      <td>2014-10-01</td>\n",
       "      <td>50.5940</td>\n",
       "      <td>0.264448</td>\n",
       "      <td>50.858448</td>\n",
       "      <td>49.456745</td>\n",
       "      <td>1.401702</td>\n",
       "    </tr>\n",
       "    <tr>\n",
       "      <th>10</th>\n",
       "      <td>2014-11-01</td>\n",
       "      <td>44.0834</td>\n",
       "      <td>0.818444</td>\n",
       "      <td>44.901844</td>\n",
       "      <td>49.460655</td>\n",
       "      <td>-4.558811</td>\n",
       "    </tr>\n",
       "    <tr>\n",
       "      <th>11</th>\n",
       "      <td>2014-12-01</td>\n",
       "      <td>40.7300</td>\n",
       "      <td>-0.287404</td>\n",
       "      <td>40.442596</td>\n",
       "      <td>49.464439</td>\n",
       "      <td>-9.021844</td>\n",
       "    </tr>\n",
       "    <tr>\n",
       "      <th>12</th>\n",
       "      <td>2015-01-01</td>\n",
       "      <td>38.9858</td>\n",
       "      <td>-0.286745</td>\n",
       "      <td>38.699055</td>\n",
       "      <td>49.468349</td>\n",
       "      <td>-10.769295</td>\n",
       "    </tr>\n",
       "    <tr>\n",
       "      <th>13</th>\n",
       "      <td>2015-02-01</td>\n",
       "      <td>40.3952</td>\n",
       "      <td>-0.797536</td>\n",
       "      <td>39.597664</td>\n",
       "      <td>49.472260</td>\n",
       "      <td>-9.874595</td>\n",
       "    </tr>\n",
       "    <tr>\n",
       "      <th>14</th>\n",
       "      <td>2015-03-01</td>\n",
       "      <td>44.1320</td>\n",
       "      <td>-0.931725</td>\n",
       "      <td>43.200275</td>\n",
       "      <td>49.475792</td>\n",
       "      <td>-6.275516</td>\n",
       "    </tr>\n",
       "    <tr>\n",
       "      <th>15</th>\n",
       "      <td>2015-04-01</td>\n",
       "      <td>48.7634</td>\n",
       "      <td>0.148889</td>\n",
       "      <td>48.912289</td>\n",
       "      <td>49.479698</td>\n",
       "      <td>-0.567412</td>\n",
       "    </tr>\n",
       "    <tr>\n",
       "      <th>16</th>\n",
       "      <td>2015-05-01</td>\n",
       "      <td>54.1616</td>\n",
       "      <td>-0.058008</td>\n",
       "      <td>54.103592</td>\n",
       "      <td>49.483482</td>\n",
       "      <td>4.620105</td>\n",
       "    </tr>\n",
       "    <tr>\n",
       "      <th>17</th>\n",
       "      <td>2015-06-01</td>\n",
       "      <td>58.1090</td>\n",
       "      <td>-0.061660</td>\n",
       "      <td>58.047340</td>\n",
       "      <td>49.487396</td>\n",
       "      <td>8.559945</td>\n",
       "    </tr>\n",
       "    <tr>\n",
       "      <th>18</th>\n",
       "      <td>2015-07-01</td>\n",
       "      <td>59.0918</td>\n",
       "      <td>0.716412</td>\n",
       "      <td>59.808212</td>\n",
       "      <td>49.491180</td>\n",
       "      <td>10.317035</td>\n",
       "    </tr>\n",
       "    <tr>\n",
       "      <th>19</th>\n",
       "      <td>2015-08-01</td>\n",
       "      <td>58.5590</td>\n",
       "      <td>0.319464</td>\n",
       "      <td>58.878464</td>\n",
       "      <td>49.495087</td>\n",
       "      <td>9.383376</td>\n",
       "    </tr>\n",
       "    <tr>\n",
       "      <th>20</th>\n",
       "      <td>2015-09-01</td>\n",
       "      <td>55.3982</td>\n",
       "      <td>0.307641</td>\n",
       "      <td>55.705841</td>\n",
       "      <td>49.498997</td>\n",
       "      <td>6.206843</td>\n",
       "    </tr>\n",
       "    <tr>\n",
       "      <th>21</th>\n",
       "      <td>2015-10-01</td>\n",
       "      <td>51.4418</td>\n",
       "      <td>-0.490048</td>\n",
       "      <td>50.951752</td>\n",
       "      <td>49.502777</td>\n",
       "      <td>1.448975</td>\n",
       "    </tr>\n",
       "    <tr>\n",
       "      <th>22</th>\n",
       "      <td>2015-11-01</td>\n",
       "      <td>45.3794</td>\n",
       "      <td>-0.386404</td>\n",
       "      <td>44.992996</td>\n",
       "      <td>49.506691</td>\n",
       "      <td>-4.513693</td>\n",
       "    </tr>\n",
       "    <tr>\n",
       "      <th>23</th>\n",
       "      <td>2015-12-01</td>\n",
       "      <td>41.9324</td>\n",
       "      <td>-1.416676</td>\n",
       "      <td>40.515724</td>\n",
       "      <td>49.510475</td>\n",
       "      <td>-8.994750</td>\n",
       "    </tr>\n",
       "  </tbody>\n",
       "</table>\n",
       "</div>"
      ],
      "text/plain": [
       "           ds        y  residual1      yhat1      trend  season_yearly\n",
       "0  2014-01-01  38.7176  -0.067022  38.650578  49.422318     -10.771738\n",
       "1  2014-02-01  38.3000   1.270644  39.570644  49.426224      -9.855580\n",
       "2  2014-03-01  43.4804  -0.282795  43.197605  49.429756      -6.232152\n",
       "3  2014-04-01  49.2602  -0.348567  48.911633  49.433666      -0.522035\n",
       "4  2014-05-01  54.6476  -0.550253  54.097347  49.437450       4.659897\n",
       "5  2014-06-01  57.8030   0.221086  58.024086  49.441360       8.582726\n",
       "6  2014-07-01  58.7714   0.995965  59.767365  49.445145      10.322219\n",
       "7  2014-08-01  58.7750   0.038118  58.813118  49.449051       9.364065\n",
       "8  2014-09-01  55.5638   0.064458  55.628258  49.452965       6.175294\n",
       "9  2014-10-01  50.5940   0.264448  50.858448  49.456745       1.401702\n",
       "10 2014-11-01  44.0834   0.818444  44.901844  49.460655      -4.558811\n",
       "11 2014-12-01  40.7300  -0.287404  40.442596  49.464439      -9.021844\n",
       "12 2015-01-01  38.9858  -0.286745  38.699055  49.468349     -10.769295\n",
       "13 2015-02-01  40.3952  -0.797536  39.597664  49.472260      -9.874595\n",
       "14 2015-03-01  44.1320  -0.931725  43.200275  49.475792      -6.275516\n",
       "15 2015-04-01  48.7634   0.148889  48.912289  49.479698      -0.567412\n",
       "16 2015-05-01  54.1616  -0.058008  54.103592  49.483482       4.620105\n",
       "17 2015-06-01  58.1090  -0.061660  58.047340  49.487396       8.559945\n",
       "18 2015-07-01  59.0918   0.716412  59.808212  49.491180      10.317035\n",
       "19 2015-08-01  58.5590   0.319464  58.878464  49.495087       9.383376\n",
       "20 2015-09-01  55.3982   0.307641  55.705841  49.498997       6.206843\n",
       "21 2015-10-01  51.4418  -0.490048  50.951752  49.502777       1.448975\n",
       "22 2015-11-01  45.3794  -0.386404  44.992996  49.506691      -4.513693\n",
       "23 2015-12-01  41.9324  -1.416676  40.515724  49.510475      -8.994750"
      ]
     },
     "execution_count": 18,
     "metadata": {},
     "output_type": "execute_result"
    }
   ],
   "source": [
    "#forecast table\n",
    "forecast1"
   ]
  },
  {
   "cell_type": "code",
   "execution_count": 19,
   "id": "c5f73dfe",
   "metadata": {
    "ExecuteTime": {
     "end_time": "2022-11-17T16:55:33.044227Z",
     "start_time": "2022-11-17T16:55:33.041442Z"
    }
   },
   "outputs": [
    {
     "data": {
      "text/plain": [
       "0.46376712799072334"
      ]
     },
     "execution_count": 19,
     "metadata": {},
     "output_type": "execute_result"
    }
   ],
   "source": [
    "#calculation MAE for test set\n",
    "mean_absolute_error(forecast1['y'], forecast1['yhat1'])"
   ]
  },
  {
   "cell_type": "code",
   "execution_count": 20,
   "id": "09fa98ea",
   "metadata": {
    "ExecuteTime": {
     "end_time": "2022-11-17T16:55:33.514931Z",
     "start_time": "2022-11-17T16:55:33.045269Z"
    },
    "scrolled": true
   },
   "outputs": [
    {
     "data": {
      "image/png": "[encoded data removed]",
      "text/plain": [
       "<Figure size 720x648 with 3 Axes>"
      ]
     },
     "metadata": {},
     "output_type": "display_data"
    }
   ],
   "source": [
    "#plotting trend and seasonality components\n",
    "params = m1.plot_parameters()"
   ]
  },
  {
   "cell_type": "markdown",
   "id": "711b95f3",
   "metadata": {},
   "source": [
    "#### Model Interpretation\n",
    "This model is performing very well with a MAE of 0.46. It is important to remember that it is only predicting one month into the future. In other words, it's unlikely that the forecast based on this data will be within .5 degrees when predicting the long term future. The only parameter I'd like to tweak is changepoint range, which is set at .8 by default, meaning that the model will not pick up on any change in trend in the last 20% of data, or around th 1970's. If you look at the trend portion of the parameters plot, this is where a significant upward trend begins. Before predicting future values, we will include all but the last 10%, identify whether this decreases the MAE, and then use the best performing parameters to predict future temperatures. "
   ]
  },
  {
   "cell_type": "markdown",
   "id": "8199b11d",
   "metadata": {},
   "source": [
    "### Second Prophet Model"
   ]
  },
  {
   "cell_type": "code",
   "execution_count": 21,
   "id": "ebbe8552",
   "metadata": {
    "ExecuteTime": {
     "end_time": "2022-11-17T16:55:39.402295Z",
     "start_time": "2022-11-17T16:55:33.515687Z"
    },
    "scrolled": true
   },
   "outputs": [
    {
     "name": "stderr",
     "output_type": "stream",
     "text": [
      "INFO - (NP.df_utils._infer_frequency) - Major frequency MS corresponds to 91.614% of the data.\n",
      "INFO - (NP.df_utils._infer_frequency) - Defined frequency is equal to major frequency - MS\n",
      "INFO - (NP.config.init_data_params) - Setting normalization to global as only one dataframe provided for training.\n",
      "INFO - (NP.utils.set_auto_seasonalities) - Disabling weekly seasonality. Run NeuralProphet with weekly_seasonality=True to override this.\n",
      "INFO - (NP.utils.set_auto_seasonalities) - Disabling daily seasonality. Run NeuralProphet with daily_seasonality=True to override this.\n",
      "INFO - (NP.config.set_auto_batch_epoch) - Auto-set batch_size to 32\n",
      "INFO - (NP.config.set_auto_batch_epoch) - Auto-set epochs to 160\n"
     ]
    },
    {
     "data": {
      "application/vnd.jupyter.widget-view+json": {
       "model_id": "39dcd42bae744ebb9da6e558bce96611",
       "version_major": 2,
       "version_minor": 0
      },
      "text/plain": [
       "  0%|          | 0/132 [00:00<?, ?it/s]"
      ]
     },
     "metadata": {},
     "output_type": "display_data"
    },
    {
     "name": "stderr",
     "output_type": "stream",
     "text": [
      "INFO - (NP.utils_torch.lr_range_test) - lr-range-test results: steep: 5.41E-01, min: 5.04E-02\n"
     ]
    },
    {
     "data": {
      "application/vnd.jupyter.widget-view+json": {
       "model_id": "a7fe4ea9285346c390ecd994831c2950",
       "version_major": 2,
       "version_minor": 0
      },
      "text/plain": [
       "  0%|          | 0/132 [00:00<?, ?it/s]"
      ]
     },
     "metadata": {},
     "output_type": "display_data"
    },
    {
     "name": "stderr",
     "output_type": "stream",
     "text": [
      "INFO - (NP.utils_torch.lr_range_test) - lr-range-test results: steep: 6.33E-01, min: 4.30E-02\n",
      "INFO - (NP.forecaster._init_train_loader) - lr-range-test selected learning rate: 3.25E-01\n",
      "Epoch[160/160]: 100%|█| 160/160 [00:05<00:00, 28.78it/s, L1Loss=0.0193, MAE=0.48\n"
     ]
    },
    {
     "data": {
      "text/html": [
       "<div>\n",
       "<style scoped>\n",
       "    .dataframe tbody tr th:only-of-type {\n",
       "        vertical-align: middle;\n",
       "    }\n",
       "\n",
       "    .dataframe tbody tr th {\n",
       "        vertical-align: top;\n",
       "    }\n",
       "\n",
       "    .dataframe thead th {\n",
       "        text-align: right;\n",
       "    }\n",
       "</style>\n",
       "<table border=\"1\" class=\"dataframe\">\n",
       "  <thead>\n",
       "    <tr style=\"text-align: right;\">\n",
       "      <th></th>\n",
       "      <th>L1Loss</th>\n",
       "      <th>MAE</th>\n",
       "      <th>RMSE</th>\n",
       "      <th>Loss</th>\n",
       "      <th>RegLoss</th>\n",
       "      <th>L1Loss_val</th>\n",
       "      <th>MAE_val</th>\n",
       "      <th>RMSE_val</th>\n",
       "    </tr>\n",
       "  </thead>\n",
       "  <tbody>\n",
       "    <tr>\n",
       "      <th>0</th>\n",
       "      <td>0.899753</td>\n",
       "      <td>22.537738</td>\n",
       "      <td>31.358314</td>\n",
       "      <td>0.631363</td>\n",
       "      <td>0.0</td>\n",
       "      <td>0.851123</td>\n",
       "      <td>21.319619</td>\n",
       "      <td>27.625312</td>\n",
       "    </tr>\n",
       "    <tr>\n",
       "      <th>1</th>\n",
       "      <td>0.680569</td>\n",
       "      <td>17.047433</td>\n",
       "      <td>24.018141</td>\n",
       "      <td>0.468816</td>\n",
       "      <td>0.0</td>\n",
       "      <td>0.689700</td>\n",
       "      <td>17.276161</td>\n",
       "      <td>21.239678</td>\n",
       "    </tr>\n",
       "    <tr>\n",
       "      <th>2</th>\n",
       "      <td>0.484766</td>\n",
       "      <td>12.142814</td>\n",
       "      <td>16.492931</td>\n",
       "      <td>0.320431</td>\n",
       "      <td>0.0</td>\n",
       "      <td>0.491729</td>\n",
       "      <td>12.317218</td>\n",
       "      <td>14.866129</td>\n",
       "    </tr>\n",
       "    <tr>\n",
       "      <th>3</th>\n",
       "      <td>0.266851</td>\n",
       "      <td>6.684307</td>\n",
       "      <td>9.429228</td>\n",
       "      <td>0.162579</td>\n",
       "      <td>0.0</td>\n",
       "      <td>0.414503</td>\n",
       "      <td>10.382790</td>\n",
       "      <td>12.782523</td>\n",
       "    </tr>\n",
       "    <tr>\n",
       "      <th>4</th>\n",
       "      <td>0.144762</td>\n",
       "      <td>3.626124</td>\n",
       "      <td>5.594450</td>\n",
       "      <td>0.085705</td>\n",
       "      <td>0.0</td>\n",
       "      <td>0.380322</td>\n",
       "      <td>9.526609</td>\n",
       "      <td>11.742250</td>\n",
       "    </tr>\n",
       "    <tr>\n",
       "      <th>...</th>\n",
       "      <td>...</td>\n",
       "      <td>...</td>\n",
       "      <td>...</td>\n",
       "      <td>...</td>\n",
       "      <td>...</td>\n",
       "      <td>...</td>\n",
       "      <td>...</td>\n",
       "      <td>...</td>\n",
       "    </tr>\n",
       "    <tr>\n",
       "      <th>155</th>\n",
       "      <td>0.019856</td>\n",
       "      <td>0.497374</td>\n",
       "      <td>0.649986</td>\n",
       "      <td>0.014450</td>\n",
       "      <td>0.0</td>\n",
       "      <td>0.347706</td>\n",
       "      <td>8.709617</td>\n",
       "      <td>10.751812</td>\n",
       "    </tr>\n",
       "    <tr>\n",
       "      <th>156</th>\n",
       "      <td>0.019637</td>\n",
       "      <td>0.491887</td>\n",
       "      <td>0.640421</td>\n",
       "      <td>0.014323</td>\n",
       "      <td>0.0</td>\n",
       "      <td>0.348043</td>\n",
       "      <td>8.718070</td>\n",
       "      <td>10.762064</td>\n",
       "    </tr>\n",
       "    <tr>\n",
       "      <th>157</th>\n",
       "      <td>0.019527</td>\n",
       "      <td>0.489121</td>\n",
       "      <td>0.639649</td>\n",
       "      <td>0.014228</td>\n",
       "      <td>0.0</td>\n",
       "      <td>0.347118</td>\n",
       "      <td>8.694881</td>\n",
       "      <td>10.734627</td>\n",
       "    </tr>\n",
       "    <tr>\n",
       "      <th>158</th>\n",
       "      <td>0.019405</td>\n",
       "      <td>0.486084</td>\n",
       "      <td>0.638282</td>\n",
       "      <td>0.014113</td>\n",
       "      <td>0.0</td>\n",
       "      <td>0.347362</td>\n",
       "      <td>8.700996</td>\n",
       "      <td>10.742184</td>\n",
       "    </tr>\n",
       "    <tr>\n",
       "      <th>159</th>\n",
       "      <td>0.019339</td>\n",
       "      <td>0.484415</td>\n",
       "      <td>0.633674</td>\n",
       "      <td>0.014067</td>\n",
       "      <td>0.0</td>\n",
       "      <td>0.347373</td>\n",
       "      <td>8.701275</td>\n",
       "      <td>10.742642</td>\n",
       "    </tr>\n",
       "  </tbody>\n",
       "</table>\n",
       "<p>160 rows × 8 columns</p>\n",
       "</div>"
      ],
      "text/plain": [
       "       L1Loss        MAE       RMSE      Loss  RegLoss  L1Loss_val    MAE_val  \\\n",
       "0    0.899753  22.537738  31.358314  0.631363      0.0    0.851123  21.319619   \n",
       "1    0.680569  17.047433  24.018141  0.468816      0.0    0.689700  17.276161   \n",
       "2    0.484766  12.142814  16.492931  0.320431      0.0    0.491729  12.317218   \n",
       "3    0.266851   6.684307   9.429228  0.162579      0.0    0.414503  10.382790   \n",
       "4    0.144762   3.626124   5.594450  0.085705      0.0    0.380322   9.526609   \n",
       "..        ...        ...        ...       ...      ...         ...        ...   \n",
       "155  0.019856   0.497374   0.649986  0.014450      0.0    0.347706   8.709617   \n",
       "156  0.019637   0.491887   0.640421  0.014323      0.0    0.348043   8.718070   \n",
       "157  0.019527   0.489121   0.639649  0.014228      0.0    0.347118   8.694881   \n",
       "158  0.019405   0.486084   0.638282  0.014113      0.0    0.347362   8.700996   \n",
       "159  0.019339   0.484415   0.633674  0.014067      0.0    0.347373   8.701275   \n",
       "\n",
       "      RMSE_val  \n",
       "0    27.625312  \n",
       "1    21.239678  \n",
       "2    14.866129  \n",
       "3    12.782523  \n",
       "4    11.742250  \n",
       "..         ...  \n",
       "155  10.751812  \n",
       "156  10.762064  \n",
       "157  10.734627  \n",
       "158  10.742184  \n",
       "159  10.742642  \n",
       "\n",
       "[160 rows x 8 columns]"
      ]
     },
     "execution_count": 21,
     "metadata": {},
     "output_type": "execute_result"
    }
   ],
   "source": [
    "#fitting new Prophet model with larger changepoint range\n",
    "m2 = m1 = NeuralProphet(loss_func='MAE', changepoints_range =.9)\n",
    "m2.fit(ts_train, validation_df=ts_train, freq = 'MS')"
   ]
  },
  {
   "cell_type": "code",
   "execution_count": 22,
   "id": "d96cc0a0",
   "metadata": {
    "ExecuteTime": {
     "end_time": "2022-11-17T16:55:39.557288Z",
     "start_time": "2022-11-17T16:55:39.403334Z"
    }
   },
   "outputs": [
    {
     "name": "stderr",
     "output_type": "stream",
     "text": [
      "INFO - (NP.df_utils._infer_frequency) - Major frequency MS corresponds to 87.5% of the data.\n",
      "INFO - (NP.df_utils._infer_frequency) - Defined frequency is equal to major frequency - MS\n",
      "INFO - (NP.df_utils._infer_frequency) - Major frequency MS corresponds to 87.5% of the data.\n",
      "INFO - (NP.df_utils._infer_frequency) - Defined frequency is equal to major frequency - MS\n",
      "INFO - (NP.df_utils.return_df_in_original_format) - Returning df with no ID column\n"
     ]
    },
    {
     "data": {
      "image/png": "[encoded data removed]",
      "text/plain": [
       "<Figure size 432x288 with 1 Axes>"
      ]
     },
     "metadata": {
      "needs_background": "light"
     },
     "output_type": "display_data"
    }
   ],
   "source": [
    "#plotting forecasted vs actual temperatures for test set\n",
    "forecast2 = m2.predict(ts_test)\n",
    "ax = plt.subplot()\n",
    "plot= m2.plot(forecast2, ax = ax)\n",
    "ax.set_title('Predicted vs Actual Temperatures')\n",
    "ax.set_xlabel('Forecast Date')\n",
    "ax.set_ylabel('Temperature (F)')\n",
    "ax.legend(['Predicted Temperature', 'Actual Temperature']);"
   ]
  },
  {
   "cell_type": "code",
   "execution_count": 23,
   "id": "10eda0f6",
   "metadata": {
    "ExecuteTime": {
     "end_time": "2022-11-17T16:55:39.560878Z",
     "start_time": "2022-11-17T16:55:39.558243Z"
    },
    "scrolled": true
   },
   "outputs": [
    {
     "data": {
      "text/plain": [
       "0.45699523468017605"
      ]
     },
     "execution_count": 23,
     "metadata": {},
     "output_type": "execute_result"
    }
   ],
   "source": [
    "#calculating mae for test set\n",
    "mean_absolute_error(forecast2['y'], forecast2['yhat1'])"
   ]
  },
  {
   "cell_type": "code",
   "execution_count": 83,
   "id": "4b588558",
   "metadata": {
    "ExecuteTime": {
     "end_time": "2022-11-17T20:28:40.106824Z",
     "start_time": "2022-11-17T20:28:39.600342Z"
    },
    "scrolled": true
   },
   "outputs": [
    {
     "data": {
      "image/png": "[encoded data removed]",
      "text/plain": [
       "<Figure size 720x648 with 3 Axes>"
      ]
     },
     "metadata": {},
     "output_type": "display_data"
    }
   ],
   "source": [
    "#plotting trend and seasonality for second model\n",
    "params2 = m2.plot_parameters()"
   ]
  },
  {
   "cell_type": "markdown",
   "id": "8a78d250",
   "metadata": {},
   "source": [
    "#### Second Model Interpretation/Predictions\n",
    "Since this parameter change resulted in better scores, we will use this model to predict future global temperatures. Since global temperature change is seems to occur over longer timespans, we will have our model predict temps over the next 30 years.  "
   ]
  },
  {
   "cell_type": "code",
   "execution_count": 25,
   "id": "1da2fd90",
   "metadata": {
    "ExecuteTime": {
     "end_time": "2022-11-17T16:55:40.053798Z",
     "start_time": "2022-11-17T16:55:40.043740Z"
    },
    "scrolled": false
   },
   "outputs": [
    {
     "name": "stderr",
     "output_type": "stream",
     "text": [
      "INFO - (NP.df_utils._infer_frequency) - Major frequency MS corresponds to 87.5% of the data.\n",
      "INFO - (NP.df_utils._infer_frequency) - Defined frequency is equal to major frequency - MS\n",
      "INFO - (NP.df_utils.return_df_in_original_format) - Returning df with no ID column\n"
     ]
    }
   ],
   "source": [
    "#creating a dataframe of future dates\n",
    "future_dates = m2.make_future_dataframe(periods = 360, df = ts_test)"
   ]
  },
  {
   "cell_type": "code",
   "execution_count": 26,
   "id": "9f1f2767",
   "metadata": {
    "ExecuteTime": {
     "end_time": "2022-11-17T16:55:40.096535Z",
     "start_time": "2022-11-17T16:55:40.054615Z"
    },
    "scrolled": false
   },
   "outputs": [
    {
     "name": "stderr",
     "output_type": "stream",
     "text": [
      "INFO - (NP.df_utils._infer_frequency) - Major frequency MS corresponds to 91.389% of the data.\n",
      "INFO - (NP.df_utils._infer_frequency) - Defined frequency is equal to major frequency - MS\n",
      "INFO - (NP.df_utils._infer_frequency) - Major frequency MS corresponds to 91.389% of the data.\n",
      "INFO - (NP.df_utils._infer_frequency) - Defined frequency is equal to major frequency - MS\n",
      "INFO - (NP.df_utils.return_df_in_original_format) - Returning df with no ID column\n"
     ]
    }
   ],
   "source": [
    "#predicting future temperatures values\n",
    "forecast_future = m2.predict(future_dates)"
   ]
  },
  {
   "cell_type": "code",
   "execution_count": 89,
   "id": "e1a11f81",
   "metadata": {
    "ExecuteTime": {
     "end_time": "2022-11-17T20:32:51.680906Z",
     "start_time": "2022-11-17T20:32:51.512715Z"
    },
    "scrolled": false
   },
   "outputs": [
    {
     "data": {
      "image/png": "[encoded data removed]",
      "text/plain": [
       "<Figure size 432x288 with 1 Axes>"
      ]
     },
     "metadata": {
      "needs_background": "light"
     },
     "output_type": "display_data"
    }
   ],
   "source": [
    "#plotting predictions\n",
    "plt.plot(forecast_future['ds'], forecast_future['yhat1']);\n",
    "plt.xlabel('Year')\n",
    "plt.ylabel('Predicted Temperature(F)')\n",
    "plt.title('Prophet Temperature Forecast (2016-2045)');"
   ]
  },
  {
   "cell_type": "code",
   "execution_count": 28,
   "id": "8373d85e",
   "metadata": {
    "ExecuteTime": {
     "end_time": "2022-11-17T16:55:40.233045Z",
     "start_time": "2022-11-17T16:55:40.223671Z"
    },
    "scrolled": false
   },
   "outputs": [
    {
     "data": {
      "text/html": [
       "<div>\n",
       "<style scoped>\n",
       "    .dataframe tbody tr th:only-of-type {\n",
       "        vertical-align: middle;\n",
       "    }\n",
       "\n",
       "    .dataframe tbody tr th {\n",
       "        vertical-align: top;\n",
       "    }\n",
       "\n",
       "    .dataframe thead th {\n",
       "        text-align: right;\n",
       "    }\n",
       "</style>\n",
       "<table border=\"1\" class=\"dataframe\">\n",
       "  <thead>\n",
       "    <tr style=\"text-align: right;\">\n",
       "      <th></th>\n",
       "      <th>yhat1</th>\n",
       "      <th>trend</th>\n",
       "      <th>season_yearly</th>\n",
       "    </tr>\n",
       "    <tr>\n",
       "      <th>ds</th>\n",
       "      <th></th>\n",
       "      <th></th>\n",
       "      <th></th>\n",
       "    </tr>\n",
       "  </thead>\n",
       "  <tbody>\n",
       "    <tr>\n",
       "      <th>2016-12-31</th>\n",
       "      <td>49.562247</td>\n",
       "      <td>49.604182</td>\n",
       "      <td>-0.041936</td>\n",
       "    </tr>\n",
       "    <tr>\n",
       "      <th>2017-12-31</th>\n",
       "      <td>49.618573</td>\n",
       "      <td>49.655234</td>\n",
       "      <td>-0.036662</td>\n",
       "    </tr>\n",
       "    <tr>\n",
       "      <th>2018-12-31</th>\n",
       "      <td>49.669372</td>\n",
       "      <td>49.706262</td>\n",
       "      <td>-0.036891</td>\n",
       "    </tr>\n",
       "    <tr>\n",
       "      <th>2019-12-31</th>\n",
       "      <td>49.720172</td>\n",
       "      <td>49.757292</td>\n",
       "      <td>-0.037120</td>\n",
       "    </tr>\n",
       "    <tr>\n",
       "      <th>2020-12-31</th>\n",
       "      <td>49.766501</td>\n",
       "      <td>49.808436</td>\n",
       "      <td>-0.041936</td>\n",
       "    </tr>\n",
       "    <tr>\n",
       "      <th>2021-12-31</th>\n",
       "      <td>49.822827</td>\n",
       "      <td>49.859489</td>\n",
       "      <td>-0.036662</td>\n",
       "    </tr>\n",
       "    <tr>\n",
       "      <th>2022-12-31</th>\n",
       "      <td>49.873626</td>\n",
       "      <td>49.910516</td>\n",
       "      <td>-0.036891</td>\n",
       "    </tr>\n",
       "    <tr>\n",
       "      <th>2023-12-31</th>\n",
       "      <td>49.924425</td>\n",
       "      <td>49.961545</td>\n",
       "      <td>-0.037120</td>\n",
       "    </tr>\n",
       "    <tr>\n",
       "      <th>2024-12-31</th>\n",
       "      <td>49.970754</td>\n",
       "      <td>50.012690</td>\n",
       "      <td>-0.041936</td>\n",
       "    </tr>\n",
       "    <tr>\n",
       "      <th>2025-12-31</th>\n",
       "      <td>50.027080</td>\n",
       "      <td>50.063742</td>\n",
       "      <td>-0.036662</td>\n",
       "    </tr>\n",
       "    <tr>\n",
       "      <th>2026-12-31</th>\n",
       "      <td>50.077879</td>\n",
       "      <td>50.114770</td>\n",
       "      <td>-0.036891</td>\n",
       "    </tr>\n",
       "    <tr>\n",
       "      <th>2027-12-31</th>\n",
       "      <td>50.128679</td>\n",
       "      <td>50.165798</td>\n",
       "      <td>-0.037120</td>\n",
       "    </tr>\n",
       "    <tr>\n",
       "      <th>2028-12-31</th>\n",
       "      <td>50.175008</td>\n",
       "      <td>50.216943</td>\n",
       "      <td>-0.041936</td>\n",
       "    </tr>\n",
       "    <tr>\n",
       "      <th>2029-12-31</th>\n",
       "      <td>50.231333</td>\n",
       "      <td>50.267996</td>\n",
       "      <td>-0.036662</td>\n",
       "    </tr>\n",
       "    <tr>\n",
       "      <th>2030-12-31</th>\n",
       "      <td>50.282132</td>\n",
       "      <td>50.319024</td>\n",
       "      <td>-0.036891</td>\n",
       "    </tr>\n",
       "    <tr>\n",
       "      <th>2031-12-31</th>\n",
       "      <td>50.332932</td>\n",
       "      <td>50.370052</td>\n",
       "      <td>-0.037120</td>\n",
       "    </tr>\n",
       "    <tr>\n",
       "      <th>2032-12-31</th>\n",
       "      <td>50.379262</td>\n",
       "      <td>50.421197</td>\n",
       "      <td>-0.041936</td>\n",
       "    </tr>\n",
       "    <tr>\n",
       "      <th>2033-12-31</th>\n",
       "      <td>50.435587</td>\n",
       "      <td>50.472248</td>\n",
       "      <td>-0.036662</td>\n",
       "    </tr>\n",
       "    <tr>\n",
       "      <th>2034-12-31</th>\n",
       "      <td>50.486386</td>\n",
       "      <td>50.523277</td>\n",
       "      <td>-0.036891</td>\n",
       "    </tr>\n",
       "    <tr>\n",
       "      <th>2035-12-31</th>\n",
       "      <td>50.537186</td>\n",
       "      <td>50.574305</td>\n",
       "      <td>-0.037120</td>\n",
       "    </tr>\n",
       "    <tr>\n",
       "      <th>2036-12-31</th>\n",
       "      <td>50.583515</td>\n",
       "      <td>50.625451</td>\n",
       "      <td>-0.041936</td>\n",
       "    </tr>\n",
       "    <tr>\n",
       "      <th>2037-12-31</th>\n",
       "      <td>50.639841</td>\n",
       "      <td>50.676502</td>\n",
       "      <td>-0.036662</td>\n",
       "    </tr>\n",
       "    <tr>\n",
       "      <th>2038-12-31</th>\n",
       "      <td>50.690639</td>\n",
       "      <td>50.727531</td>\n",
       "      <td>-0.036891</td>\n",
       "    </tr>\n",
       "    <tr>\n",
       "      <th>2039-12-31</th>\n",
       "      <td>50.741440</td>\n",
       "      <td>50.778558</td>\n",
       "      <td>-0.037120</td>\n",
       "    </tr>\n",
       "    <tr>\n",
       "      <th>2040-12-31</th>\n",
       "      <td>50.787769</td>\n",
       "      <td>50.829705</td>\n",
       "      <td>-0.041936</td>\n",
       "    </tr>\n",
       "    <tr>\n",
       "      <th>2041-12-31</th>\n",
       "      <td>50.844094</td>\n",
       "      <td>50.880756</td>\n",
       "      <td>-0.036662</td>\n",
       "    </tr>\n",
       "    <tr>\n",
       "      <th>2042-12-31</th>\n",
       "      <td>50.894893</td>\n",
       "      <td>50.931785</td>\n",
       "      <td>-0.036891</td>\n",
       "    </tr>\n",
       "    <tr>\n",
       "      <th>2043-12-31</th>\n",
       "      <td>50.945693</td>\n",
       "      <td>50.982813</td>\n",
       "      <td>-0.037120</td>\n",
       "    </tr>\n",
       "    <tr>\n",
       "      <th>2044-12-31</th>\n",
       "      <td>50.992021</td>\n",
       "      <td>51.033958</td>\n",
       "      <td>-0.041936</td>\n",
       "    </tr>\n",
       "    <tr>\n",
       "      <th>2045-12-31</th>\n",
       "      <td>51.048347</td>\n",
       "      <td>51.085008</td>\n",
       "      <td>-0.036662</td>\n",
       "    </tr>\n",
       "  </tbody>\n",
       "</table>\n",
       "</div>"
      ],
      "text/plain": [
       "                yhat1      trend  season_yearly\n",
       "ds                                             \n",
       "2016-12-31  49.562247  49.604182      -0.041936\n",
       "2017-12-31  49.618573  49.655234      -0.036662\n",
       "2018-12-31  49.669372  49.706262      -0.036891\n",
       "2019-12-31  49.720172  49.757292      -0.037120\n",
       "2020-12-31  49.766501  49.808436      -0.041936\n",
       "2021-12-31  49.822827  49.859489      -0.036662\n",
       "2022-12-31  49.873626  49.910516      -0.036891\n",
       "2023-12-31  49.924425  49.961545      -0.037120\n",
       "2024-12-31  49.970754  50.012690      -0.041936\n",
       "2025-12-31  50.027080  50.063742      -0.036662\n",
       "2026-12-31  50.077879  50.114770      -0.036891\n",
       "2027-12-31  50.128679  50.165798      -0.037120\n",
       "2028-12-31  50.175008  50.216943      -0.041936\n",
       "2029-12-31  50.231333  50.267996      -0.036662\n",
       "2030-12-31  50.282132  50.319024      -0.036891\n",
       "2031-12-31  50.332932  50.370052      -0.037120\n",
       "2032-12-31  50.379262  50.421197      -0.041936\n",
       "2033-12-31  50.435587  50.472248      -0.036662\n",
       "2034-12-31  50.486386  50.523277      -0.036891\n",
       "2035-12-31  50.537186  50.574305      -0.037120\n",
       "2036-12-31  50.583515  50.625451      -0.041936\n",
       "2037-12-31  50.639841  50.676502      -0.036662\n",
       "2038-12-31  50.690639  50.727531      -0.036891\n",
       "2039-12-31  50.741440  50.778558      -0.037120\n",
       "2040-12-31  50.787769  50.829705      -0.041936\n",
       "2041-12-31  50.844094  50.880756      -0.036662\n",
       "2042-12-31  50.894893  50.931785      -0.036891\n",
       "2043-12-31  50.945693  50.982813      -0.037120\n",
       "2044-12-31  50.992021  51.033958      -0.041936\n",
       "2045-12-31  51.048347  51.085008      -0.036662"
      ]
     },
     "execution_count": 28,
     "metadata": {},
     "output_type": "execute_result"
    }
   ],
   "source": [
    "#grouping forcasts by yearly average\n",
    "forecast_future.groupby(pd.Grouper(key=\"ds\", freq=\"Y\")).mean()"
   ]
  },
  {
   "cell_type": "markdown",
   "id": "aad67d6b",
   "metadata": {},
   "source": [
    "### Prophet Summary\n",
    "The final Prophet model also picked up on a significant upward trend beginning in the 1970's. With a one month lag, the model is performing well, with a MAE of .459. The model suggests that global average temperatures will increase by another 1.5 degrees over the next 30 years. This is roughly on par with the predictions from the U.S. Global Change Research Program's 2016 Climate Science Special Report, which predicts an increase of 2 to 4 degrees by mid 21st century (2036-2065), depending on a number of factors."
   ]
  },
  {
   "cell_type": "markdown",
   "id": "aa877df1",
   "metadata": {},
   "source": [
    "## LSTM Model\n",
    "Next we will apply and LSTM (Long Short Term Memory) Model to the same timeseries data. This is a bit more involved than Prophet, which automates many of the following steps. \n",
    "1. This model requires a slightly different datafram structure than our Prophet model (DateTime Index)\n",
    "2. Resplitting into 2 year test set\n",
    "3. Scaling the data (happens automatically with prophet)"
   ]
  },
  {
   "cell_type": "code",
   "execution_count": 29,
   "id": "935cc281",
   "metadata": {
    "ExecuteTime": {
     "end_time": "2022-11-17T16:55:40.237812Z",
     "start_time": "2022-11-17T16:55:40.233945Z"
    }
   },
   "outputs": [
    {
     "data": {
      "text/html": [
       "<div>\n",
       "<style scoped>\n",
       "    .dataframe tbody tr th:only-of-type {\n",
       "        vertical-align: middle;\n",
       "    }\n",
       "\n",
       "    .dataframe tbody tr th {\n",
       "        vertical-align: top;\n",
       "    }\n",
       "\n",
       "    .dataframe thead th {\n",
       "        text-align: right;\n",
       "    }\n",
       "</style>\n",
       "<table border=\"1\" class=\"dataframe\">\n",
       "  <thead>\n",
       "    <tr style=\"text-align: right;\">\n",
       "      <th></th>\n",
       "      <th>y</th>\n",
       "    </tr>\n",
       "    <tr>\n",
       "      <th>ds</th>\n",
       "      <th></th>\n",
       "    </tr>\n",
       "  </thead>\n",
       "  <tbody>\n",
       "    <tr>\n",
       "      <th>1856-01-01</th>\n",
       "      <td>36.9680</td>\n",
       "    </tr>\n",
       "    <tr>\n",
       "      <th>1856-02-01</th>\n",
       "      <td>36.0068</td>\n",
       "    </tr>\n",
       "    <tr>\n",
       "      <th>1856-03-01</th>\n",
       "      <td>39.8696</td>\n",
       "    </tr>\n",
       "    <tr>\n",
       "      <th>1856-04-01</th>\n",
       "      <td>45.9518</td>\n",
       "    </tr>\n",
       "    <tr>\n",
       "      <th>1856-05-01</th>\n",
       "      <td>50.9540</td>\n",
       "    </tr>\n",
       "  </tbody>\n",
       "</table>\n",
       "</div>"
      ],
      "text/plain": [
       "                  y\n",
       "ds                 \n",
       "1856-01-01  36.9680\n",
       "1856-02-01  36.0068\n",
       "1856-03-01  39.8696\n",
       "1856-04-01  45.9518\n",
       "1856-05-01  50.9540"
      ]
     },
     "execution_count": 29,
     "metadata": {},
     "output_type": "execute_result"
    }
   ],
   "source": [
    "#reformatting DataFrame\n",
    "lstm_df = ts.set_index('ds')\n",
    "lstm_df.head()"
   ]
  },
  {
   "cell_type": "code",
   "execution_count": 30,
   "id": "9bb4e8fb",
   "metadata": {
    "ExecuteTime": {
     "end_time": "2022-11-17T16:55:40.731244Z",
     "start_time": "2022-11-17T16:55:40.239151Z"
    },
    "scrolled": true
   },
   "outputs": [
    {
     "data": {
      "image/png": "[encoded data removed]",
      "text/plain": [
       "<Figure size 432x288 with 4 Axes>"
      ]
     },
     "metadata": {
      "needs_background": "light"
     },
     "output_type": "display_data"
    }
   ],
   "source": [
    "#plotting a second look at trend and seasonality\n",
    "results = seasonal_decompose(lstm_df['y'])\n",
    "results = results.plot()"
   ]
  },
  {
   "cell_type": "markdown",
   "id": "00c5802b",
   "metadata": {},
   "source": [
    "We can see the same general trend that the prophet model picked up on. The seasonality is tougher to make out but has been well covered earlier in the notebook as well. We do not need to check for stationarity, as these more complex models don't require a stationary dataset. "
   ]
  },
  {
   "cell_type": "code",
   "execution_count": 31,
   "id": "41beef8e",
   "metadata": {
    "ExecuteTime": {
     "end_time": "2022-11-17T16:55:40.734297Z",
     "start_time": "2022-11-17T16:55:40.732160Z"
    }
   },
   "outputs": [],
   "source": [
    "#splitting last 2 years for test set\n",
    "lstm_train = lstm_df[lstm_df.index < pd.Timestamp('2014-01-01')]\n",
    "lstm_test = lstm_df[lstm_df.index >= pd.Timestamp('2014-01-01')]"
   ]
  },
  {
   "cell_type": "code",
   "execution_count": 32,
   "id": "2bdd2d1b",
   "metadata": {
    "ExecuteTime": {
     "end_time": "2022-11-17T16:55:40.738151Z",
     "start_time": "2022-11-17T16:55:40.735120Z"
    }
   },
   "outputs": [],
   "source": [
    "#min-max scaling data\n",
    "scaler = MinMaxScaler()\n",
    "scaler.fit(lstm_train)\n",
    "train_scaled = scaler.transform(lstm_train)\n",
    "test_scaled = scaler.transform(lstm_test)"
   ]
  },
  {
   "cell_type": "markdown",
   "id": "98c478ca",
   "metadata": {},
   "source": [
    "### Building LSTM Model\n",
    "We can now build a simple LSTM Model to see how it performs as compared to Prophet. We will have the model make predictions 1 month into the future based on values from the last 6 months. The model itself will be composed of an LSTM layer with relu activation, as well as a dense layer. As before the model will optimize based on MAE. "
   ]
  },
  {
   "cell_type": "code",
   "execution_count": 33,
   "id": "579c9910",
   "metadata": {
    "ExecuteTime": {
     "end_time": "2022-11-17T16:55:40.740671Z",
     "start_time": "2022-11-17T16:55:40.739024Z"
    }
   },
   "outputs": [],
   "source": [
    "#establishing parameters and formatting data for model\n",
    "n_input = 6\n",
    "n_features = 1 \n",
    "generator = TimeseriesGenerator(train_scaled, train_scaled, length = n_input, batch_size = 1)"
   ]
  },
  {
   "cell_type": "code",
   "execution_count": 34,
   "id": "75caab32",
   "metadata": {
    "ExecuteTime": {
     "end_time": "2022-11-17T16:55:40.864195Z",
     "start_time": "2022-11-17T16:55:40.741605Z"
    }
   },
   "outputs": [
    {
     "name": "stdout",
     "output_type": "stream",
     "text": [
      "Metal device set to: Apple M1\n",
      "WARNING:tensorflow:Layer lstm will not use cuDNN kernels since it doesn't meet the criteria. It will use a generic GPU kernel as fallback when running on GPU.\n"
     ]
    },
    {
     "name": "stderr",
     "output_type": "stream",
     "text": [
      "2022-11-17 08:55:40.745792: I tensorflow/core/common_runtime/pluggable_device/pluggable_device_factory.cc:305] Could not identify NUMA node of platform GPU ID 0, defaulting to 0. Your kernel may not have been built with NUMA support.\n",
      "2022-11-17 08:55:40.745907: I tensorflow/core/common_runtime/pluggable_device/pluggable_device_factory.cc:271] Created TensorFlow device (/job:localhost/replica:0/task:0/device:GPU:0 with 0 MB memory) -> physical PluggableDevice (device: 0, name: METAL, pci bus id: <undefined>)\n"
     ]
    }
   ],
   "source": [
    "#adding layers\n",
    "model = Sequential()\n",
    "model.add(LSTM(100, activation='relu', input_shape=(n_input, n_features)))\n",
    "model.add(Dense(1))\n",
    "model.compile(optimizer='adam', loss='mae')"
   ]
  },
  {
   "cell_type": "code",
   "execution_count": 35,
   "id": "3e1c5450",
   "metadata": {
    "ExecuteTime": {
     "end_time": "2022-11-17T16:55:40.868620Z",
     "start_time": "2022-11-17T16:55:40.865126Z"
    },
    "scrolled": false
   },
   "outputs": [
    {
     "name": "stdout",
     "output_type": "stream",
     "text": [
      "Model: \"sequential\"\n",
      "_________________________________________________________________\n",
      " Layer (type)                Output Shape              Param #   \n",
      "=================================================================\n",
      " lstm (LSTM)                 (None, 100)               40800     \n",
      "                                                                 \n",
      " dense (Dense)               (None, 1)                 101       \n",
      "                                                                 \n",
      "=================================================================\n",
      "Total params: 40,901\n",
      "Trainable params: 40,901\n",
      "Non-trainable params: 0\n",
      "_________________________________________________________________\n"
     ]
    }
   ],
   "source": [
    "#summary of model structure\n",
    "model.summary()"
   ]
  },
  {
   "cell_type": "code",
   "execution_count": 36,
   "id": "9e19d8de",
   "metadata": {
    "ExecuteTime": {
     "end_time": "2022-11-17T17:38:43.060155Z",
     "start_time": "2022-11-17T16:55:40.869381Z"
    },
    "scrolled": true
   },
   "outputs": [
    {
     "name": "stdout",
     "output_type": "stream",
     "text": [
      "Epoch 1/30\n"
     ]
    },
    {
     "name": "stderr",
     "output_type": "stream",
     "text": [
      "2022-11-17 08:55:40.891521: W tensorflow/core/platform/profile_utils/cpu_utils.cc:128] Failed to get CPU frequency: 0 Hz\n",
      "2022-11-17 08:55:41.377315: I tensorflow/core/grappler/optimizers/custom_graph_optimizer_registry.cc:113] Plugin optimizer for device_type GPU is enabled.\n"
     ]
    },
    {
     "name": "stdout",
     "output_type": "stream",
     "text": [
      "1890/1890 [==============================] - 76s 40ms/step - loss: 0.0859\n",
      "Epoch 2/30\n",
      "1890/1890 [==============================] - 82s 43ms/step - loss: 0.0388\n",
      "Epoch 3/30\n",
      "1890/1890 [==============================] - 87s 46ms/step - loss: 0.0347\n",
      "Epoch 4/30\n",
      "1890/1890 [==============================] - 89s 47ms/step - loss: 0.0312\n",
      "Epoch 5/30\n",
      "1890/1890 [==============================] - 92s 48ms/step - loss: 0.0299\n",
      "Epoch 6/30\n",
      "1890/1890 [==============================] - 82s 43ms/step - loss: 0.0289\n",
      "Epoch 7/30\n",
      "1890/1890 [==============================] - 93s 49ms/step - loss: 0.0280\n",
      "Epoch 8/30\n",
      "1890/1890 [==============================] - 89s 47ms/step - loss: 0.0278\n",
      "Epoch 9/30\n",
      "1890/1890 [==============================] - 92s 49ms/step - loss: 0.0272\n",
      "Epoch 10/30\n",
      "1890/1890 [==============================] - 91s 48ms/step - loss: 0.0271\n",
      "Epoch 11/30\n",
      "1890/1890 [==============================] - 91s 48ms/step - loss: 0.0267\n",
      "Epoch 12/30\n",
      "1890/1890 [==============================] - 81s 43ms/step - loss: 0.0262\n",
      "Epoch 13/30\n",
      "1890/1890 [==============================] - 79s 42ms/step - loss: 0.0255\n",
      "Epoch 14/30\n",
      "1890/1890 [==============================] - 88s 47ms/step - loss: 0.0252\n",
      "Epoch 15/30\n",
      "1890/1890 [==============================] - 90s 48ms/step - loss: 0.0249\n",
      "Epoch 16/30\n",
      "1890/1890 [==============================] - 86s 45ms/step - loss: 0.0247\n",
      "Epoch 17/30\n",
      "1890/1890 [==============================] - 77s 41ms/step - loss: 0.0243\n",
      "Epoch 18/30\n",
      "1890/1890 [==============================] - 82s 43ms/step - loss: 0.0246\n",
      "Epoch 19/30\n",
      "1890/1890 [==============================] - 97s 51ms/step - loss: 0.0245\n",
      "Epoch 20/30\n",
      "1890/1890 [==============================] - 81s 43ms/step - loss: 0.0238\n",
      "Epoch 21/30\n",
      "1890/1890 [==============================] - 90s 48ms/step - loss: 0.0237\n",
      "Epoch 22/30\n",
      "1890/1890 [==============================] - 79s 42ms/step - loss: 0.0240\n",
      "Epoch 23/30\n",
      "1890/1890 [==============================] - 80s 42ms/step - loss: 0.0235\n",
      "Epoch 24/30\n",
      "1890/1890 [==============================] - 83s 44ms/step - loss: 0.0240\n",
      "Epoch 25/30\n",
      "1890/1890 [==============================] - 109s 57ms/step - loss: 0.0232\n",
      "Epoch 26/30\n",
      "1890/1890 [==============================] - 88s 47ms/step - loss: 0.0234\n",
      "Epoch 27/30\n",
      "1890/1890 [==============================] - 82s 44ms/step - loss: 0.0227\n",
      "Epoch 28/30\n",
      "1890/1890 [==============================] - 80s 42ms/step - loss: 0.0229\n",
      "Epoch 29/30\n",
      "1890/1890 [==============================] - 81s 43ms/step - loss: 0.0227\n",
      "Epoch 30/30\n",
      "1890/1890 [==============================] - 85s 45ms/step - loss: 0.0229\n"
     ]
    },
    {
     "data": {
      "text/plain": [
       "<keras.callbacks.History at 0x15b3af610>"
      ]
     },
     "execution_count": 36,
     "metadata": {},
     "output_type": "execute_result"
    }
   ],
   "source": [
    "#fitting to data\n",
    "model.fit(generator, epochs=30)"
   ]
  },
  {
   "cell_type": "code",
   "execution_count": 37,
   "id": "e0a88a44",
   "metadata": {
    "ExecuteTime": {
     "end_time": "2022-11-17T17:38:43.164907Z",
     "start_time": "2022-11-17T17:38:43.063824Z"
    },
    "scrolled": true
   },
   "outputs": [
    {
     "data": {
      "text/plain": [
       "[<matplotlib.lines.Line2D at 0x16b199c40>]"
      ]
     },
     "execution_count": 37,
     "metadata": {},
     "output_type": "execute_result"
    },
    {
     "data": {
      "image/png": "[encoded data removed]",
      "text/plain": [
       "<Figure size 432x288 with 1 Axes>"
      ]
     },
     "metadata": {
      "needs_background": "light"
     },
     "output_type": "display_data"
    }
   ],
   "source": [
    "#plotting loss to make sure model performance has hit a plateau\n",
    "loss_per_epoch = model.history.history['loss']\n",
    "plt.plot(range(len(loss_per_epoch)), loss_per_epoch)"
   ]
  },
  {
   "cell_type": "code",
   "execution_count": 38,
   "id": "20981e0d",
   "metadata": {
    "ExecuteTime": {
     "end_time": "2022-11-17T17:38:43.168507Z",
     "start_time": "2022-11-17T17:38:43.166449Z"
    }
   },
   "outputs": [],
   "source": [
    "#formatting data for predictions\n",
    "last_train_batch = train_scaled[-6:]\n",
    "last_train_batch = last_train_batch.reshape((1, n_input, n_features))"
   ]
  },
  {
   "cell_type": "code",
   "execution_count": 39,
   "id": "c844303f",
   "metadata": {
    "ExecuteTime": {
     "end_time": "2022-11-17T17:38:43.420709Z",
     "start_time": "2022-11-17T17:38:43.169849Z"
    }
   },
   "outputs": [
    {
     "name": "stdout",
     "output_type": "stream",
     "text": [
      "1/1 [==============================] - 0s 206ms/step\n"
     ]
    },
    {
     "name": "stderr",
     "output_type": "stream",
     "text": [
      "2022-11-17 09:38:43.333737: I tensorflow/core/grappler/optimizers/custom_graph_optimizer_registry.cc:113] Plugin optimizer for device_type GPU is enabled.\n"
     ]
    },
    {
     "data": {
      "text/plain": [
       "array([[0.1749605]], dtype=float32)"
      ]
     },
     "execution_count": 39,
     "metadata": {},
     "output_type": "execute_result"
    }
   ],
   "source": [
    "#testing\n",
    "model.predict(last_train_batch)"
   ]
  },
  {
   "cell_type": "code",
   "execution_count": 40,
   "id": "72477889",
   "metadata": {
    "ExecuteTime": {
     "end_time": "2022-11-17T17:38:43.425334Z",
     "start_time": "2022-11-17T17:38:43.421856Z"
    }
   },
   "outputs": [
    {
     "data": {
      "text/plain": [
       "array([0.22071893])"
      ]
     },
     "execution_count": 40,
     "metadata": {},
     "output_type": "execute_result"
    }
   ],
   "source": [
    "#viewing prediction to verify that model is working correctly\n",
    "test_scaled[0]"
   ]
  },
  {
   "cell_type": "code",
   "execution_count": 41,
   "id": "9bb1d397",
   "metadata": {
    "ExecuteTime": {
     "end_time": "2022-11-17T17:38:44.164348Z",
     "start_time": "2022-11-17T17:38:43.427684Z"
    }
   },
   "outputs": [
    {
     "name": "stdout",
     "output_type": "stream",
     "text": [
      "1/1 [==============================] - 0s 13ms/step\n",
      "1/1 [==============================] - 0s 13ms/step\n",
      "1/1 [==============================] - 0s 14ms/step\n",
      "1/1 [==============================] - 0s 14ms/step\n",
      "1/1 [==============================] - 0s 15ms/step\n",
      "1/1 [==============================] - 0s 15ms/step\n",
      "1/1 [==============================] - 0s 13ms/step\n",
      "1/1 [==============================] - 0s 14ms/step\n",
      "1/1 [==============================] - 0s 14ms/step\n",
      "1/1 [==============================] - 0s 15ms/step\n",
      "1/1 [==============================] - 0s 16ms/step\n",
      "1/1 [==============================] - 0s 15ms/step\n",
      "1/1 [==============================] - 0s 13ms/step\n",
      "1/1 [==============================] - 0s 13ms/step\n",
      "1/1 [==============================] - 0s 15ms/step\n",
      "1/1 [==============================] - 0s 15ms/step\n",
      "1/1 [==============================] - 0s 14ms/step\n",
      "1/1 [==============================] - 0s 14ms/step\n",
      "1/1 [==============================] - 0s 13ms/step\n",
      "1/1 [==============================] - 0s 14ms/step\n",
      "1/1 [==============================] - 0s 14ms/step\n",
      "1/1 [==============================] - 0s 13ms/step\n",
      "1/1 [==============================] - 0s 14ms/step\n",
      "1/1 [==============================] - 0s 15ms/step\n"
     ]
    }
   ],
   "source": [
    "#predicting test data\n",
    "test_predictions = []\n",
    "\n",
    "first_eval_batch = train_scaled[-n_input:]\n",
    "current_batch = first_eval_batch.reshape((1, n_input, n_features))\n",
    "\n",
    "for i in range(len(lstm_test)):\n",
    "    \n",
    "    current_pred = model.predict(current_batch)[0]\n",
    "    \n",
    "    test_predictions.append(current_pred)\n",
    "    \n",
    "    current_batch = np.append(current_batch[:,1:,:], [[current_pred]], axis=1)"
   ]
  },
  {
   "cell_type": "code",
   "execution_count": 42,
   "id": "41a511e0",
   "metadata": {
    "ExecuteTime": {
     "end_time": "2022-11-17T17:38:44.319035Z",
     "start_time": "2022-11-17T17:38:44.165376Z"
    }
   },
   "outputs": [
    {
     "data": {
      "image/png": "[encoded data removed]",
      "text/plain": [
       "<Figure size 864x432 with 1 Axes>"
      ]
     },
     "metadata": {
      "needs_background": "light"
     },
     "output_type": "display_data"
    }
   ],
   "source": [
    "#scaling predictions back to original Farenheit values and plotting vs actual test values\n",
    "final_predictions = scaler.inverse_transform(test_predictions)\n",
    "lstm_test['predictions'] = final_predictions\n",
    "lstm_test.plot(figsize=(12,6)); "
   ]
  },
  {
   "cell_type": "code",
   "execution_count": 43,
   "id": "1e678dd0",
   "metadata": {
    "ExecuteTime": {
     "end_time": "2022-11-17T17:38:44.323867Z",
     "start_time": "2022-11-17T17:38:44.320724Z"
    }
   },
   "outputs": [
    {
     "data": {
      "text/plain": [
       "2.891437440211329"
      ]
     },
     "execution_count": 43,
     "metadata": {},
     "output_type": "execute_result"
    }
   ],
   "source": [
    "#calculating mae for lstm model\n",
    "mean_absolute_error(lstm_test['y'], lstm_test['predictions'])"
   ]
  },
  {
   "cell_type": "markdown",
   "id": "2a4d5500",
   "metadata": {},
   "source": [
    "### LSTM Model Interpretation\n",
    "This model performed very poorly as compared to the Prophet model, with a MAE of 2.89. It also took significantly longer to run. "
   ]
  },
  {
   "cell_type": "markdown",
   "id": "f6bbf1a1",
   "metadata": {},
   "source": [
    "### LSTM Summary \n",
    "The LSTM model performed poorly as compared to the Prophet model and was far more expensive computationally. With this in mind i've chosen not to forecast future temperatures with this model"
   ]
  },
  {
   "cell_type": "markdown",
   "id": "ee77b43c",
   "metadata": {},
   "source": [
    "## Regression Model Using XGBoost\n",
    "The last step in this project will be to run a regression model that takes possible contributers to climate change into account. We will use XG boost for this step and will introduce some factors commonly accepted to contribute to climate change. The data we will use covers global:\n",
    "1. Co2 Emissions (MTCO2e)\n",
    "2. Oil Consumption(TWh)\n",
    "3. Forest Area(Percentage of Land Area)\n",
    "4. GDP(Growth Rate)\n",
    "5. Population\n",
    "\n",
    "We will use these values to predict average temperature for a particular year, look at correlations, and determine which factors are most useful to the model in making temperature predictions.  "
   ]
  },
  {
   "cell_type": "markdown",
   "id": "3f9096a9",
   "metadata": {},
   "source": [
    "### Cleaning/Preproccessing \n",
    "Before we do any modeling, we will need all of these dataframes converted to the same format with a datetime index in year intervals along with the value for that year. Below I've completed these steps."
   ]
  },
  {
   "cell_type": "code",
   "execution_count": 44,
   "id": "8cd8dc06",
   "metadata": {
    "ExecuteTime": {
     "end_time": "2022-11-17T17:38:44.337070Z",
     "start_time": "2022-11-17T17:38:44.325126Z"
    }
   },
   "outputs": [],
   "source": [
    "#formatting yearly temp data\n",
    "temp_year_df = ts.groupby(pd.Grouper(key=\"ds\", freq=\"Y\")).mean().reset_index()\n",
    "temp_year_df['ds'] = temp_year_df['ds'].dt.year"
   ]
  },
  {
   "cell_type": "code",
   "execution_count": 45,
   "id": "4f6e546e",
   "metadata": {
    "ExecuteTime": {
     "end_time": "2022-11-17T17:38:44.343073Z",
     "start_time": "2022-11-17T17:38:44.338235Z"
    },
    "scrolled": true
   },
   "outputs": [
    {
     "data": {
      "text/html": [
       "<div>\n",
       "<style scoped>\n",
       "    .dataframe tbody tr th:only-of-type {\n",
       "        vertical-align: middle;\n",
       "    }\n",
       "\n",
       "    .dataframe tbody tr th {\n",
       "        vertical-align: top;\n",
       "    }\n",
       "\n",
       "    .dataframe thead th {\n",
       "        text-align: right;\n",
       "    }\n",
       "</style>\n",
       "<table border=\"1\" class=\"dataframe\">\n",
       "  <thead>\n",
       "    <tr style=\"text-align: right;\">\n",
       "      <th></th>\n",
       "      <th>y</th>\n",
       "    </tr>\n",
       "    <tr>\n",
       "      <th>ds</th>\n",
       "      <th></th>\n",
       "    </tr>\n",
       "  </thead>\n",
       "  <tbody>\n",
       "    <tr>\n",
       "      <th>1856</th>\n",
       "      <td>46.39265</td>\n",
       "    </tr>\n",
       "    <tr>\n",
       "      <th>1857</th>\n",
       "      <td>45.96470</td>\n",
       "    </tr>\n",
       "    <tr>\n",
       "      <th>1858</th>\n",
       "      <td>46.58045</td>\n",
       "    </tr>\n",
       "    <tr>\n",
       "      <th>1859</th>\n",
       "      <td>46.85360</td>\n",
       "    </tr>\n",
       "    <tr>\n",
       "      <th>1860</th>\n",
       "      <td>46.32950</td>\n",
       "    </tr>\n",
       "  </tbody>\n",
       "</table>\n",
       "</div>"
      ],
      "text/plain": [
       "             y\n",
       "ds            \n",
       "1856  46.39265\n",
       "1857  45.96470\n",
       "1858  46.58045\n",
       "1859  46.85360\n",
       "1860  46.32950"
      ]
     },
     "execution_count": 45,
     "metadata": {},
     "output_type": "execute_result"
    }
   ],
   "source": [
    "temp_year_df.set_index('ds', inplace = True)\n",
    "temp_year_df.head()"
   ]
  },
  {
   "cell_type": "code",
   "execution_count": 46,
   "id": "e73499ca",
   "metadata": {
    "ExecuteTime": {
     "end_time": "2022-11-17T17:38:44.351227Z",
     "start_time": "2022-11-17T17:38:44.344497Z"
    }
   },
   "outputs": [
    {
     "data": {
      "text/html": [
       "<div>\n",
       "<style scoped>\n",
       "    .dataframe tbody tr th:only-of-type {\n",
       "        vertical-align: middle;\n",
       "    }\n",
       "\n",
       "    .dataframe tbody tr th {\n",
       "        vertical-align: top;\n",
       "    }\n",
       "\n",
       "    .dataframe thead th {\n",
       "        text-align: right;\n",
       "    }\n",
       "</style>\n",
       "<table border=\"1\" class=\"dataframe\">\n",
       "  <thead>\n",
       "    <tr style=\"text-align: right;\">\n",
       "      <th></th>\n",
       "      <th>Forest cover</th>\n",
       "    </tr>\n",
       "    <tr>\n",
       "      <th>Year</th>\n",
       "      <th></th>\n",
       "    </tr>\n",
       "  </thead>\n",
       "  <tbody>\n",
       "    <tr>\n",
       "      <th>1990</th>\n",
       "      <td>32.518625</td>\n",
       "    </tr>\n",
       "    <tr>\n",
       "      <th>1991</th>\n",
       "      <td>32.458458</td>\n",
       "    </tr>\n",
       "    <tr>\n",
       "      <th>1992</th>\n",
       "      <td>32.398291</td>\n",
       "    </tr>\n",
       "    <tr>\n",
       "      <th>1993</th>\n",
       "      <td>32.338124</td>\n",
       "    </tr>\n",
       "    <tr>\n",
       "      <th>1994</th>\n",
       "      <td>32.277957</td>\n",
       "    </tr>\n",
       "  </tbody>\n",
       "</table>\n",
       "</div>"
      ],
      "text/plain": [
       "      Forest cover\n",
       "Year              \n",
       "1990     32.518625\n",
       "1991     32.458458\n",
       "1992     32.398291\n",
       "1993     32.338124\n",
       "1994     32.277957"
      ]
     },
     "execution_count": 46,
     "metadata": {},
     "output_type": "execute_result"
    }
   ],
   "source": [
    "#formatting forest area data\n",
    "for_drop_cols = ['Code', 'Entity']\n",
    "forest_df = forest_df[forest_df['Entity'] == 'World'].set_index('Year')\n",
    "forest_df = forest_df.drop(columns = for_drop_cols)\n",
    "forest_df.head()"
   ]
  },
  {
   "cell_type": "code",
   "execution_count": 47,
   "id": "de68c0ad",
   "metadata": {
    "ExecuteTime": {
     "end_time": "2022-11-17T17:38:44.358239Z",
     "start_time": "2022-11-17T17:38:44.352661Z"
    }
   },
   "outputs": [
    {
     "data": {
      "text/html": [
       "<div>\n",
       "<style scoped>\n",
       "    .dataframe tbody tr th:only-of-type {\n",
       "        vertical-align: middle;\n",
       "    }\n",
       "\n",
       "    .dataframe tbody tr th {\n",
       "        vertical-align: top;\n",
       "    }\n",
       "\n",
       "    .dataframe thead th {\n",
       "        text-align: right;\n",
       "    }\n",
       "</style>\n",
       "<table border=\"1\" class=\"dataframe\">\n",
       "  <thead>\n",
       "    <tr style=\"text-align: right;\">\n",
       "      <th></th>\n",
       "      <th>Oil Consumption - TWh</th>\n",
       "    </tr>\n",
       "    <tr>\n",
       "      <th>Year</th>\n",
       "      <th></th>\n",
       "    </tr>\n",
       "  </thead>\n",
       "  <tbody>\n",
       "    <tr>\n",
       "      <th>1965</th>\n",
       "      <td>17989.603516</td>\n",
       "    </tr>\n",
       "    <tr>\n",
       "      <th>1966</th>\n",
       "      <td>19341.146484</td>\n",
       "    </tr>\n",
       "    <tr>\n",
       "      <th>1967</th>\n",
       "      <td>20732.136719</td>\n",
       "    </tr>\n",
       "    <tr>\n",
       "      <th>1968</th>\n",
       "      <td>22488.332031</td>\n",
       "    </tr>\n",
       "    <tr>\n",
       "      <th>1969</th>\n",
       "      <td>24353.000000</td>\n",
       "    </tr>\n",
       "  </tbody>\n",
       "</table>\n",
       "</div>"
      ],
      "text/plain": [
       "      Oil Consumption - TWh\n",
       "Year                       \n",
       "1965           17989.603516\n",
       "1966           19341.146484\n",
       "1967           20732.136719\n",
       "1968           22488.332031\n",
       "1969           24353.000000"
      ]
     },
     "execution_count": 47,
     "metadata": {},
     "output_type": "execute_result"
    }
   ],
   "source": [
    "#formatting global oil consmption data\n",
    "oil_drop_cols = ['Entity','Code']\n",
    "oil_df = oil_df[oil_df['Entity'] == 'World']\n",
    "oil_df = oil_df.drop(columns=oil_drop_cols).set_index('Year')\n",
    "oil_df.head()"
   ]
  },
  {
   "cell_type": "code",
   "execution_count": 48,
   "id": "488b7300",
   "metadata": {
    "ExecuteTime": {
     "end_time": "2022-11-17T17:38:44.367651Z",
     "start_time": "2022-11-17T17:38:44.360620Z"
    }
   },
   "outputs": [
    {
     "data": {
      "text/html": [
       "<div>\n",
       "<style scoped>\n",
       "    .dataframe tbody tr th:only-of-type {\n",
       "        vertical-align: middle;\n",
       "    }\n",
       "\n",
       "    .dataframe tbody tr th {\n",
       "        vertical-align: top;\n",
       "    }\n",
       "\n",
       "    .dataframe thead th {\n",
       "        text-align: right;\n",
       "    }\n",
       "</style>\n",
       "<table border=\"1\" class=\"dataframe\">\n",
       "  <thead>\n",
       "    <tr style=\"text-align: right;\">\n",
       "      <th></th>\n",
       "      <th>0</th>\n",
       "    </tr>\n",
       "  </thead>\n",
       "  <tbody>\n",
       "    <tr>\n",
       "      <th>2018</th>\n",
       "      <td>36441.55</td>\n",
       "    </tr>\n",
       "    <tr>\n",
       "      <th>2017</th>\n",
       "      <td>35588.70</td>\n",
       "    </tr>\n",
       "    <tr>\n",
       "      <th>2016</th>\n",
       "      <td>35160.60</td>\n",
       "    </tr>\n",
       "    <tr>\n",
       "      <th>2015</th>\n",
       "      <td>34521.91</td>\n",
       "    </tr>\n",
       "    <tr>\n",
       "      <th>2014</th>\n",
       "      <td>34558.59</td>\n",
       "    </tr>\n",
       "  </tbody>\n",
       "</table>\n",
       "</div>"
      ],
      "text/plain": [
       "             0\n",
       "2018  36441.55\n",
       "2017  35588.70\n",
       "2016  35160.60\n",
       "2015  34521.91\n",
       "2014  34558.59"
      ]
     },
     "execution_count": 48,
     "metadata": {},
     "output_type": "execute_result"
    }
   ],
   "source": [
    "#formatting global greenhouse gas emmissions data\n",
    "gas_drop_columns = ['Country', 'Sector','Data source', 'Gas', 'Unit']\n",
    "gas_df = hist_gas_df[hist_gas_df['Country'] == 'World'].drop(columns = gas_drop_columns).transpose()\n",
    "gas_df.index = pd.to_datetime(gas_df.index)\n",
    "gas_df.index = gas_df.index.year\n",
    "gas_df.head()"
   ]
  },
  {
   "cell_type": "code",
   "execution_count": 49,
   "id": "0dfcfa9c",
   "metadata": {
    "ExecuteTime": {
     "end_time": "2022-11-17T17:38:44.378068Z",
     "start_time": "2022-11-17T17:38:44.369082Z"
    },
    "scrolled": true
   },
   "outputs": [
    {
     "data": {
      "text/html": [
       "<div>\n",
       "<style scoped>\n",
       "    .dataframe tbody tr th:only-of-type {\n",
       "        vertical-align: middle;\n",
       "    }\n",
       "\n",
       "    .dataframe tbody tr th {\n",
       "        vertical-align: top;\n",
       "    }\n",
       "\n",
       "    .dataframe thead th {\n",
       "        text-align: right;\n",
       "    }\n",
       "</style>\n",
       "<table border=\"1\" class=\"dataframe\">\n",
       "  <thead>\n",
       "    <tr style=\"text-align: right;\">\n",
       "      <th></th>\n",
       "      <th>Population</th>\n",
       "    </tr>\n",
       "    <tr>\n",
       "      <th>Year</th>\n",
       "      <th></th>\n",
       "    </tr>\n",
       "  </thead>\n",
       "  <tbody>\n",
       "    <tr>\n",
       "      <th>1990</th>\n",
       "      <td>5316175872</td>\n",
       "    </tr>\n",
       "    <tr>\n",
       "      <th>1991</th>\n",
       "      <td>5406245888</td>\n",
       "    </tr>\n",
       "    <tr>\n",
       "      <th>1992</th>\n",
       "      <td>5492686336</td>\n",
       "    </tr>\n",
       "    <tr>\n",
       "      <th>1993</th>\n",
       "      <td>5577433600</td>\n",
       "    </tr>\n",
       "    <tr>\n",
       "      <th>1994</th>\n",
       "      <td>5660727808</td>\n",
       "    </tr>\n",
       "  </tbody>\n",
       "</table>\n",
       "</div>"
      ],
      "text/plain": [
       "      Population\n",
       "Year            \n",
       "1990  5316175872\n",
       "1991  5406245888\n",
       "1992  5492686336\n",
       "1993  5577433600\n",
       "1994  5660727808"
      ]
     },
     "execution_count": 49,
     "metadata": {},
     "output_type": "execute_result"
    }
   ],
   "source": [
    "#formatting global population data\n",
    "pop_df = pop_df[pop_df['Entity'] == 'World']\n",
    "pop_df = pop_df[pop_df['Year'].between(1990,2018)]\n",
    "pop_drop_cols = ['Code', 'Entity']\n",
    "pop_df = pop_df.drop(columns=pop_drop_cols).set_index('Year')\n",
    "pop_df.head()"
   ]
  },
  {
   "cell_type": "code",
   "execution_count": 50,
   "id": "0e014511",
   "metadata": {
    "ExecuteTime": {
     "end_time": "2022-11-17T17:38:44.386472Z",
     "start_time": "2022-11-17T17:38:44.380033Z"
    },
    "scrolled": true
   },
   "outputs": [
    {
     "data": {
      "text/html": [
       "<div>\n",
       "<style scoped>\n",
       "    .dataframe tbody tr th:only-of-type {\n",
       "        vertical-align: middle;\n",
       "    }\n",
       "\n",
       "    .dataframe tbody tr th {\n",
       "        vertical-align: top;\n",
       "    }\n",
       "\n",
       "    .dataframe thead th {\n",
       "        text-align: right;\n",
       "    }\n",
       "</style>\n",
       "<table border=\"1\" class=\"dataframe\">\n",
       "  <thead>\n",
       "    <tr style=\"text-align: right;\">\n",
       "      <th></th>\n",
       "      <th>259</th>\n",
       "    </tr>\n",
       "  </thead>\n",
       "  <tbody>\n",
       "    <tr>\n",
       "      <th>1961</th>\n",
       "      <td>3.800832</td>\n",
       "    </tr>\n",
       "    <tr>\n",
       "      <th>1962</th>\n",
       "      <td>5.320280</td>\n",
       "    </tr>\n",
       "    <tr>\n",
       "      <th>1963</th>\n",
       "      <td>5.192421</td>\n",
       "    </tr>\n",
       "    <tr>\n",
       "      <th>1964</th>\n",
       "      <td>6.568749</td>\n",
       "    </tr>\n",
       "    <tr>\n",
       "      <th>1965</th>\n",
       "      <td>5.555097</td>\n",
       "    </tr>\n",
       "  </tbody>\n",
       "</table>\n",
       "</div>"
      ],
      "text/plain": [
       "           259\n",
       "1961  3.800832\n",
       "1962  5.320280\n",
       "1963  5.192421\n",
       "1964  6.568749\n",
       "1965  5.555097"
      ]
     },
     "execution_count": 50,
     "metadata": {},
     "output_type": "execute_result"
    }
   ],
   "source": [
    "#formatting global GDP growth rate data\n",
    "gdp_drop_columns = ['Code', 'Country Name']\n",
    "world_gdp = gdp_df[gdp_df['Country Name'] == \"World\"].drop(columns=gdp_drop_columns).transpose()\n",
    "world_gdp = world_gdp.dropna()\n",
    "world_gdp.index = pd.to_datetime(world_gdp.index)\n",
    "world_gdp.index = world_gdp.index.year\n",
    "world_gdp.head()"
   ]
  },
  {
   "cell_type": "code",
   "execution_count": 65,
   "id": "78d17468",
   "metadata": {
    "ExecuteTime": {
     "end_time": "2022-11-17T20:18:01.852162Z",
     "start_time": "2022-11-17T20:18:01.829454Z"
    }
   },
   "outputs": [],
   "source": [
    "#joining dataframes \n",
    "reg_df = pop_df.join(world_gdp).join(gas_df).join(temp_year_df).join(forest_df).join(oil_df)\n",
    "\n",
    "#renaming columns\n",
    "mapping = {\n",
    "    reg_df.columns[0]:'Population',\n",
    "    reg_df.columns[1]: 'GDP Growth', \n",
    "    reg_df.columns[2]:'Emissions', \n",
    "    reg_df.columns[3]: 'Average Temp', \n",
    "    reg_df.columns[4]: 'Forest Cover', \n",
    "    reg_df.columns[5]: 'Oil Consumption'\n",
    "}\n",
    "\n",
    "reg_df.rename(columns = mapping, inplace=True)"
   ]
  },
  {
   "cell_type": "code",
   "execution_count": 66,
   "id": "6001eb7f",
   "metadata": {
    "ExecuteTime": {
     "end_time": "2022-11-17T20:18:04.272253Z",
     "start_time": "2022-11-17T20:18:04.045284Z"
    },
    "scrolled": false
   },
   "outputs": [
    {
     "data": {
      "image/png": "[encoded data removed]",
      "text/plain": [
       "<Figure size 720x720 with 4 Axes>"
      ]
     },
     "metadata": {
      "needs_background": "light"
     },
     "output_type": "display_data"
    }
   ],
   "source": [
    "#dropping na values and looking at correlation\n",
    "reg_df = reg_df.dropna()\n",
    "corr_matrix = reg_df.corr()\n",
    "sns.clustermap(corr_matrix, cmap = 'Greens', annot = True);"
   ]
  },
  {
   "cell_type": "code",
   "execution_count": 92,
   "id": "39778d9b",
   "metadata": {
    "ExecuteTime": {
     "end_time": "2022-11-17T21:57:02.334215Z",
     "start_time": "2022-11-17T21:57:02.317694Z"
    }
   },
   "outputs": [],
   "source": [
    "reg_df = reg_df.drop(columns='GDP Growth')"
   ]
  },
  {
   "cell_type": "markdown",
   "id": "a22ff6ad",
   "metadata": {},
   "source": [
    "Strong correlation is present in these values, the strongest being negative correlations between forest cover and population/oil consumption. Oil consumption has the strongest correlation with average temperatures."
   ]
  },
  {
   "cell_type": "code",
   "execution_count": 91,
   "id": "c91a232d",
   "metadata": {
    "ExecuteTime": {
     "end_time": "2022-11-17T21:48:49.542612Z",
     "start_time": "2022-11-17T21:48:49.530195Z"
    }
   },
   "outputs": [
    {
     "data": {
      "text/plain": [
       "count    26.000000\n",
       "mean     48.907908\n",
       "std       0.469798\n",
       "min      47.905850\n",
       "25%      48.578862\n",
       "50%      49.043300\n",
       "75%      49.209688\n",
       "max      49.695800\n",
       "Name: Average Temp, dtype: float64"
      ]
     },
     "execution_count": 91,
     "metadata": {},
     "output_type": "execute_result"
    }
   ],
   "source": [
    "reg_df['Average Temp'].describe()"
   ]
  },
  {
   "cell_type": "code",
   "execution_count": 93,
   "id": "4fbbccdb",
   "metadata": {
    "ExecuteTime": {
     "end_time": "2022-11-17T21:57:06.568986Z",
     "start_time": "2022-11-17T21:57:06.555319Z"
    }
   },
   "outputs": [],
   "source": [
    "#performing train-test split\n",
    "X = reg_df.drop('Average Temp', axis=1)\n",
    "y = reg_df['Average Temp']\n",
    "X_train, X_test, y_train, y_test = train_test_split(X,y, test_size = .15, random_state=6)"
   ]
  },
  {
   "cell_type": "markdown",
   "id": "f1b74cc5",
   "metadata": {},
   "source": [
    "### Building XGBoost Model\n",
    "Next we will perform a grid search to see which parameters perform best using MAE as the metric to optimize"
   ]
  },
  {
   "cell_type": "code",
   "execution_count": 98,
   "id": "39677546",
   "metadata": {
    "ExecuteTime": {
     "end_time": "2022-11-17T21:57:57.173788Z",
     "start_time": "2022-11-17T21:57:57.167863Z"
    }
   },
   "outputs": [],
   "source": [
    "#creating parameter grid search for XGBoost Regressor\n",
    "boost = XGBRegressor()\n",
    "param_grid = {\n",
    "    'learning_rate': [0.01, 0.1, 0.3],\n",
    "    'max_depth': [3,4,5,6],\n",
    "    'min_child_weight': [1, 2, 3],\n",
    "    'n_estimators': [100,200]\n",
    "}"
   ]
  },
  {
   "cell_type": "code",
   "execution_count": 99,
   "id": "bd12bce7",
   "metadata": {
    "ExecuteTime": {
     "end_time": "2022-11-17T21:58:04.179158Z",
     "start_time": "2022-11-17T21:58:00.464327Z"
    }
   },
   "outputs": [
    {
     "name": "stdout",
     "output_type": "stream",
     "text": [
      "learning_rate: 0.1\n",
      "max_depth: 3\n",
      "min_child_weight: 3\n",
      "n_estimators: 100\n",
      "\n",
      "Training MAE: 0.12645060452548018\n",
      "Validation MAE: 0.4382044967651346\n"
     ]
    }
   ],
   "source": [
    "#performing grid search to optimize MAE\n",
    "grid_boost = GridSearchCV(\n",
    "    boost, \n",
    "    param_grid, \n",
    "    scoring='neg_mean_absolute_error', \n",
    "    cv=3, \n",
    "    n_jobs=1)\n",
    "grid_boost.fit(X_train, y_train)\n",
    "\n",
    "best_parameters = grid_boost.best_params_\n",
    "\n",
    "for param_name in sorted(best_parameters.keys()):\n",
    "    print('%s: %r' % (param_name, best_parameters[param_name]))\n",
    "\n",
    "training_preds = grid_boost.predict(X_train)\n",
    "test_preds = grid_boost.predict(X_test)\n",
    "training_MAE = mean_absolute_error(y_train, training_preds)\n",
    "test_MAE = mean_absolute_error(y_test, test_preds)\n",
    "#printing results\n",
    "print('')\n",
    "print('Training MAE:' ,training_MAE)\n",
    "print('Validation MAE:' ,test_MAE)"
   ]
  },
  {
   "cell_type": "code",
   "execution_count": 101,
   "id": "26303bf0",
   "metadata": {
    "ExecuteTime": {
     "end_time": "2022-11-17T21:58:17.731509Z",
     "start_time": "2022-11-17T21:58:17.607845Z"
    },
    "scrolled": true
   },
   "outputs": [
    {
     "data": {
      "image/png": "[encoded data removed]",
      "text/plain": [
       "<Figure size 432x288 with 1 Axes>"
      ]
     },
     "metadata": {
      "needs_background": "light"
     },
     "output_type": "display_data"
    }
   ],
   "source": [
    "#fitting final model and identifying most important features\n",
    "final_XGB = XGBRegressor(learning_rate=0.1, \n",
    "                         max_depth=3, \n",
    "                         min_child_weight=3, \n",
    "                         n_estimators = 100)\n",
    "\n",
    "final_XGB.fit(X_train, y_train);\n",
    "xgboost.plot_importance(final_XGB);"
   ]
  },
  {
   "cell_type": "markdown",
   "id": "eb789d15",
   "metadata": {},
   "source": [
    "# Regression Summary\n",
    "The regression model was able to perform very well, predicting a given year based on the other values with an MAE score of .43 for the validation data. The most useful features for our tuned model were:\n",
    "1. Population (135)\n",
    "2. Oil Consumption (30)\n",
    "3. Emissions (16)\n",
    "\n",
    "Due to the stochastic nature of this model, future results may vary.\n"
   ]
  },
  {
   "cell_type": "markdown",
   "id": "740bd859",
   "metadata": {},
   "source": [
    "## Conclusions\n",
    "Based on the results of the models, the following insights stand out:\n",
    "#### Temperature is trending upwards, especially after 1970 \n",
    "This coincides with the beginning of automated production lines and mass production\n",
    "\n",
    "#### There is significant correlation between population, emissions, average temp, oil consumption, and deforestation\n",
    "These values suggest that the world population is growing and consuming more fossil fuels on a year to year basis. This increase doesn't neccesarily coincide with a larger GDP.\n",
    "\n",
    "####   Population, Oil Consumption, and Emissions are strong predictors of temperature\n",
    "While association does not equate to causation, these factors can be used to effectively predict average yearly temperatures."
   ]
  },
  {
   "cell_type": "markdown",
   "id": "14e7007c",
   "metadata": {},
   "source": [
    "## Next Steps\n",
    "#### Further insight into emmissions\n",
    "Since moslt likely don't immediately affect temperature, it would be interesting to explore different lag periods to discover any sort of delay of cumulative effect that emissions have on global temperatures. \n",
    "\n",
    "#### Population Studies\n",
    "Since population size seems to be a major contributor to rising global temperatures, comparing country population, growth rates, and consumption/emmissions of those countries may lead to ways to minimize the environmental impact of a growing population.\n",
    "\n",
    "#### Seasonality Studies\n",
    "According to experts, the general trend of warming is likely to be accompanied by wider temperature swings and more extreme weather. Looking into shorter term weather data such as monthly highs, lows, and extreme weather events for smaller geograpgical areas would add more specific context to this study."
   ]
  }
 ],
 "metadata": {
  "kernelspec": {
   "display_name": "Python 3.9 (tensorflow)",
   "language": "python",
   "name": "tensorflow"
  },
  "language_info": {
   "codemirror_mode": {
    "name": "ipython",
    "version": 3
   },
   "file_extension": ".py",
   "mimetype": "text/x-python",
   "name": "python",
   "nbconvert_exporter": "python",
   "pygments_lexer": "ipython3",
   "version": "3.9.13"
  },
  "toc": {
   "base_numbering": 1,
   "nav_menu": {},
   "number_sections": true,
   "sideBar": true,
   "skip_h1_title": true,
   "title_cell": "Table of Contents",
   "title_sidebar": "Contents",
   "toc_cell": false,
   "toc_position": {},
   "toc_section_display": true,
   "toc_window_display": true
  }
 },
 "nbformat": 4,
 "nbformat_minor": 5
}

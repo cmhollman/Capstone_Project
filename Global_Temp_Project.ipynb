{
 "cells": [
  {
   "cell_type": "markdown",
   "id": "4b9f926c",
   "metadata": {},
   "source": [
    "# Climate Change Analysis \n",
    "* Student name: Chris Hollman\n",
    "* Student pace: Self paced\n",
    "* Scheduled review date/time: \n",
    "* Instructor name: Abhineet Kulkarni"
   ]
  },
  {
   "cell_type": "markdown",
   "id": "2c17ec2d",
   "metadata": {},
   "source": [
    "## Project Overview\n",
    "The goal of this project is to study the trends of our global climate. This will include an analysis of historical data, a prediction of future trends, and a regresssion model to determine associated factors. "
   ]
  },
  {
   "cell_type": "code",
   "execution_count": 115,
   "id": "19abaa7b",
   "metadata": {
    "ExecuteTime": {
     "end_time": "2022-11-16T18:27:22.889855Z",
     "start_time": "2022-11-16T18:27:22.872727Z"
    }
   },
   "outputs": [],
   "source": [
    "import pandas as pd\n",
    "import numpy as np\n",
    "import matplotlib.pyplot as plt\n",
    "from matplotlib.pylab import rcParams\n",
    "plt.style.use('seaborn')\n",
    "import seaborn as sns\n",
    "sns.set_style('darkgrid')\n",
    "import datetime\n",
    "from keras.models import Sequential\n",
    "from keras.layers import Dense, Dropout, LSTM\n",
    "from neuralprophet import NeuralProphet\n",
    "import warnings\n",
    "warnings.filterwarnings('ignore')\n",
    "from sklearn.metrics import mean_absolute_error\n",
    "from statsmodels.tsa.seasonal import seasonal_decompose\n",
    "from sklearn.preprocessing import MinMaxScaler\n",
    "from keras.preprocessing.sequence import TimeseriesGenerator\n",
    "import xgboost\n",
    "from sklearn.model_selection import train_test_split\n",
    "from sklearn.model_selection import GridSearchCV"
   ]
  },
  {
   "cell_type": "code",
   "execution_count": 46,
   "id": "ad7cc623",
   "metadata": {
    "ExecuteTime": {
     "end_time": "2022-11-16T17:16:23.784538Z",
     "start_time": "2022-11-16T17:16:23.707644Z"
    },
    "scrolled": true
   },
   "outputs": [],
   "source": [
    "global_df = pd.read_csv('data/GlobalTemperatures.csv')\n",
    "hist_gas_df = pd.read_csv('data/historical_emissions.csv')\n",
    "gdp_df = pd.read_csv('data/gdp_growth.csv')\n",
    "pop_df = pd.read_csv('data/world_population.csv')"
   ]
  },
  {
   "cell_type": "markdown",
   "id": "ac7816a3",
   "metadata": {},
   "source": [
    "## Initial Data Exploration for Timeseries\n",
    "We will start with a timeseries model to identify trends and predict future temperatures. Later we will build some regression models to identify correlations with a number of other factors. For our purposes we will just focus on the global temperature dataset."
   ]
  },
  {
   "cell_type": "markdown",
   "id": "502d3d7f",
   "metadata": {},
   "source": [
    "There are columns for both land and land/ocean min, max, and average temperatures. The ocean temperatures seem to have not been recorded until around l00 years later than land temps. "
   ]
  },
  {
   "cell_type": "code",
   "execution_count": 3,
   "id": "ad059bfa",
   "metadata": {
    "ExecuteTime": {
     "end_time": "2022-11-15T20:23:23.076928Z",
     "start_time": "2022-11-15T20:23:23.074401Z"
    }
   },
   "outputs": [],
   "source": [
    "#Converting time stamp column to datetime format\n",
    "global_df['dt'] = pd.to_datetime(global_df['dt'])"
   ]
  },
  {
   "cell_type": "code",
   "execution_count": 4,
   "id": "54cebcc9",
   "metadata": {
    "ExecuteTime": {
     "end_time": "2022-11-15T20:23:23.080660Z",
     "start_time": "2022-11-15T20:23:23.078329Z"
    },
    "scrolled": true
   },
   "outputs": [
    {
     "name": "stdout",
     "output_type": "stream",
     "text": [
      "lowest uncertainty: 0.034\n",
      "highest uncertainty: 7.88\n"
     ]
    }
   ],
   "source": [
    "print(\"lowest uncertainty:\", global_df['LandAverageTemperatureUncertainty'].min())\n",
    "print(\"highest uncertainty:\", global_df['LandAverageTemperatureUncertainty'].max())"
   ]
  },
  {
   "cell_type": "markdown",
   "id": "e7705973",
   "metadata": {},
   "source": [
    "There is an extremely large difference in uncertainty as recording methods have become more sophisticated. The highest uncertaintly is +/- 7.88 degrees Celcius (14.8 degrees Farenheit). I've decided to trim the least accurate quartile of data."
   ]
  },
  {
   "cell_type": "code",
   "execution_count": 5,
   "id": "4ecbd037",
   "metadata": {
    "ExecuteTime": {
     "end_time": "2022-11-15T20:23:23.087465Z",
     "start_time": "2022-11-15T20:23:23.081500Z"
    }
   },
   "outputs": [
    {
     "data": {
      "text/plain": [
       "count    3180.000000\n",
       "mean        0.938468\n",
       "std         1.096440\n",
       "min         0.034000\n",
       "25%         0.186750\n",
       "50%         0.392000\n",
       "75%         1.419250\n",
       "max         7.880000\n",
       "Name: LandAverageTemperatureUncertainty, dtype: float64"
      ]
     },
     "execution_count": 5,
     "metadata": {},
     "output_type": "execute_result"
    }
   ],
   "source": [
    "global_df['LandAverageTemperatureUncertainty'].describe()"
   ]
  },
  {
   "cell_type": "code",
   "execution_count": 6,
   "id": "5042d1e2",
   "metadata": {
    "ExecuteTime": {
     "end_time": "2022-11-15T20:23:23.094813Z",
     "start_time": "2022-11-15T20:23:23.088450Z"
    }
   },
   "outputs": [
    {
     "data": {
      "text/html": [
       "<div>\n",
       "<style scoped>\n",
       "    .dataframe tbody tr th:only-of-type {\n",
       "        vertical-align: middle;\n",
       "    }\n",
       "\n",
       "    .dataframe tbody tr th {\n",
       "        vertical-align: top;\n",
       "    }\n",
       "\n",
       "    .dataframe thead th {\n",
       "        text-align: right;\n",
       "    }\n",
       "</style>\n",
       "<table border=\"1\" class=\"dataframe\">\n",
       "  <thead>\n",
       "    <tr style=\"text-align: right;\">\n",
       "      <th></th>\n",
       "      <th>dt</th>\n",
       "      <th>LandAverageTemperature</th>\n",
       "      <th>LandAverageTemperatureUncertainty</th>\n",
       "      <th>LandMaxTemperature</th>\n",
       "      <th>LandMaxTemperatureUncertainty</th>\n",
       "      <th>LandMinTemperature</th>\n",
       "      <th>LandMinTemperatureUncertainty</th>\n",
       "      <th>LandAndOceanAverageTemperature</th>\n",
       "      <th>LandAndOceanAverageTemperatureUncertainty</th>\n",
       "    </tr>\n",
       "  </thead>\n",
       "  <tbody>\n",
       "    <tr>\n",
       "      <th>0</th>\n",
       "      <td>1750-01-01</td>\n",
       "      <td>3.034</td>\n",
       "      <td>3.574</td>\n",
       "      <td>NaN</td>\n",
       "      <td>NaN</td>\n",
       "      <td>NaN</td>\n",
       "      <td>NaN</td>\n",
       "      <td>NaN</td>\n",
       "      <td>NaN</td>\n",
       "    </tr>\n",
       "    <tr>\n",
       "      <th>1</th>\n",
       "      <td>1750-02-01</td>\n",
       "      <td>3.083</td>\n",
       "      <td>3.702</td>\n",
       "      <td>NaN</td>\n",
       "      <td>NaN</td>\n",
       "      <td>NaN</td>\n",
       "      <td>NaN</td>\n",
       "      <td>NaN</td>\n",
       "      <td>NaN</td>\n",
       "    </tr>\n",
       "    <tr>\n",
       "      <th>2</th>\n",
       "      <td>1750-03-01</td>\n",
       "      <td>5.626</td>\n",
       "      <td>3.076</td>\n",
       "      <td>NaN</td>\n",
       "      <td>NaN</td>\n",
       "      <td>NaN</td>\n",
       "      <td>NaN</td>\n",
       "      <td>NaN</td>\n",
       "      <td>NaN</td>\n",
       "    </tr>\n",
       "    <tr>\n",
       "      <th>3</th>\n",
       "      <td>1750-04-01</td>\n",
       "      <td>8.490</td>\n",
       "      <td>2.451</td>\n",
       "      <td>NaN</td>\n",
       "      <td>NaN</td>\n",
       "      <td>NaN</td>\n",
       "      <td>NaN</td>\n",
       "      <td>NaN</td>\n",
       "      <td>NaN</td>\n",
       "    </tr>\n",
       "    <tr>\n",
       "      <th>4</th>\n",
       "      <td>1750-05-01</td>\n",
       "      <td>11.573</td>\n",
       "      <td>2.072</td>\n",
       "      <td>NaN</td>\n",
       "      <td>NaN</td>\n",
       "      <td>NaN</td>\n",
       "      <td>NaN</td>\n",
       "      <td>NaN</td>\n",
       "      <td>NaN</td>\n",
       "    </tr>\n",
       "  </tbody>\n",
       "</table>\n",
       "</div>"
      ],
      "text/plain": [
       "          dt  LandAverageTemperature  LandAverageTemperatureUncertainty  \\\n",
       "0 1750-01-01                   3.034                              3.574   \n",
       "1 1750-02-01                   3.083                              3.702   \n",
       "2 1750-03-01                   5.626                              3.076   \n",
       "3 1750-04-01                   8.490                              2.451   \n",
       "4 1750-05-01                  11.573                              2.072   \n",
       "\n",
       "   LandMaxTemperature  LandMaxTemperatureUncertainty  LandMinTemperature  \\\n",
       "0                 NaN                            NaN                 NaN   \n",
       "1                 NaN                            NaN                 NaN   \n",
       "2                 NaN                            NaN                 NaN   \n",
       "3                 NaN                            NaN                 NaN   \n",
       "4                 NaN                            NaN                 NaN   \n",
       "\n",
       "   LandMinTemperatureUncertainty  LandAndOceanAverageTemperature  \\\n",
       "0                            NaN                             NaN   \n",
       "1                            NaN                             NaN   \n",
       "2                            NaN                             NaN   \n",
       "3                            NaN                             NaN   \n",
       "4                            NaN                             NaN   \n",
       "\n",
       "   LandAndOceanAverageTemperatureUncertainty  \n",
       "0                                        NaN  \n",
       "1                                        NaN  \n",
       "2                                        NaN  \n",
       "3                                        NaN  \n",
       "4                                        NaN  "
      ]
     },
     "execution_count": 6,
     "metadata": {},
     "output_type": "execute_result"
    }
   ],
   "source": [
    "#as expected, the uncertainty values for earlier dates tend to be on the high side\n",
    "global_df.head()"
   ]
  },
  {
   "cell_type": "code",
   "execution_count": 7,
   "id": "1e1a2d2f",
   "metadata": {
    "ExecuteTime": {
     "end_time": "2022-11-15T20:23:23.102225Z",
     "start_time": "2022-11-15T20:23:23.095967Z"
    }
   },
   "outputs": [
    {
     "data": {
      "text/html": [
       "<div>\n",
       "<style scoped>\n",
       "    .dataframe tbody tr th:only-of-type {\n",
       "        vertical-align: middle;\n",
       "    }\n",
       "\n",
       "    .dataframe tbody tr th {\n",
       "        vertical-align: top;\n",
       "    }\n",
       "\n",
       "    .dataframe thead th {\n",
       "        text-align: right;\n",
       "    }\n",
       "</style>\n",
       "<table border=\"1\" class=\"dataframe\">\n",
       "  <thead>\n",
       "    <tr style=\"text-align: right;\">\n",
       "      <th></th>\n",
       "      <th>dt</th>\n",
       "      <th>LandAverageTemperature</th>\n",
       "      <th>LandAverageTemperatureUncertainty</th>\n",
       "      <th>LandMaxTemperature</th>\n",
       "      <th>LandMaxTemperatureUncertainty</th>\n",
       "      <th>LandMinTemperature</th>\n",
       "      <th>LandMinTemperatureUncertainty</th>\n",
       "      <th>LandAndOceanAverageTemperature</th>\n",
       "      <th>LandAndOceanAverageTemperatureUncertainty</th>\n",
       "    </tr>\n",
       "  </thead>\n",
       "  <tbody>\n",
       "    <tr>\n",
       "      <th>3187</th>\n",
       "      <td>2015-08-01</td>\n",
       "      <td>14.755</td>\n",
       "      <td>0.072</td>\n",
       "      <td>20.699</td>\n",
       "      <td>0.110</td>\n",
       "      <td>9.005</td>\n",
       "      <td>0.170</td>\n",
       "      <td>17.589</td>\n",
       "      <td>0.057</td>\n",
       "    </tr>\n",
       "    <tr>\n",
       "      <th>3188</th>\n",
       "      <td>2015-09-01</td>\n",
       "      <td>12.999</td>\n",
       "      <td>0.079</td>\n",
       "      <td>18.845</td>\n",
       "      <td>0.088</td>\n",
       "      <td>7.199</td>\n",
       "      <td>0.229</td>\n",
       "      <td>17.049</td>\n",
       "      <td>0.058</td>\n",
       "    </tr>\n",
       "    <tr>\n",
       "      <th>3189</th>\n",
       "      <td>2015-10-01</td>\n",
       "      <td>10.801</td>\n",
       "      <td>0.102</td>\n",
       "      <td>16.450</td>\n",
       "      <td>0.059</td>\n",
       "      <td>5.232</td>\n",
       "      <td>0.115</td>\n",
       "      <td>16.290</td>\n",
       "      <td>0.062</td>\n",
       "    </tr>\n",
       "    <tr>\n",
       "      <th>3190</th>\n",
       "      <td>2015-11-01</td>\n",
       "      <td>7.433</td>\n",
       "      <td>0.119</td>\n",
       "      <td>12.892</td>\n",
       "      <td>0.093</td>\n",
       "      <td>2.157</td>\n",
       "      <td>0.106</td>\n",
       "      <td>15.252</td>\n",
       "      <td>0.063</td>\n",
       "    </tr>\n",
       "    <tr>\n",
       "      <th>3191</th>\n",
       "      <td>2015-12-01</td>\n",
       "      <td>5.518</td>\n",
       "      <td>0.100</td>\n",
       "      <td>10.725</td>\n",
       "      <td>0.154</td>\n",
       "      <td>0.287</td>\n",
       "      <td>0.099</td>\n",
       "      <td>14.774</td>\n",
       "      <td>0.062</td>\n",
       "    </tr>\n",
       "  </tbody>\n",
       "</table>\n",
       "</div>"
      ],
      "text/plain": [
       "             dt  LandAverageTemperature  LandAverageTemperatureUncertainty  \\\n",
       "3187 2015-08-01                  14.755                              0.072   \n",
       "3188 2015-09-01                  12.999                              0.079   \n",
       "3189 2015-10-01                  10.801                              0.102   \n",
       "3190 2015-11-01                   7.433                              0.119   \n",
       "3191 2015-12-01                   5.518                              0.100   \n",
       "\n",
       "      LandMaxTemperature  LandMaxTemperatureUncertainty  LandMinTemperature  \\\n",
       "3187              20.699                          0.110               9.005   \n",
       "3188              18.845                          0.088               7.199   \n",
       "3189              16.450                          0.059               5.232   \n",
       "3190              12.892                          0.093               2.157   \n",
       "3191              10.725                          0.154               0.287   \n",
       "\n",
       "      LandMinTemperatureUncertainty  LandAndOceanAverageTemperature  \\\n",
       "3187                          0.170                          17.589   \n",
       "3188                          0.229                          17.049   \n",
       "3189                          0.115                          16.290   \n",
       "3190                          0.106                          15.252   \n",
       "3191                          0.099                          14.774   \n",
       "\n",
       "      LandAndOceanAverageTemperatureUncertainty  \n",
       "3187                                      0.057  \n",
       "3188                                      0.058  \n",
       "3189                                      0.062  \n",
       "3190                                      0.063  \n",
       "3191                                      0.062  "
      ]
     },
     "execution_count": 7,
     "metadata": {},
     "output_type": "execute_result"
    }
   ],
   "source": [
    "#more recent temperatures are accurate within +/- two tenths of a degree Farenheit\n",
    "global_df.tail()"
   ]
  },
  {
   "cell_type": "code",
   "execution_count": 8,
   "id": "eb765a37",
   "metadata": {
    "ExecuteTime": {
     "end_time": "2022-11-15T20:23:23.110883Z",
     "start_time": "2022-11-15T20:23:23.103192Z"
    },
    "scrolled": true
   },
   "outputs": [
    {
     "data": {
      "text/html": [
       "<div>\n",
       "<style scoped>\n",
       "    .dataframe tbody tr th:only-of-type {\n",
       "        vertical-align: middle;\n",
       "    }\n",
       "\n",
       "    .dataframe tbody tr th {\n",
       "        vertical-align: top;\n",
       "    }\n",
       "\n",
       "    .dataframe thead th {\n",
       "        text-align: right;\n",
       "    }\n",
       "</style>\n",
       "<table border=\"1\" class=\"dataframe\">\n",
       "  <thead>\n",
       "    <tr style=\"text-align: right;\">\n",
       "      <th></th>\n",
       "      <th>dt</th>\n",
       "      <th>LandAverageTemperature</th>\n",
       "      <th>LandAverageTemperatureUncertainty</th>\n",
       "      <th>LandMaxTemperature</th>\n",
       "      <th>LandMaxTemperatureUncertainty</th>\n",
       "      <th>LandMinTemperature</th>\n",
       "      <th>LandMinTemperatureUncertainty</th>\n",
       "      <th>LandAndOceanAverageTemperature</th>\n",
       "      <th>LandAndOceanAverageTemperatureUncertainty</th>\n",
       "    </tr>\n",
       "  </thead>\n",
       "  <tbody>\n",
       "    <tr>\n",
       "      <th>1155</th>\n",
       "      <td>1846-04-01</td>\n",
       "      <td>7.473</td>\n",
       "      <td>1.729</td>\n",
       "      <td>NaN</td>\n",
       "      <td>NaN</td>\n",
       "      <td>NaN</td>\n",
       "      <td>NaN</td>\n",
       "      <td>NaN</td>\n",
       "      <td>NaN</td>\n",
       "    </tr>\n",
       "    <tr>\n",
       "      <th>1166</th>\n",
       "      <td>1847-03-01</td>\n",
       "      <td>4.046</td>\n",
       "      <td>1.583</td>\n",
       "      <td>NaN</td>\n",
       "      <td>NaN</td>\n",
       "      <td>NaN</td>\n",
       "      <td>NaN</td>\n",
       "      <td>NaN</td>\n",
       "      <td>NaN</td>\n",
       "    </tr>\n",
       "    <tr>\n",
       "      <th>1177</th>\n",
       "      <td>1848-02-01</td>\n",
       "      <td>3.726</td>\n",
       "      <td>1.437</td>\n",
       "      <td>NaN</td>\n",
       "      <td>NaN</td>\n",
       "      <td>NaN</td>\n",
       "      <td>NaN</td>\n",
       "      <td>NaN</td>\n",
       "      <td>NaN</td>\n",
       "    </tr>\n",
       "    <tr>\n",
       "      <th>1237</th>\n",
       "      <td>1853-02-01</td>\n",
       "      <td>2.228</td>\n",
       "      <td>1.492</td>\n",
       "      <td>8.29</td>\n",
       "      <td>1.535</td>\n",
       "      <td>-3.213</td>\n",
       "      <td>1.783</td>\n",
       "      <td>13.362</td>\n",
       "      <td>0.457</td>\n",
       "    </tr>\n",
       "    <tr>\n",
       "      <th>1260</th>\n",
       "      <td>1855-01-01</td>\n",
       "      <td>2.522</td>\n",
       "      <td>1.465</td>\n",
       "      <td>8.22</td>\n",
       "      <td>1.099</td>\n",
       "      <td>-3.125</td>\n",
       "      <td>1.699</td>\n",
       "      <td>13.384</td>\n",
       "      <td>0.442</td>\n",
       "    </tr>\n",
       "  </tbody>\n",
       "</table>\n",
       "</div>"
      ],
      "text/plain": [
       "             dt  LandAverageTemperature  LandAverageTemperatureUncertainty  \\\n",
       "1155 1846-04-01                   7.473                              1.729   \n",
       "1166 1847-03-01                   4.046                              1.583   \n",
       "1177 1848-02-01                   3.726                              1.437   \n",
       "1237 1853-02-01                   2.228                              1.492   \n",
       "1260 1855-01-01                   2.522                              1.465   \n",
       "\n",
       "      LandMaxTemperature  LandMaxTemperatureUncertainty  LandMinTemperature  \\\n",
       "1155                 NaN                            NaN                 NaN   \n",
       "1166                 NaN                            NaN                 NaN   \n",
       "1177                 NaN                            NaN                 NaN   \n",
       "1237                8.29                          1.535              -3.213   \n",
       "1260                8.22                          1.099              -3.125   \n",
       "\n",
       "      LandMinTemperatureUncertainty  LandAndOceanAverageTemperature  \\\n",
       "1155                            NaN                             NaN   \n",
       "1166                            NaN                             NaN   \n",
       "1177                            NaN                             NaN   \n",
       "1237                          1.783                          13.362   \n",
       "1260                          1.699                          13.384   \n",
       "\n",
       "      LandAndOceanAverageTemperatureUncertainty  \n",
       "1155                                        NaN  \n",
       "1166                                        NaN  \n",
       "1177                                        NaN  \n",
       "1237                                      0.457  \n",
       "1260                                      0.442  "
      ]
     },
     "execution_count": 8,
     "metadata": {},
     "output_type": "execute_result"
    }
   ],
   "source": [
    "#determining the latest month with an uncertainty greater than cutoff threshold\n",
    "global_df[global_df['LandAverageTemperatureUncertainty']>1.4].tail()"
   ]
  },
  {
   "cell_type": "code",
   "execution_count": 9,
   "id": "18c9ccdc",
   "metadata": {
    "ExecuteTime": {
     "end_time": "2022-11-15T20:23:23.114232Z",
     "start_time": "2022-11-15T20:23:23.111917Z"
    }
   },
   "outputs": [],
   "source": [
    "#dropping all dates prior to 1856(the last year in which every recorded temp was within desired uncertainty range)\n",
    "global_df = global_df[global_df['dt'] >= '1856']"
   ]
  },
  {
   "cell_type": "code",
   "execution_count": 10,
   "id": "e2100250",
   "metadata": {
    "ExecuteTime": {
     "end_time": "2022-11-15T20:23:23.120606Z",
     "start_time": "2022-11-15T20:23:23.117084Z"
    }
   },
   "outputs": [],
   "source": [
    "#converting temps the Farenheit for interpretability\n",
    "global_df['y'] = global_df['LandAverageTemperature']*1.8+32\n",
    "global_df.rename(columns = {'dt':'ds'}, inplace = True)"
   ]
  },
  {
   "cell_type": "markdown",
   "id": "44715418",
   "metadata": {},
   "source": [
    "## Prophet Model\n",
    "Since there are no other obvious cleaning or preperation needed for our remaining data, we can start with a simple, useful model using NeuralProphet. This model calls for there to be only two columns, one with the datetime values that needs to be named 'dt' and one with the temperature values which needs to be named 'y'"
   ]
  },
  {
   "cell_type": "code",
   "execution_count": 11,
   "id": "710fd72e",
   "metadata": {
    "ExecuteTime": {
     "end_time": "2022-11-15T20:23:23.128968Z",
     "start_time": "2022-11-15T20:23:23.122601Z"
    },
    "scrolled": true
   },
   "outputs": [
    {
     "data": {
      "text/html": [
       "<div>\n",
       "<style scoped>\n",
       "    .dataframe tbody tr th:only-of-type {\n",
       "        vertical-align: middle;\n",
       "    }\n",
       "\n",
       "    .dataframe tbody tr th {\n",
       "        vertical-align: top;\n",
       "    }\n",
       "\n",
       "    .dataframe thead th {\n",
       "        text-align: right;\n",
       "    }\n",
       "</style>\n",
       "<table border=\"1\" class=\"dataframe\">\n",
       "  <thead>\n",
       "    <tr style=\"text-align: right;\">\n",
       "      <th></th>\n",
       "      <th>ds</th>\n",
       "      <th>y</th>\n",
       "    </tr>\n",
       "  </thead>\n",
       "  <tbody>\n",
       "    <tr>\n",
       "      <th>1272</th>\n",
       "      <td>1856-01-01</td>\n",
       "      <td>36.9680</td>\n",
       "    </tr>\n",
       "    <tr>\n",
       "      <th>1273</th>\n",
       "      <td>1856-02-01</td>\n",
       "      <td>36.0068</td>\n",
       "    </tr>\n",
       "    <tr>\n",
       "      <th>1274</th>\n",
       "      <td>1856-03-01</td>\n",
       "      <td>39.8696</td>\n",
       "    </tr>\n",
       "    <tr>\n",
       "      <th>1275</th>\n",
       "      <td>1856-04-01</td>\n",
       "      <td>45.9518</td>\n",
       "    </tr>\n",
       "    <tr>\n",
       "      <th>1276</th>\n",
       "      <td>1856-05-01</td>\n",
       "      <td>50.9540</td>\n",
       "    </tr>\n",
       "  </tbody>\n",
       "</table>\n",
       "</div>"
      ],
      "text/plain": [
       "             ds        y\n",
       "1272 1856-01-01  36.9680\n",
       "1273 1856-02-01  36.0068\n",
       "1274 1856-03-01  39.8696\n",
       "1275 1856-04-01  45.9518\n",
       "1276 1856-05-01  50.9540"
      ]
     },
     "execution_count": 11,
     "metadata": {},
     "output_type": "execute_result"
    }
   ],
   "source": [
    "#dropping unneccessary columns and formatting for Neural Prophet\n",
    "drop_columns = ['LandAverageTemperature',\n",
    "                'LandAverageTemperatureUncertainty',\n",
    "                'LandMaxTemperature',\n",
    "                'LandMaxTemperatureUncertainty',\n",
    "                'LandMinTemperature',\n",
    "                'LandMinTemperatureUncertainty',\n",
    "                'LandAndOceanAverageTemperature',\n",
    "                'LandAndOceanAverageTemperatureUncertainty']\n",
    "ts = global_df.drop(drop_columns, axis=1)\n",
    "ts.head()"
   ]
  },
  {
   "cell_type": "code",
   "execution_count": 12,
   "id": "bb43eefc",
   "metadata": {
    "ExecuteTime": {
     "end_time": "2022-11-15T20:23:23.133207Z",
     "start_time": "2022-11-15T20:23:23.130166Z"
    }
   },
   "outputs": [],
   "source": [
    "#taking a small sampple to take an initial look at the data\n",
    "temp_1990_2000 = ts[ts['ds'].between('1990-01-01','2000-01-01')]\n",
    "X = temp_1990_2000['ds']\n",
    "y = temp_1990_2000['y']"
   ]
  },
  {
   "cell_type": "code",
   "execution_count": 13,
   "id": "91424ede",
   "metadata": {
    "ExecuteTime": {
     "end_time": "2022-11-15T20:23:23.378238Z",
     "start_time": "2022-11-15T20:23:23.134051Z"
    },
    "scrolled": false
   },
   "outputs": [
    {
     "data": {
      "image/png": "[encoded data removed]",
      "text/plain": [
       "<Figure size 1080x576 with 1 Axes>"
      ]
     },
     "metadata": {
      "needs_background": "light"
     },
     "output_type": "display_data"
    }
   ],
   "source": [
    "pd.plotting.register_matplotlib_converters()\n",
    "ax = ts.set_index('ds').plot(figsize=(15, 8))\n",
    "ax.set_title('Historical Average Temperatures')\n",
    "ax.set_ylabel('Temperature(F)')\n",
    "ax.set_xlabel('Date')\n",
    "ax.legend(['Average Temperature']);"
   ]
  },
  {
   "cell_type": "markdown",
   "id": "7a9b34f7",
   "metadata": {},
   "source": [
    "From this broad vikew, we can see that there is an slight overall upward trend. As expected there is yearly seasonality that the model should automatically pick up on."
   ]
  },
  {
   "cell_type": "code",
   "execution_count": 14,
   "id": "e78f111f",
   "metadata": {
    "ExecuteTime": {
     "end_time": "2022-11-15T20:23:23.534372Z",
     "start_time": "2022-11-15T20:23:23.379718Z"
    }
   },
   "outputs": [
    {
     "data": {
      "image/png": "[encoded data removed]",
      "text/plain": [
       "<Figure size 432x288 with 1 Axes>"
      ]
     },
     "metadata": {
      "needs_background": "light"
     },
     "output_type": "display_data"
    }
   ],
   "source": [
    "#splitting off last 2 years of data as a test set\n",
    "\n",
    "ts_train = ts[ts['ds'] < pd.Timestamp('2014-01-01')]\n",
    "ts_test = ts[ts['ds'] >= pd.Timestamp('2014-01-01')]\n",
    "\n",
    "plt.title('Train/Test Sets', size=12)\n",
    "plt.plot(ts_train['ds'], ts_train['y'], label='Training set')\n",
    "plt.plot(ts_test['ds'], ts_test['y'], label='Test set', color='orange')\n",
    "plt.xlabel('Year')\n",
    "plt.ylabel('Average Monthly Temp (F)')\n",
    "plt.legend();"
   ]
  },
  {
   "cell_type": "code",
   "execution_count": 15,
   "id": "cd10e93a",
   "metadata": {
    "ExecuteTime": {
     "end_time": "2022-11-15T20:23:23.540303Z",
     "start_time": "2022-11-15T20:23:23.535425Z"
    },
    "scrolled": false
   },
   "outputs": [
    {
     "data": {
      "text/html": [
       "<div>\n",
       "<style scoped>\n",
       "    .dataframe tbody tr th:only-of-type {\n",
       "        vertical-align: middle;\n",
       "    }\n",
       "\n",
       "    .dataframe tbody tr th {\n",
       "        vertical-align: top;\n",
       "    }\n",
       "\n",
       "    .dataframe thead th {\n",
       "        text-align: right;\n",
       "    }\n",
       "</style>\n",
       "<table border=\"1\" class=\"dataframe\">\n",
       "  <thead>\n",
       "    <tr style=\"text-align: right;\">\n",
       "      <th></th>\n",
       "      <th>ds</th>\n",
       "      <th>y</th>\n",
       "    </tr>\n",
       "  </thead>\n",
       "  <tbody>\n",
       "    <tr>\n",
       "      <th>3168</th>\n",
       "      <td>2014-01-01</td>\n",
       "      <td>38.7176</td>\n",
       "    </tr>\n",
       "    <tr>\n",
       "      <th>3169</th>\n",
       "      <td>2014-02-01</td>\n",
       "      <td>38.3000</td>\n",
       "    </tr>\n",
       "    <tr>\n",
       "      <th>3170</th>\n",
       "      <td>2014-03-01</td>\n",
       "      <td>43.4804</td>\n",
       "    </tr>\n",
       "    <tr>\n",
       "      <th>3171</th>\n",
       "      <td>2014-04-01</td>\n",
       "      <td>49.2602</td>\n",
       "    </tr>\n",
       "    <tr>\n",
       "      <th>3172</th>\n",
       "      <td>2014-05-01</td>\n",
       "      <td>54.6476</td>\n",
       "    </tr>\n",
       "    <tr>\n",
       "      <th>3173</th>\n",
       "      <td>2014-06-01</td>\n",
       "      <td>57.8030</td>\n",
       "    </tr>\n",
       "    <tr>\n",
       "      <th>3174</th>\n",
       "      <td>2014-07-01</td>\n",
       "      <td>58.7714</td>\n",
       "    </tr>\n",
       "    <tr>\n",
       "      <th>3175</th>\n",
       "      <td>2014-08-01</td>\n",
       "      <td>58.7750</td>\n",
       "    </tr>\n",
       "    <tr>\n",
       "      <th>3176</th>\n",
       "      <td>2014-09-01</td>\n",
       "      <td>55.5638</td>\n",
       "    </tr>\n",
       "    <tr>\n",
       "      <th>3177</th>\n",
       "      <td>2014-10-01</td>\n",
       "      <td>50.5940</td>\n",
       "    </tr>\n",
       "    <tr>\n",
       "      <th>3178</th>\n",
       "      <td>2014-11-01</td>\n",
       "      <td>44.0834</td>\n",
       "    </tr>\n",
       "    <tr>\n",
       "      <th>3179</th>\n",
       "      <td>2014-12-01</td>\n",
       "      <td>40.7300</td>\n",
       "    </tr>\n",
       "    <tr>\n",
       "      <th>3180</th>\n",
       "      <td>2015-01-01</td>\n",
       "      <td>38.9858</td>\n",
       "    </tr>\n",
       "    <tr>\n",
       "      <th>3181</th>\n",
       "      <td>2015-02-01</td>\n",
       "      <td>40.3952</td>\n",
       "    </tr>\n",
       "    <tr>\n",
       "      <th>3182</th>\n",
       "      <td>2015-03-01</td>\n",
       "      <td>44.1320</td>\n",
       "    </tr>\n",
       "    <tr>\n",
       "      <th>3183</th>\n",
       "      <td>2015-04-01</td>\n",
       "      <td>48.7634</td>\n",
       "    </tr>\n",
       "    <tr>\n",
       "      <th>3184</th>\n",
       "      <td>2015-05-01</td>\n",
       "      <td>54.1616</td>\n",
       "    </tr>\n",
       "    <tr>\n",
       "      <th>3185</th>\n",
       "      <td>2015-06-01</td>\n",
       "      <td>58.1090</td>\n",
       "    </tr>\n",
       "    <tr>\n",
       "      <th>3186</th>\n",
       "      <td>2015-07-01</td>\n",
       "      <td>59.0918</td>\n",
       "    </tr>\n",
       "    <tr>\n",
       "      <th>3187</th>\n",
       "      <td>2015-08-01</td>\n",
       "      <td>58.5590</td>\n",
       "    </tr>\n",
       "    <tr>\n",
       "      <th>3188</th>\n",
       "      <td>2015-09-01</td>\n",
       "      <td>55.3982</td>\n",
       "    </tr>\n",
       "    <tr>\n",
       "      <th>3189</th>\n",
       "      <td>2015-10-01</td>\n",
       "      <td>51.4418</td>\n",
       "    </tr>\n",
       "    <tr>\n",
       "      <th>3190</th>\n",
       "      <td>2015-11-01</td>\n",
       "      <td>45.3794</td>\n",
       "    </tr>\n",
       "    <tr>\n",
       "      <th>3191</th>\n",
       "      <td>2015-12-01</td>\n",
       "      <td>41.9324</td>\n",
       "    </tr>\n",
       "  </tbody>\n",
       "</table>\n",
       "</div>"
      ],
      "text/plain": [
       "             ds        y\n",
       "3168 2014-01-01  38.7176\n",
       "3169 2014-02-01  38.3000\n",
       "3170 2014-03-01  43.4804\n",
       "3171 2014-04-01  49.2602\n",
       "3172 2014-05-01  54.6476\n",
       "3173 2014-06-01  57.8030\n",
       "3174 2014-07-01  58.7714\n",
       "3175 2014-08-01  58.7750\n",
       "3176 2014-09-01  55.5638\n",
       "3177 2014-10-01  50.5940\n",
       "3178 2014-11-01  44.0834\n",
       "3179 2014-12-01  40.7300\n",
       "3180 2015-01-01  38.9858\n",
       "3181 2015-02-01  40.3952\n",
       "3182 2015-03-01  44.1320\n",
       "3183 2015-04-01  48.7634\n",
       "3184 2015-05-01  54.1616\n",
       "3185 2015-06-01  58.1090\n",
       "3186 2015-07-01  59.0918\n",
       "3187 2015-08-01  58.5590\n",
       "3188 2015-09-01  55.3982\n",
       "3189 2015-10-01  51.4418\n",
       "3190 2015-11-01  45.3794\n",
       "3191 2015-12-01  41.9324"
      ]
     },
     "execution_count": 15,
     "metadata": {},
     "output_type": "execute_result"
    }
   ],
   "source": [
    "#checking test set dates\n",
    "ts_test"
   ]
  },
  {
   "cell_type": "markdown",
   "id": "eb42c6b6",
   "metadata": {},
   "source": [
    "## Intitial Modeling\n",
    "The next step is to fit a NeuralProphet model to the timeseries. For the baseline model the only parameters we'll pass will be to prioritize MAE as the preferred metric to optimize. Once used to predict the test set, the model will return a validation MAE score as well as the components (trend and seasonality) applied to make the predictions. If the resulting MAE score is satisfactory, we can then broadcast those prediction out for future forecasts. For something as gradual as global temperature averages, we will try a longer term forecast of 30 years."
   ]
  },
  {
   "cell_type": "code",
   "execution_count": 16,
   "id": "49ab86d1",
   "metadata": {
    "ExecuteTime": {
     "end_time": "2022-11-15T20:23:30.495542Z",
     "start_time": "2022-11-15T20:23:23.541314Z"
    },
    "scrolled": true
   },
   "outputs": [
    {
     "name": "stderr",
     "output_type": "stream",
     "text": [
      "INFO - (NP.df_utils._infer_frequency) - Major frequency MS corresponds to 91.614% of the data.\n",
      "INFO - (NP.df_utils._infer_frequency) - Defined frequency is equal to major frequency - MS\n",
      "INFO - (NP.config.init_data_params) - Setting normalization to global as only one dataframe provided for training.\n",
      "INFO - (NP.utils.set_auto_seasonalities) - Disabling weekly seasonality. Run NeuralProphet with weekly_seasonality=True to override this.\n",
      "INFO - (NP.utils.set_auto_seasonalities) - Disabling daily seasonality. Run NeuralProphet with daily_seasonality=True to override this.\n",
      "INFO - (NP.config.set_auto_batch_epoch) - Auto-set batch_size to 32\n",
      "INFO - (NP.config.set_auto_batch_epoch) - Auto-set epochs to 160\n"
     ]
    },
    {
     "data": {
      "application/vnd.jupyter.widget-view+json": {
       "model_id": "bb082587301a4f589053b4bfb84d9ff5",
       "version_major": 2,
       "version_minor": 0
      },
      "text/plain": [
       "  0%|          | 0/132 [00:00<?, ?it/s]"
      ]
     },
     "metadata": {},
     "output_type": "display_data"
    },
    {
     "name": "stderr",
     "output_type": "stream",
     "text": [
      "INFO - (NP.utils_torch.lr_range_test) - lr-range-test results: steep: 9.49E-02, min: 1.19E+00\n"
     ]
    },
    {
     "data": {
      "application/vnd.jupyter.widget-view+json": {
       "model_id": "81301b3784d141f2a9148b41fe53b2ab",
       "version_major": 2,
       "version_minor": 0
      },
      "text/plain": [
       "  0%|          | 0/132 [00:00<?, ?it/s]"
      ]
     },
     "metadata": {},
     "output_type": "display_data"
    },
    {
     "name": "stderr",
     "output_type": "stream",
     "text": [
      "INFO - (NP.utils_torch.lr_range_test) - lr-range-test results: steep: 9.49E-02, min: 6.33E-01\n",
      "INFO - (NP.forecaster._init_train_loader) - lr-range-test selected learning rate: 9.65E-02\n",
      "Epoch[160/160]: 100%|█| 160/160 [00:06<00:00, 24.43it/s, L1Loss=0.0193, MAE=0.48\n"
     ]
    },
    {
     "data": {
      "text/html": [
       "<div>\n",
       "<style scoped>\n",
       "    .dataframe tbody tr th:only-of-type {\n",
       "        vertical-align: middle;\n",
       "    }\n",
       "\n",
       "    .dataframe tbody tr th {\n",
       "        vertical-align: top;\n",
       "    }\n",
       "\n",
       "    .dataframe thead th {\n",
       "        text-align: right;\n",
       "    }\n",
       "</style>\n",
       "<table border=\"1\" class=\"dataframe\">\n",
       "  <thead>\n",
       "    <tr style=\"text-align: right;\">\n",
       "      <th></th>\n",
       "      <th>L1Loss</th>\n",
       "      <th>MAE</th>\n",
       "      <th>RMSE</th>\n",
       "      <th>Loss</th>\n",
       "      <th>RegLoss</th>\n",
       "      <th>L1Loss_val</th>\n",
       "      <th>MAE_val</th>\n",
       "      <th>RMSE_val</th>\n",
       "    </tr>\n",
       "  </thead>\n",
       "  <tbody>\n",
       "    <tr>\n",
       "      <th>0</th>\n",
       "      <td>0.813826</td>\n",
       "      <td>20.385373</td>\n",
       "      <td>26.469987</td>\n",
       "      <td>0.609593</td>\n",
       "      <td>0.0</td>\n",
       "      <td>0.742299</td>\n",
       "      <td>18.593712</td>\n",
       "      <td>22.630457</td>\n",
       "    </tr>\n",
       "    <tr>\n",
       "      <th>1</th>\n",
       "      <td>0.725636</td>\n",
       "      <td>18.176317</td>\n",
       "      <td>24.073814</td>\n",
       "      <td>0.542830</td>\n",
       "      <td>0.0</td>\n",
       "      <td>0.668378</td>\n",
       "      <td>16.742059</td>\n",
       "      <td>20.388597</td>\n",
       "    </tr>\n",
       "    <tr>\n",
       "      <th>2</th>\n",
       "      <td>0.631163</td>\n",
       "      <td>15.809886</td>\n",
       "      <td>21.575356</td>\n",
       "      <td>0.471720</td>\n",
       "      <td>0.0</td>\n",
       "      <td>0.581388</td>\n",
       "      <td>14.563079</td>\n",
       "      <td>17.870462</td>\n",
       "    </tr>\n",
       "    <tr>\n",
       "      <th>3</th>\n",
       "      <td>0.524227</td>\n",
       "      <td>13.131269</td>\n",
       "      <td>18.450394</td>\n",
       "      <td>0.392207</td>\n",
       "      <td>0.0</td>\n",
       "      <td>0.479483</td>\n",
       "      <td>12.010463</td>\n",
       "      <td>14.828632</td>\n",
       "    </tr>\n",
       "    <tr>\n",
       "      <th>4</th>\n",
       "      <td>0.401685</td>\n",
       "      <td>10.061727</td>\n",
       "      <td>14.536895</td>\n",
       "      <td>0.300894</td>\n",
       "      <td>0.0</td>\n",
       "      <td>0.380247</td>\n",
       "      <td>9.524734</td>\n",
       "      <td>11.706913</td>\n",
       "    </tr>\n",
       "    <tr>\n",
       "      <th>...</th>\n",
       "      <td>...</td>\n",
       "      <td>...</td>\n",
       "      <td>...</td>\n",
       "      <td>...</td>\n",
       "      <td>...</td>\n",
       "      <td>...</td>\n",
       "      <td>...</td>\n",
       "      <td>...</td>\n",
       "    </tr>\n",
       "    <tr>\n",
       "      <th>155</th>\n",
       "      <td>0.019412</td>\n",
       "      <td>0.486254</td>\n",
       "      <td>0.635710</td>\n",
       "      <td>0.014165</td>\n",
       "      <td>0.0</td>\n",
       "      <td>0.347378</td>\n",
       "      <td>8.701411</td>\n",
       "      <td>10.742516</td>\n",
       "    </tr>\n",
       "    <tr>\n",
       "      <th>156</th>\n",
       "      <td>0.019458</td>\n",
       "      <td>0.487400</td>\n",
       "      <td>0.636689</td>\n",
       "      <td>0.014169</td>\n",
       "      <td>0.0</td>\n",
       "      <td>0.347344</td>\n",
       "      <td>8.700539</td>\n",
       "      <td>10.741731</td>\n",
       "    </tr>\n",
       "    <tr>\n",
       "      <th>157</th>\n",
       "      <td>0.019337</td>\n",
       "      <td>0.484374</td>\n",
       "      <td>0.636423</td>\n",
       "      <td>0.014090</td>\n",
       "      <td>0.0</td>\n",
       "      <td>0.347285</td>\n",
       "      <td>8.699081</td>\n",
       "      <td>10.739705</td>\n",
       "    </tr>\n",
       "    <tr>\n",
       "      <th>158</th>\n",
       "      <td>0.019294</td>\n",
       "      <td>0.483303</td>\n",
       "      <td>0.635900</td>\n",
       "      <td>0.014064</td>\n",
       "      <td>0.0</td>\n",
       "      <td>0.347431</td>\n",
       "      <td>8.702720</td>\n",
       "      <td>10.744449</td>\n",
       "    </tr>\n",
       "    <tr>\n",
       "      <th>159</th>\n",
       "      <td>0.019277</td>\n",
       "      <td>0.482862</td>\n",
       "      <td>0.630602</td>\n",
       "      <td>0.014053</td>\n",
       "      <td>0.0</td>\n",
       "      <td>0.347426</td>\n",
       "      <td>8.702604</td>\n",
       "      <td>10.744300</td>\n",
       "    </tr>\n",
       "  </tbody>\n",
       "</table>\n",
       "<p>160 rows × 8 columns</p>\n",
       "</div>"
      ],
      "text/plain": [
       "       L1Loss        MAE       RMSE      Loss  RegLoss  L1Loss_val    MAE_val  \\\n",
       "0    0.813826  20.385373  26.469987  0.609593      0.0    0.742299  18.593712   \n",
       "1    0.725636  18.176317  24.073814  0.542830      0.0    0.668378  16.742059   \n",
       "2    0.631163  15.809886  21.575356  0.471720      0.0    0.581388  14.563079   \n",
       "3    0.524227  13.131269  18.450394  0.392207      0.0    0.479483  12.010463   \n",
       "4    0.401685  10.061727  14.536895  0.300894      0.0    0.380247   9.524734   \n",
       "..        ...        ...        ...       ...      ...         ...        ...   \n",
       "155  0.019412   0.486254   0.635710  0.014165      0.0    0.347378   8.701411   \n",
       "156  0.019458   0.487400   0.636689  0.014169      0.0    0.347344   8.700539   \n",
       "157  0.019337   0.484374   0.636423  0.014090      0.0    0.347285   8.699081   \n",
       "158  0.019294   0.483303   0.635900  0.014064      0.0    0.347431   8.702720   \n",
       "159  0.019277   0.482862   0.630602  0.014053      0.0    0.347426   8.702604   \n",
       "\n",
       "      RMSE_val  \n",
       "0    22.630457  \n",
       "1    20.388597  \n",
       "2    17.870462  \n",
       "3    14.828632  \n",
       "4    11.706913  \n",
       "..         ...  \n",
       "155  10.742516  \n",
       "156  10.741731  \n",
       "157  10.739705  \n",
       "158  10.744449  \n",
       "159  10.744300  \n",
       "\n",
       "[160 rows x 8 columns]"
      ]
     },
     "execution_count": 16,
     "metadata": {},
     "output_type": "execute_result"
    }
   ],
   "source": [
    "#fitting 'vanilla' NeuralProphet with MAE as loss function. \n",
    "m1 = NeuralProphet(loss_func='MAE')\n",
    "m1.fit(ts_train, validation_df=ts_train, freq = 'MS')"
   ]
  },
  {
   "cell_type": "code",
   "execution_count": 17,
   "id": "d1944124",
   "metadata": {
    "ExecuteTime": {
     "end_time": "2022-11-15T20:23:30.650421Z",
     "start_time": "2022-11-15T20:23:30.496659Z"
    },
    "scrolled": false
   },
   "outputs": [
    {
     "name": "stderr",
     "output_type": "stream",
     "text": [
      "INFO - (NP.df_utils._infer_frequency) - Major frequency MS corresponds to 87.5% of the data.\n",
      "INFO - (NP.df_utils._infer_frequency) - Defined frequency is equal to major frequency - MS\n",
      "INFO - (NP.df_utils._infer_frequency) - Major frequency MS corresponds to 87.5% of the data.\n",
      "INFO - (NP.df_utils._infer_frequency) - Defined frequency is equal to major frequency - MS\n",
      "INFO - (NP.df_utils.return_df_in_original_format) - Returning df with no ID column\n"
     ]
    },
    {
     "data": {
      "image/png": "[encoded data removed]",
      "text/plain": [
       "<Figure size 432x288 with 1 Axes>"
      ]
     },
     "metadata": {
      "needs_background": "light"
     },
     "output_type": "display_data"
    }
   ],
   "source": [
    "forecast1 = m1.predict(ts_test)\n",
    "ax = plt.subplot()\n",
    "plot= m1.plot(forecast1, ax = ax)\n",
    "ax.set_title('Predicted vs Actual Temperatures')\n",
    "ax.set_xlabel('Forecast Date')\n",
    "ax.set_ylabel('Temperature (F)')\n",
    "ax.legend(['Predicted Temperature', 'Actual Temperature']);"
   ]
  },
  {
   "cell_type": "code",
   "execution_count": 18,
   "id": "1b50cdc5",
   "metadata": {
    "ExecuteTime": {
     "end_time": "2022-11-15T20:23:30.657063Z",
     "start_time": "2022-11-15T20:23:30.651529Z"
    }
   },
   "outputs": [
    {
     "data": {
      "text/html": [
       "<div>\n",
       "<style scoped>\n",
       "    .dataframe tbody tr th:only-of-type {\n",
       "        vertical-align: middle;\n",
       "    }\n",
       "\n",
       "    .dataframe tbody tr th {\n",
       "        vertical-align: top;\n",
       "    }\n",
       "\n",
       "    .dataframe thead th {\n",
       "        text-align: right;\n",
       "    }\n",
       "</style>\n",
       "<table border=\"1\" class=\"dataframe\">\n",
       "  <thead>\n",
       "    <tr style=\"text-align: right;\">\n",
       "      <th></th>\n",
       "      <th>ds</th>\n",
       "      <th>y</th>\n",
       "      <th>residual1</th>\n",
       "      <th>yhat1</th>\n",
       "      <th>trend</th>\n",
       "      <th>season_yearly</th>\n",
       "    </tr>\n",
       "  </thead>\n",
       "  <tbody>\n",
       "    <tr>\n",
       "      <th>0</th>\n",
       "      <td>2014-01-01</td>\n",
       "      <td>38.7176</td>\n",
       "      <td>-0.081991</td>\n",
       "      <td>38.635609</td>\n",
       "      <td>49.402252</td>\n",
       "      <td>-10.766644</td>\n",
       "    </tr>\n",
       "    <tr>\n",
       "      <th>1</th>\n",
       "      <td>2014-02-01</td>\n",
       "      <td>38.3000</td>\n",
       "      <td>1.251186</td>\n",
       "      <td>39.551186</td>\n",
       "      <td>49.406120</td>\n",
       "      <td>-9.854935</td>\n",
       "    </tr>\n",
       "    <tr>\n",
       "      <th>2</th>\n",
       "      <td>2014-03-01</td>\n",
       "      <td>43.4804</td>\n",
       "      <td>-0.314636</td>\n",
       "      <td>43.165764</td>\n",
       "      <td>49.409615</td>\n",
       "      <td>-6.243849</td>\n",
       "    </tr>\n",
       "    <tr>\n",
       "      <th>3</th>\n",
       "      <td>2014-04-01</td>\n",
       "      <td>49.2602</td>\n",
       "      <td>-0.368431</td>\n",
       "      <td>48.891769</td>\n",
       "      <td>49.413483</td>\n",
       "      <td>-0.521714</td>\n",
       "    </tr>\n",
       "    <tr>\n",
       "      <th>4</th>\n",
       "      <td>2014-05-01</td>\n",
       "      <td>54.6476</td>\n",
       "      <td>-0.564302</td>\n",
       "      <td>54.083298</td>\n",
       "      <td>49.417229</td>\n",
       "      <td>4.666068</td>\n",
       "    </tr>\n",
       "    <tr>\n",
       "      <th>5</th>\n",
       "      <td>2014-06-01</td>\n",
       "      <td>57.8030</td>\n",
       "      <td>0.183595</td>\n",
       "      <td>57.986595</td>\n",
       "      <td>49.421101</td>\n",
       "      <td>8.565491</td>\n",
       "    </tr>\n",
       "    <tr>\n",
       "      <th>6</th>\n",
       "      <td>2014-07-01</td>\n",
       "      <td>58.7714</td>\n",
       "      <td>0.971085</td>\n",
       "      <td>59.742485</td>\n",
       "      <td>49.424843</td>\n",
       "      <td>10.317642</td>\n",
       "    </tr>\n",
       "    <tr>\n",
       "      <th>7</th>\n",
       "      <td>2014-08-01</td>\n",
       "      <td>58.7750</td>\n",
       "      <td>0.020609</td>\n",
       "      <td>58.795609</td>\n",
       "      <td>49.428715</td>\n",
       "      <td>9.366896</td>\n",
       "    </tr>\n",
       "    <tr>\n",
       "      <th>8</th>\n",
       "      <td>2014-09-01</td>\n",
       "      <td>55.5638</td>\n",
       "      <td>0.032544</td>\n",
       "      <td>55.596344</td>\n",
       "      <td>49.432587</td>\n",
       "      <td>6.163758</td>\n",
       "    </tr>\n",
       "    <tr>\n",
       "      <th>9</th>\n",
       "      <td>2014-10-01</td>\n",
       "      <td>50.5940</td>\n",
       "      <td>0.269865</td>\n",
       "      <td>50.863865</td>\n",
       "      <td>49.436329</td>\n",
       "      <td>1.427537</td>\n",
       "    </tr>\n",
       "    <tr>\n",
       "      <th>10</th>\n",
       "      <td>2014-11-01</td>\n",
       "      <td>44.0834</td>\n",
       "      <td>0.802586</td>\n",
       "      <td>44.885986</td>\n",
       "      <td>49.440201</td>\n",
       "      <td>-4.554212</td>\n",
       "    </tr>\n",
       "    <tr>\n",
       "      <th>11</th>\n",
       "      <td>2014-12-01</td>\n",
       "      <td>40.7300</td>\n",
       "      <td>-0.293259</td>\n",
       "      <td>40.436741</td>\n",
       "      <td>49.443947</td>\n",
       "      <td>-9.007204</td>\n",
       "    </tr>\n",
       "    <tr>\n",
       "      <th>12</th>\n",
       "      <td>2015-01-01</td>\n",
       "      <td>38.9858</td>\n",
       "      <td>-0.298598</td>\n",
       "      <td>38.687202</td>\n",
       "      <td>49.447815</td>\n",
       "      <td>-10.760611</td>\n",
       "    </tr>\n",
       "    <tr>\n",
       "      <th>13</th>\n",
       "      <td>2015-02-01</td>\n",
       "      <td>40.3952</td>\n",
       "      <td>-0.820565</td>\n",
       "      <td>39.574635</td>\n",
       "      <td>49.451683</td>\n",
       "      <td>-9.877047</td>\n",
       "    </tr>\n",
       "    <tr>\n",
       "      <th>14</th>\n",
       "      <td>2015-03-01</td>\n",
       "      <td>44.1320</td>\n",
       "      <td>-0.960854</td>\n",
       "      <td>43.171146</td>\n",
       "      <td>49.455177</td>\n",
       "      <td>-6.284034</td>\n",
       "    </tr>\n",
       "    <tr>\n",
       "      <th>15</th>\n",
       "      <td>2015-04-01</td>\n",
       "      <td>48.7634</td>\n",
       "      <td>0.125066</td>\n",
       "      <td>48.888466</td>\n",
       "      <td>49.459045</td>\n",
       "      <td>-0.570582</td>\n",
       "    </tr>\n",
       "    <tr>\n",
       "      <th>16</th>\n",
       "      <td>2015-05-01</td>\n",
       "      <td>54.1616</td>\n",
       "      <td>-0.069010</td>\n",
       "      <td>54.092590</td>\n",
       "      <td>49.462791</td>\n",
       "      <td>4.629797</td>\n",
       "    </tr>\n",
       "    <tr>\n",
       "      <th>17</th>\n",
       "      <td>2015-06-01</td>\n",
       "      <td>58.1090</td>\n",
       "      <td>-0.102973</td>\n",
       "      <td>58.006027</td>\n",
       "      <td>49.466660</td>\n",
       "      <td>8.539368</td>\n",
       "    </tr>\n",
       "    <tr>\n",
       "      <th>18</th>\n",
       "      <td>2015-07-01</td>\n",
       "      <td>59.0918</td>\n",
       "      <td>0.694325</td>\n",
       "      <td>59.786125</td>\n",
       "      <td>49.470406</td>\n",
       "      <td>10.315716</td>\n",
       "    </tr>\n",
       "    <tr>\n",
       "      <th>19</th>\n",
       "      <td>2015-08-01</td>\n",
       "      <td>58.5590</td>\n",
       "      <td>0.298086</td>\n",
       "      <td>58.857086</td>\n",
       "      <td>49.474277</td>\n",
       "      <td>9.382810</td>\n",
       "    </tr>\n",
       "    <tr>\n",
       "      <th>20</th>\n",
       "      <td>2015-09-01</td>\n",
       "      <td>55.3982</td>\n",
       "      <td>0.278581</td>\n",
       "      <td>55.676781</td>\n",
       "      <td>49.478146</td>\n",
       "      <td>6.198637</td>\n",
       "    </tr>\n",
       "    <tr>\n",
       "      <th>21</th>\n",
       "      <td>2015-10-01</td>\n",
       "      <td>51.4418</td>\n",
       "      <td>-0.488706</td>\n",
       "      <td>50.953094</td>\n",
       "      <td>49.481892</td>\n",
       "      <td>1.471202</td>\n",
       "    </tr>\n",
       "    <tr>\n",
       "      <th>22</th>\n",
       "      <td>2015-11-01</td>\n",
       "      <td>45.3794</td>\n",
       "      <td>-0.399099</td>\n",
       "      <td>44.980301</td>\n",
       "      <td>49.485764</td>\n",
       "      <td>-4.505457</td>\n",
       "    </tr>\n",
       "    <tr>\n",
       "      <th>23</th>\n",
       "      <td>2015-12-01</td>\n",
       "      <td>41.9324</td>\n",
       "      <td>-1.426602</td>\n",
       "      <td>40.505798</td>\n",
       "      <td>49.489510</td>\n",
       "      <td>-8.983707</td>\n",
       "    </tr>\n",
       "  </tbody>\n",
       "</table>\n",
       "</div>"
      ],
      "text/plain": [
       "           ds        y  residual1      yhat1      trend  season_yearly\n",
       "0  2014-01-01  38.7176  -0.081991  38.635609  49.402252     -10.766644\n",
       "1  2014-02-01  38.3000   1.251186  39.551186  49.406120      -9.854935\n",
       "2  2014-03-01  43.4804  -0.314636  43.165764  49.409615      -6.243849\n",
       "3  2014-04-01  49.2602  -0.368431  48.891769  49.413483      -0.521714\n",
       "4  2014-05-01  54.6476  -0.564302  54.083298  49.417229       4.666068\n",
       "5  2014-06-01  57.8030   0.183595  57.986595  49.421101       8.565491\n",
       "6  2014-07-01  58.7714   0.971085  59.742485  49.424843      10.317642\n",
       "7  2014-08-01  58.7750   0.020609  58.795609  49.428715       9.366896\n",
       "8  2014-09-01  55.5638   0.032544  55.596344  49.432587       6.163758\n",
       "9  2014-10-01  50.5940   0.269865  50.863865  49.436329       1.427537\n",
       "10 2014-11-01  44.0834   0.802586  44.885986  49.440201      -4.554212\n",
       "11 2014-12-01  40.7300  -0.293259  40.436741  49.443947      -9.007204\n",
       "12 2015-01-01  38.9858  -0.298598  38.687202  49.447815     -10.760611\n",
       "13 2015-02-01  40.3952  -0.820565  39.574635  49.451683      -9.877047\n",
       "14 2015-03-01  44.1320  -0.960854  43.171146  49.455177      -6.284034\n",
       "15 2015-04-01  48.7634   0.125066  48.888466  49.459045      -0.570582\n",
       "16 2015-05-01  54.1616  -0.069010  54.092590  49.462791       4.629797\n",
       "17 2015-06-01  58.1090  -0.102973  58.006027  49.466660       8.539368\n",
       "18 2015-07-01  59.0918   0.694325  59.786125  49.470406      10.315716\n",
       "19 2015-08-01  58.5590   0.298086  58.857086  49.474277       9.382810\n",
       "20 2015-09-01  55.3982   0.278581  55.676781  49.478146       6.198637\n",
       "21 2015-10-01  51.4418  -0.488706  50.953094  49.481892       1.471202\n",
       "22 2015-11-01  45.3794  -0.399099  44.980301  49.485764      -4.505457\n",
       "23 2015-12-01  41.9324  -1.426602  40.505798  49.489510      -8.983707"
      ]
     },
     "execution_count": 18,
     "metadata": {},
     "output_type": "execute_result"
    }
   ],
   "source": [
    "forecast1"
   ]
  },
  {
   "cell_type": "code",
   "execution_count": 19,
   "id": "c5f73dfe",
   "metadata": {
    "ExecuteTime": {
     "end_time": "2022-11-15T20:23:30.662924Z",
     "start_time": "2022-11-15T20:23:30.660136Z"
    }
   },
   "outputs": [
    {
     "data": {
      "text/plain": [
       "0.46318967819213935"
      ]
     },
     "execution_count": 19,
     "metadata": {},
     "output_type": "execute_result"
    }
   ],
   "source": [
    "mean_absolute_error(forecast1['y'], forecast1['yhat1'])"
   ]
  },
  {
   "cell_type": "code",
   "execution_count": 20,
   "id": "09fa98ea",
   "metadata": {
    "ExecuteTime": {
     "end_time": "2022-11-15T20:23:31.122016Z",
     "start_time": "2022-11-15T20:23:30.664299Z"
    },
    "scrolled": true
   },
   "outputs": [
    {
     "data": {
      "image/png": "[encoded data removed]",
      "text/plain": [
       "<Figure size 720x648 with 3 Axes>"
      ]
     },
     "metadata": {},
     "output_type": "display_data"
    }
   ],
   "source": [
    "params = m1.plot_parameters()"
   ]
  },
  {
   "cell_type": "markdown",
   "id": "711b95f3",
   "metadata": {},
   "source": [
    "## Model Interpretation\n",
    "This model is performing very well with a MAE of 0.46. It is important to remember that it is only predicting one month into the future. In other words, it's unlikely that the forecast based on this data will be within .5 degrees when predicting the long term future. The only parameter I'd like to tweak is changepoint range, which is set at .8 by default, meaning that the model will not pick up on any change in trend in the last 20% of data, or around th 1970's. If you look at the trend portion of the parameters plot, this is where a significant upward trend begins. Before predicting future values, we will include all but the last 10%, identify whether this decreases the MAE, and then use the best performing parameters to predict future temperatures. "
   ]
  },
  {
   "cell_type": "code",
   "execution_count": 21,
   "id": "ebbe8552",
   "metadata": {
    "ExecuteTime": {
     "end_time": "2022-11-15T20:23:37.910003Z",
     "start_time": "2022-11-15T20:23:31.122799Z"
    },
    "scrolled": true
   },
   "outputs": [
    {
     "name": "stderr",
     "output_type": "stream",
     "text": [
      "INFO - (NP.df_utils._infer_frequency) - Major frequency MS corresponds to 91.614% of the data.\n",
      "INFO - (NP.df_utils._infer_frequency) - Defined frequency is equal to major frequency - MS\n",
      "INFO - (NP.config.init_data_params) - Setting normalization to global as only one dataframe provided for training.\n",
      "INFO - (NP.utils.set_auto_seasonalities) - Disabling weekly seasonality. Run NeuralProphet with weekly_seasonality=True to override this.\n",
      "INFO - (NP.utils.set_auto_seasonalities) - Disabling daily seasonality. Run NeuralProphet with daily_seasonality=True to override this.\n",
      "INFO - (NP.config.set_auto_batch_epoch) - Auto-set batch_size to 32\n",
      "INFO - (NP.config.set_auto_batch_epoch) - Auto-set epochs to 160\n"
     ]
    },
    {
     "data": {
      "application/vnd.jupyter.widget-view+json": {
       "model_id": "7b77e1df9ff1487fb38004777d14d738",
       "version_major": 2,
       "version_minor": 0
      },
      "text/plain": [
       "  0%|          | 0/132 [00:00<?, ?it/s]"
      ]
     },
     "metadata": {},
     "output_type": "display_data"
    },
    {
     "name": "stderr",
     "output_type": "stream",
     "text": [
      "INFO - (NP.utils_torch.lr_range_test) - lr-range-test results: steep: 3.94E-01, min: 6.33E-01\n"
     ]
    },
    {
     "data": {
      "application/vnd.jupyter.widget-view+json": {
       "model_id": "80703692535e48858de0908a8ce2a431",
       "version_major": 2,
       "version_minor": 0
      },
      "text/plain": [
       "  0%|          | 0/132 [00:00<?, ?it/s]"
      ]
     },
     "metadata": {},
     "output_type": "display_data"
    },
    {
     "name": "stderr",
     "output_type": "stream",
     "text": [
      "INFO - (NP.utils_torch.lr_range_test) - lr-range-test results: steep: 3.67E-02, min: 7.42E-01\n",
      "INFO - (NP.forecaster._init_train_loader) - lr-range-test selected learning rate: 1.13E-01\n",
      "Epoch[160/160]: 100%|█| 160/160 [00:06<00:00, 24.93it/s, L1Loss=0.0194, MAE=0.48\n"
     ]
    },
    {
     "data": {
      "text/html": [
       "<div>\n",
       "<style scoped>\n",
       "    .dataframe tbody tr th:only-of-type {\n",
       "        vertical-align: middle;\n",
       "    }\n",
       "\n",
       "    .dataframe tbody tr th {\n",
       "        vertical-align: top;\n",
       "    }\n",
       "\n",
       "    .dataframe thead th {\n",
       "        text-align: right;\n",
       "    }\n",
       "</style>\n",
       "<table border=\"1\" class=\"dataframe\">\n",
       "  <thead>\n",
       "    <tr style=\"text-align: right;\">\n",
       "      <th></th>\n",
       "      <th>L1Loss</th>\n",
       "      <th>MAE</th>\n",
       "      <th>RMSE</th>\n",
       "      <th>Loss</th>\n",
       "      <th>RegLoss</th>\n",
       "      <th>L1Loss_val</th>\n",
       "      <th>MAE_val</th>\n",
       "      <th>RMSE_val</th>\n",
       "    </tr>\n",
       "  </thead>\n",
       "  <tbody>\n",
       "    <tr>\n",
       "      <th>0</th>\n",
       "      <td>0.898576</td>\n",
       "      <td>22.508244</td>\n",
       "      <td>28.353613</td>\n",
       "      <td>0.655858</td>\n",
       "      <td>0.0</td>\n",
       "      <td>0.885119</td>\n",
       "      <td>22.171159</td>\n",
       "      <td>28.149633</td>\n",
       "    </tr>\n",
       "    <tr>\n",
       "      <th>1</th>\n",
       "      <td>0.769759</td>\n",
       "      <td>19.281533</td>\n",
       "      <td>24.901720</td>\n",
       "      <td>0.557318</td>\n",
       "      <td>0.0</td>\n",
       "      <td>0.764485</td>\n",
       "      <td>19.149418</td>\n",
       "      <td>24.944351</td>\n",
       "    </tr>\n",
       "    <tr>\n",
       "      <th>2</th>\n",
       "      <td>0.621914</td>\n",
       "      <td>15.578209</td>\n",
       "      <td>21.015347</td>\n",
       "      <td>0.443918</td>\n",
       "      <td>0.0</td>\n",
       "      <td>0.653942</td>\n",
       "      <td>16.380471</td>\n",
       "      <td>21.374845</td>\n",
       "    </tr>\n",
       "    <tr>\n",
       "      <th>3</th>\n",
       "      <td>0.481943</td>\n",
       "      <td>12.072102</td>\n",
       "      <td>17.005576</td>\n",
       "      <td>0.340160</td>\n",
       "      <td>0.0</td>\n",
       "      <td>0.569882</td>\n",
       "      <td>14.274868</td>\n",
       "      <td>18.149281</td>\n",
       "    </tr>\n",
       "    <tr>\n",
       "      <th>4</th>\n",
       "      <td>0.365067</td>\n",
       "      <td>9.144499</td>\n",
       "      <td>13.388630</td>\n",
       "      <td>0.251987</td>\n",
       "      <td>0.0</td>\n",
       "      <td>0.467382</td>\n",
       "      <td>11.707361</td>\n",
       "      <td>14.617256</td>\n",
       "    </tr>\n",
       "    <tr>\n",
       "      <th>...</th>\n",
       "      <td>...</td>\n",
       "      <td>...</td>\n",
       "      <td>...</td>\n",
       "      <td>...</td>\n",
       "      <td>...</td>\n",
       "      <td>...</td>\n",
       "      <td>...</td>\n",
       "      <td>...</td>\n",
       "    </tr>\n",
       "    <tr>\n",
       "      <th>155</th>\n",
       "      <td>0.019545</td>\n",
       "      <td>0.489581</td>\n",
       "      <td>0.641828</td>\n",
       "      <td>0.014214</td>\n",
       "      <td>0.0</td>\n",
       "      <td>0.347341</td>\n",
       "      <td>8.700480</td>\n",
       "      <td>10.741143</td>\n",
       "    </tr>\n",
       "    <tr>\n",
       "      <th>156</th>\n",
       "      <td>0.019474</td>\n",
       "      <td>0.487804</td>\n",
       "      <td>0.637931</td>\n",
       "      <td>0.014173</td>\n",
       "      <td>0.0</td>\n",
       "      <td>0.347235</td>\n",
       "      <td>8.697811</td>\n",
       "      <td>10.737794</td>\n",
       "    </tr>\n",
       "    <tr>\n",
       "      <th>157</th>\n",
       "      <td>0.019452</td>\n",
       "      <td>0.487247</td>\n",
       "      <td>0.639134</td>\n",
       "      <td>0.014130</td>\n",
       "      <td>0.0</td>\n",
       "      <td>0.347101</td>\n",
       "      <td>8.694463</td>\n",
       "      <td>10.733913</td>\n",
       "    </tr>\n",
       "    <tr>\n",
       "      <th>158</th>\n",
       "      <td>0.019383</td>\n",
       "      <td>0.485515</td>\n",
       "      <td>0.636902</td>\n",
       "      <td>0.014081</td>\n",
       "      <td>0.0</td>\n",
       "      <td>0.347229</td>\n",
       "      <td>8.697658</td>\n",
       "      <td>10.737741</td>\n",
       "    </tr>\n",
       "    <tr>\n",
       "      <th>159</th>\n",
       "      <td>0.019351</td>\n",
       "      <td>0.484726</td>\n",
       "      <td>0.635791</td>\n",
       "      <td>0.014063</td>\n",
       "      <td>0.0</td>\n",
       "      <td>0.347226</td>\n",
       "      <td>8.697595</td>\n",
       "      <td>10.737645</td>\n",
       "    </tr>\n",
       "  </tbody>\n",
       "</table>\n",
       "<p>160 rows × 8 columns</p>\n",
       "</div>"
      ],
      "text/plain": [
       "       L1Loss        MAE       RMSE      Loss  RegLoss  L1Loss_val    MAE_val  \\\n",
       "0    0.898576  22.508244  28.353613  0.655858      0.0    0.885119  22.171159   \n",
       "1    0.769759  19.281533  24.901720  0.557318      0.0    0.764485  19.149418   \n",
       "2    0.621914  15.578209  21.015347  0.443918      0.0    0.653942  16.380471   \n",
       "3    0.481943  12.072102  17.005576  0.340160      0.0    0.569882  14.274868   \n",
       "4    0.365067   9.144499  13.388630  0.251987      0.0    0.467382  11.707361   \n",
       "..        ...        ...        ...       ...      ...         ...        ...   \n",
       "155  0.019545   0.489581   0.641828  0.014214      0.0    0.347341   8.700480   \n",
       "156  0.019474   0.487804   0.637931  0.014173      0.0    0.347235   8.697811   \n",
       "157  0.019452   0.487247   0.639134  0.014130      0.0    0.347101   8.694463   \n",
       "158  0.019383   0.485515   0.636902  0.014081      0.0    0.347229   8.697658   \n",
       "159  0.019351   0.484726   0.635791  0.014063      0.0    0.347226   8.697595   \n",
       "\n",
       "      RMSE_val  \n",
       "0    28.149633  \n",
       "1    24.944351  \n",
       "2    21.374845  \n",
       "3    18.149281  \n",
       "4    14.617256  \n",
       "..         ...  \n",
       "155  10.741143  \n",
       "156  10.737794  \n",
       "157  10.733913  \n",
       "158  10.737741  \n",
       "159  10.737645  \n",
       "\n",
       "[160 rows x 8 columns]"
      ]
     },
     "execution_count": 21,
     "metadata": {},
     "output_type": "execute_result"
    }
   ],
   "source": [
    "m2 = m1 = NeuralProphet(loss_func='MAE', changepoints_range =.9)\n",
    "m2.fit(ts_train, validation_df=ts_train, freq = 'MS')"
   ]
  },
  {
   "cell_type": "code",
   "execution_count": 22,
   "id": "d96cc0a0",
   "metadata": {
    "ExecuteTime": {
     "end_time": "2022-11-15T20:23:38.063749Z",
     "start_time": "2022-11-15T20:23:37.910913Z"
    }
   },
   "outputs": [
    {
     "name": "stderr",
     "output_type": "stream",
     "text": [
      "INFO - (NP.df_utils._infer_frequency) - Major frequency MS corresponds to 87.5% of the data.\n",
      "INFO - (NP.df_utils._infer_frequency) - Defined frequency is equal to major frequency - MS\n",
      "INFO - (NP.df_utils._infer_frequency) - Major frequency MS corresponds to 87.5% of the data.\n",
      "INFO - (NP.df_utils._infer_frequency) - Defined frequency is equal to major frequency - MS\n",
      "INFO - (NP.df_utils.return_df_in_original_format) - Returning df with no ID column\n"
     ]
    },
    {
     "data": {
      "image/png": "[encoded data removed]",
      "text/plain": [
       "<Figure size 432x288 with 1 Axes>"
      ]
     },
     "metadata": {
      "needs_background": "light"
     },
     "output_type": "display_data"
    }
   ],
   "source": [
    "forecast2 = m2.predict(ts_test)\n",
    "ax = plt.subplot()\n",
    "plot= m2.plot(forecast2, ax = ax)\n",
    "ax.set_title('Predicted vs Actual Temperatures')\n",
    "ax.set_xlabel('Forecast Date')\n",
    "ax.set_ylabel('Temperature (F)')\n",
    "ax.legend(['Predicted Temperature', 'Actual Temperature']);"
   ]
  },
  {
   "cell_type": "code",
   "execution_count": 23,
   "id": "10eda0f6",
   "metadata": {
    "ExecuteTime": {
     "end_time": "2022-11-15T20:23:38.067364Z",
     "start_time": "2022-11-15T20:23:38.064767Z"
    }
   },
   "outputs": [
    {
     "data": {
      "text/plain": [
       "0.451843338012696"
      ]
     },
     "execution_count": 23,
     "metadata": {},
     "output_type": "execute_result"
    }
   ],
   "source": [
    "mean_absolute_error(forecast2['y'], forecast2['yhat1'])"
   ]
  },
  {
   "cell_type": "markdown",
   "id": "8a78d250",
   "metadata": {},
   "source": [
    "## Second Model Interpretation/Predictions\n",
    "Since this parameter change resulted in better scores, we will use this model to predict future global temperatures. Since global temperature change is seems to occur over longer timespans, we will have our model predict temps over the next 30 years.  "
   ]
  },
  {
   "cell_type": "code",
   "execution_count": 24,
   "id": "1da2fd90",
   "metadata": {
    "ExecuteTime": {
     "end_time": "2022-11-15T20:23:38.079403Z",
     "start_time": "2022-11-15T20:23:38.068155Z"
    },
    "scrolled": false
   },
   "outputs": [
    {
     "name": "stderr",
     "output_type": "stream",
     "text": [
      "INFO - (NP.df_utils._infer_frequency) - Major frequency MS corresponds to 87.5% of the data.\n",
      "INFO - (NP.df_utils._infer_frequency) - Defined frequency is equal to major frequency - MS\n",
      "INFO - (NP.df_utils.return_df_in_original_format) - Returning df with no ID column\n"
     ]
    }
   ],
   "source": [
    "future_dates = m2.make_future_dataframe(periods = 360, df = ts_test)"
   ]
  },
  {
   "cell_type": "code",
   "execution_count": 25,
   "id": "9f1f2767",
   "metadata": {
    "ExecuteTime": {
     "end_time": "2022-11-15T20:23:38.130360Z",
     "start_time": "2022-11-15T20:23:38.080653Z"
    },
    "scrolled": false
   },
   "outputs": [
    {
     "name": "stderr",
     "output_type": "stream",
     "text": [
      "INFO - (NP.df_utils._infer_frequency) - Major frequency MS corresponds to 91.389% of the data.\n",
      "INFO - (NP.df_utils._infer_frequency) - Defined frequency is equal to major frequency - MS\n",
      "INFO - (NP.df_utils._infer_frequency) - Major frequency MS corresponds to 91.389% of the data.\n",
      "INFO - (NP.df_utils._infer_frequency) - Defined frequency is equal to major frequency - MS\n",
      "INFO - (NP.df_utils.return_df_in_original_format) - Returning df with no ID column\n"
     ]
    }
   ],
   "source": [
    "forecast_future = m2.predict(future_dates)"
   ]
  },
  {
   "cell_type": "code",
   "execution_count": 26,
   "id": "e1a11f81",
   "metadata": {
    "ExecuteTime": {
     "end_time": "2022-11-15T20:23:38.256129Z",
     "start_time": "2022-11-15T20:23:38.131363Z"
    },
    "scrolled": false
   },
   "outputs": [
    {
     "data": {
      "image/png": "[encoded data removed]",
      "text/plain": [
       "<Figure size 432x288 with 1 Axes>"
      ]
     },
     "metadata": {
      "needs_background": "light"
     },
     "output_type": "display_data"
    }
   ],
   "source": [
    "plt.plot(forecast_future['ds'], forecast_future['yhat1']);"
   ]
  },
  {
   "cell_type": "code",
   "execution_count": 27,
   "id": "8373d85e",
   "metadata": {
    "ExecuteTime": {
     "end_time": "2022-11-15T20:23:38.265209Z",
     "start_time": "2022-11-15T20:23:38.257052Z"
    },
    "scrolled": false
   },
   "outputs": [
    {
     "data": {
      "text/html": [
       "<div>\n",
       "<style scoped>\n",
       "    .dataframe tbody tr th:only-of-type {\n",
       "        vertical-align: middle;\n",
       "    }\n",
       "\n",
       "    .dataframe tbody tr th {\n",
       "        vertical-align: top;\n",
       "    }\n",
       "\n",
       "    .dataframe thead th {\n",
       "        text-align: right;\n",
       "    }\n",
       "</style>\n",
       "<table border=\"1\" class=\"dataframe\">\n",
       "  <thead>\n",
       "    <tr style=\"text-align: right;\">\n",
       "      <th></th>\n",
       "      <th>yhat1</th>\n",
       "      <th>trend</th>\n",
       "      <th>season_yearly</th>\n",
       "    </tr>\n",
       "    <tr>\n",
       "      <th>ds</th>\n",
       "      <th></th>\n",
       "      <th></th>\n",
       "      <th></th>\n",
       "    </tr>\n",
       "  </thead>\n",
       "  <tbody>\n",
       "    <tr>\n",
       "      <th>2016-12-31</th>\n",
       "      <td>49.545676</td>\n",
       "      <td>49.588201</td>\n",
       "      <td>-0.042526</td>\n",
       "    </tr>\n",
       "    <tr>\n",
       "      <th>2017-12-31</th>\n",
       "      <td>49.601686</td>\n",
       "      <td>49.638795</td>\n",
       "      <td>-0.037109</td>\n",
       "    </tr>\n",
       "    <tr>\n",
       "      <th>2018-12-31</th>\n",
       "      <td>49.652024</td>\n",
       "      <td>49.689366</td>\n",
       "      <td>-0.037341</td>\n",
       "    </tr>\n",
       "    <tr>\n",
       "      <th>2019-12-31</th>\n",
       "      <td>49.702364</td>\n",
       "      <td>49.739936</td>\n",
       "      <td>-0.037572</td>\n",
       "    </tr>\n",
       "    <tr>\n",
       "      <th>2020-12-31</th>\n",
       "      <td>49.748098</td>\n",
       "      <td>49.790623</td>\n",
       "      <td>-0.042526</td>\n",
       "    </tr>\n",
       "    <tr>\n",
       "      <th>2021-12-31</th>\n",
       "      <td>49.804108</td>\n",
       "      <td>49.841217</td>\n",
       "      <td>-0.037109</td>\n",
       "    </tr>\n",
       "    <tr>\n",
       "      <th>2022-12-31</th>\n",
       "      <td>49.854447</td>\n",
       "      <td>49.891788</td>\n",
       "      <td>-0.037341</td>\n",
       "    </tr>\n",
       "    <tr>\n",
       "      <th>2023-12-31</th>\n",
       "      <td>49.904786</td>\n",
       "      <td>49.942358</td>\n",
       "      <td>-0.037572</td>\n",
       "    </tr>\n",
       "    <tr>\n",
       "      <th>2024-12-31</th>\n",
       "      <td>49.950520</td>\n",
       "      <td>49.993045</td>\n",
       "      <td>-0.042526</td>\n",
       "    </tr>\n",
       "    <tr>\n",
       "      <th>2025-12-31</th>\n",
       "      <td>50.006530</td>\n",
       "      <td>50.043639</td>\n",
       "      <td>-0.037109</td>\n",
       "    </tr>\n",
       "    <tr>\n",
       "      <th>2026-12-31</th>\n",
       "      <td>50.056869</td>\n",
       "      <td>50.094211</td>\n",
       "      <td>-0.037341</td>\n",
       "    </tr>\n",
       "    <tr>\n",
       "      <th>2027-12-31</th>\n",
       "      <td>50.107209</td>\n",
       "      <td>50.144781</td>\n",
       "      <td>-0.037572</td>\n",
       "    </tr>\n",
       "    <tr>\n",
       "      <th>2028-12-31</th>\n",
       "      <td>50.152942</td>\n",
       "      <td>50.195467</td>\n",
       "      <td>-0.042526</td>\n",
       "    </tr>\n",
       "    <tr>\n",
       "      <th>2029-12-31</th>\n",
       "      <td>50.208952</td>\n",
       "      <td>50.246061</td>\n",
       "      <td>-0.037109</td>\n",
       "    </tr>\n",
       "    <tr>\n",
       "      <th>2030-12-31</th>\n",
       "      <td>50.259291</td>\n",
       "      <td>50.296632</td>\n",
       "      <td>-0.037341</td>\n",
       "    </tr>\n",
       "    <tr>\n",
       "      <th>2031-12-31</th>\n",
       "      <td>50.309631</td>\n",
       "      <td>50.347203</td>\n",
       "      <td>-0.037572</td>\n",
       "    </tr>\n",
       "    <tr>\n",
       "      <th>2032-12-31</th>\n",
       "      <td>50.355364</td>\n",
       "      <td>50.397889</td>\n",
       "      <td>-0.042526</td>\n",
       "    </tr>\n",
       "    <tr>\n",
       "      <th>2033-12-31</th>\n",
       "      <td>50.411375</td>\n",
       "      <td>50.448483</td>\n",
       "      <td>-0.037109</td>\n",
       "    </tr>\n",
       "    <tr>\n",
       "      <th>2034-12-31</th>\n",
       "      <td>50.461713</td>\n",
       "      <td>50.499054</td>\n",
       "      <td>-0.037341</td>\n",
       "    </tr>\n",
       "    <tr>\n",
       "      <th>2035-12-31</th>\n",
       "      <td>50.512053</td>\n",
       "      <td>50.549625</td>\n",
       "      <td>-0.037572</td>\n",
       "    </tr>\n",
       "    <tr>\n",
       "      <th>2036-12-31</th>\n",
       "      <td>50.557785</td>\n",
       "      <td>50.600311</td>\n",
       "      <td>-0.042526</td>\n",
       "    </tr>\n",
       "    <tr>\n",
       "      <th>2037-12-31</th>\n",
       "      <td>50.613797</td>\n",
       "      <td>50.650906</td>\n",
       "      <td>-0.037109</td>\n",
       "    </tr>\n",
       "    <tr>\n",
       "      <th>2038-12-31</th>\n",
       "      <td>50.664135</td>\n",
       "      <td>50.701476</td>\n",
       "      <td>-0.037341</td>\n",
       "    </tr>\n",
       "    <tr>\n",
       "      <th>2039-12-31</th>\n",
       "      <td>50.714475</td>\n",
       "      <td>50.752047</td>\n",
       "      <td>-0.037572</td>\n",
       "    </tr>\n",
       "    <tr>\n",
       "      <th>2040-12-31</th>\n",
       "      <td>50.760208</td>\n",
       "      <td>50.802733</td>\n",
       "      <td>-0.042526</td>\n",
       "    </tr>\n",
       "    <tr>\n",
       "      <th>2041-12-31</th>\n",
       "      <td>50.816219</td>\n",
       "      <td>50.853328</td>\n",
       "      <td>-0.037109</td>\n",
       "    </tr>\n",
       "    <tr>\n",
       "      <th>2042-12-31</th>\n",
       "      <td>50.866557</td>\n",
       "      <td>50.903898</td>\n",
       "      <td>-0.037341</td>\n",
       "    </tr>\n",
       "    <tr>\n",
       "      <th>2043-12-31</th>\n",
       "      <td>50.916897</td>\n",
       "      <td>50.954469</td>\n",
       "      <td>-0.037572</td>\n",
       "    </tr>\n",
       "    <tr>\n",
       "      <th>2044-12-31</th>\n",
       "      <td>50.962630</td>\n",
       "      <td>51.005156</td>\n",
       "      <td>-0.042526</td>\n",
       "    </tr>\n",
       "    <tr>\n",
       "      <th>2045-12-31</th>\n",
       "      <td>51.018640</td>\n",
       "      <td>51.055750</td>\n",
       "      <td>-0.037109</td>\n",
       "    </tr>\n",
       "  </tbody>\n",
       "</table>\n",
       "</div>"
      ],
      "text/plain": [
       "                yhat1      trend  season_yearly\n",
       "ds                                             \n",
       "2016-12-31  49.545676  49.588201      -0.042526\n",
       "2017-12-31  49.601686  49.638795      -0.037109\n",
       "2018-12-31  49.652024  49.689366      -0.037341\n",
       "2019-12-31  49.702364  49.739936      -0.037572\n",
       "2020-12-31  49.748098  49.790623      -0.042526\n",
       "2021-12-31  49.804108  49.841217      -0.037109\n",
       "2022-12-31  49.854447  49.891788      -0.037341\n",
       "2023-12-31  49.904786  49.942358      -0.037572\n",
       "2024-12-31  49.950520  49.993045      -0.042526\n",
       "2025-12-31  50.006530  50.043639      -0.037109\n",
       "2026-12-31  50.056869  50.094211      -0.037341\n",
       "2027-12-31  50.107209  50.144781      -0.037572\n",
       "2028-12-31  50.152942  50.195467      -0.042526\n",
       "2029-12-31  50.208952  50.246061      -0.037109\n",
       "2030-12-31  50.259291  50.296632      -0.037341\n",
       "2031-12-31  50.309631  50.347203      -0.037572\n",
       "2032-12-31  50.355364  50.397889      -0.042526\n",
       "2033-12-31  50.411375  50.448483      -0.037109\n",
       "2034-12-31  50.461713  50.499054      -0.037341\n",
       "2035-12-31  50.512053  50.549625      -0.037572\n",
       "2036-12-31  50.557785  50.600311      -0.042526\n",
       "2037-12-31  50.613797  50.650906      -0.037109\n",
       "2038-12-31  50.664135  50.701476      -0.037341\n",
       "2039-12-31  50.714475  50.752047      -0.037572\n",
       "2040-12-31  50.760208  50.802733      -0.042526\n",
       "2041-12-31  50.816219  50.853328      -0.037109\n",
       "2042-12-31  50.866557  50.903898      -0.037341\n",
       "2043-12-31  50.916897  50.954469      -0.037572\n",
       "2044-12-31  50.962630  51.005156      -0.042526\n",
       "2045-12-31  51.018640  51.055750      -0.037109"
      ]
     },
     "execution_count": 27,
     "metadata": {},
     "output_type": "execute_result"
    }
   ],
   "source": [
    "forecast_future.groupby(pd.Grouper(key=\"ds\", freq=\"Y\")).mean()"
   ]
  },
  {
   "cell_type": "markdown",
   "id": "aad67d6b",
   "metadata": {},
   "source": [
    "## Forecast Summary\n",
    "The final Prophet model suggests that global average temperatures will increase by another 1.5 degrees over the next 30 years. This is roughly on par with the predictions from the U.S. Global Change Research Program's 2016 Climate Science Special Report, which predicts an increase of 2 to 4 degrees by mid 21st century (2036-2065), depending on a number of factors."
   ]
  },
  {
   "cell_type": "markdown",
   "id": "aa877df1",
   "metadata": {},
   "source": [
    "## LSTM Model\n",
    "Next we will apply and LSTM (Long Short Term Memory) Model to the same timeseries data. This is a bit more involved than Prophet, which automates many of the following steps. \n",
    "1) This model requires a slightly different datafram structure than our Prophet model (DateTime Index)\n",
    "2) Resplitting into 2 year test set\n",
    "3) Scaling the data (happens automatically with prophet)"
   ]
  },
  {
   "cell_type": "code",
   "execution_count": 28,
   "id": "935cc281",
   "metadata": {
    "ExecuteTime": {
     "end_time": "2022-11-15T20:23:38.270060Z",
     "start_time": "2022-11-15T20:23:38.266355Z"
    }
   },
   "outputs": [
    {
     "data": {
      "text/html": [
       "<div>\n",
       "<style scoped>\n",
       "    .dataframe tbody tr th:only-of-type {\n",
       "        vertical-align: middle;\n",
       "    }\n",
       "\n",
       "    .dataframe tbody tr th {\n",
       "        vertical-align: top;\n",
       "    }\n",
       "\n",
       "    .dataframe thead th {\n",
       "        text-align: right;\n",
       "    }\n",
       "</style>\n",
       "<table border=\"1\" class=\"dataframe\">\n",
       "  <thead>\n",
       "    <tr style=\"text-align: right;\">\n",
       "      <th></th>\n",
       "      <th>y</th>\n",
       "    </tr>\n",
       "    <tr>\n",
       "      <th>ds</th>\n",
       "      <th></th>\n",
       "    </tr>\n",
       "  </thead>\n",
       "  <tbody>\n",
       "    <tr>\n",
       "      <th>1856-01-01</th>\n",
       "      <td>36.9680</td>\n",
       "    </tr>\n",
       "    <tr>\n",
       "      <th>1856-02-01</th>\n",
       "      <td>36.0068</td>\n",
       "    </tr>\n",
       "    <tr>\n",
       "      <th>1856-03-01</th>\n",
       "      <td>39.8696</td>\n",
       "    </tr>\n",
       "    <tr>\n",
       "      <th>1856-04-01</th>\n",
       "      <td>45.9518</td>\n",
       "    </tr>\n",
       "    <tr>\n",
       "      <th>1856-05-01</th>\n",
       "      <td>50.9540</td>\n",
       "    </tr>\n",
       "  </tbody>\n",
       "</table>\n",
       "</div>"
      ],
      "text/plain": [
       "                  y\n",
       "ds                 \n",
       "1856-01-01  36.9680\n",
       "1856-02-01  36.0068\n",
       "1856-03-01  39.8696\n",
       "1856-04-01  45.9518\n",
       "1856-05-01  50.9540"
      ]
     },
     "execution_count": 28,
     "metadata": {},
     "output_type": "execute_result"
    }
   ],
   "source": [
    "lstm_df = ts.set_index('ds')\n",
    "lstm_df.head()"
   ]
  },
  {
   "cell_type": "code",
   "execution_count": 29,
   "id": "9bb4e8fb",
   "metadata": {
    "ExecuteTime": {
     "end_time": "2022-11-15T20:23:38.780915Z",
     "start_time": "2022-11-15T20:23:38.271360Z"
    },
    "scrolled": true
   },
   "outputs": [
    {
     "data": {
      "image/png": "[encoded data removed]",
      "text/plain": [
       "<Figure size 432x288 with 4 Axes>"
      ]
     },
     "metadata": {
      "needs_background": "light"
     },
     "output_type": "display_data"
    }
   ],
   "source": [
    "results = seasonal_decompose(lstm_df['y'])\n",
    "results = results.plot()"
   ]
  },
  {
   "cell_type": "markdown",
   "id": "00c5802b",
   "metadata": {},
   "source": [
    "We can see the same general trend that the prophet model picked up on. The seasonality is tougher to make out but has been well covered earlier in the notebook as well. We do not need to check for stationarity, as these more complex models don't require a stationary dataset. "
   ]
  },
  {
   "cell_type": "code",
   "execution_count": 30,
   "id": "41beef8e",
   "metadata": {
    "ExecuteTime": {
     "end_time": "2022-11-15T20:23:38.783806Z",
     "start_time": "2022-11-15T20:23:38.781757Z"
    }
   },
   "outputs": [],
   "source": [
    "lstm_train = lstm_df[lstm_df.index < pd.Timestamp('2014-01-01')]\n",
    "lstm_test = lstm_df[lstm_df.index >= pd.Timestamp('2014-01-01')]"
   ]
  },
  {
   "cell_type": "code",
   "execution_count": 31,
   "id": "2bdd2d1b",
   "metadata": {
    "ExecuteTime": {
     "end_time": "2022-11-15T20:23:38.789269Z",
     "start_time": "2022-11-15T20:23:38.786493Z"
    }
   },
   "outputs": [],
   "source": [
    "scaler = MinMaxScaler()\n",
    "scaler.fit(lstm_train)\n",
    "train_scaled = scaler.transform(lstm_train)\n",
    "test_scaled = scaler.transform(lstm_test)"
   ]
  },
  {
   "cell_type": "code",
   "execution_count": 32,
   "id": "579c9910",
   "metadata": {
    "ExecuteTime": {
     "end_time": "2022-11-15T20:23:38.791544Z",
     "start_time": "2022-11-15T20:23:38.790019Z"
    }
   },
   "outputs": [],
   "source": [
    "n_input = 12\n",
    "n_features = 1 \n",
    "generator = TimeseriesGenerator(train_scaled, train_scaled, length = n_input, batch_size = 1)"
   ]
  },
  {
   "cell_type": "code",
   "execution_count": 33,
   "id": "75caab32",
   "metadata": {
    "ExecuteTime": {
     "end_time": "2022-11-15T20:23:38.934755Z",
     "start_time": "2022-11-15T20:23:38.792333Z"
    }
   },
   "outputs": [
    {
     "name": "stdout",
     "output_type": "stream",
     "text": [
      "Metal device set to: Apple M1\n",
      "WARNING:tensorflow:Layer lstm will not use cuDNN kernels since it doesn't meet the criteria. It will use a generic GPU kernel as fallback when running on GPU.\n"
     ]
    },
    {
     "name": "stderr",
     "output_type": "stream",
     "text": [
      "2022-11-15 12:23:38.797262: I tensorflow/core/common_runtime/pluggable_device/pluggable_device_factory.cc:305] Could not identify NUMA node of platform GPU ID 0, defaulting to 0. Your kernel may not have been built with NUMA support.\n",
      "2022-11-15 12:23:38.797393: I tensorflow/core/common_runtime/pluggable_device/pluggable_device_factory.cc:271] Created TensorFlow device (/job:localhost/replica:0/task:0/device:GPU:0 with 0 MB memory) -> physical PluggableDevice (device: 0, name: METAL, pci bus id: <undefined>)\n"
     ]
    }
   ],
   "source": [
    "model = Sequential()\n",
    "model.add(LSTM(100, activation='relu', input_shape=(n_input, n_features)))\n",
    "model.add(Dense(1))\n",
    "model.compile(optimizer='adam', loss='mae')"
   ]
  },
  {
   "cell_type": "code",
   "execution_count": 34,
   "id": "3e1c5450",
   "metadata": {
    "ExecuteTime": {
     "end_time": "2022-11-15T20:23:38.939637Z",
     "start_time": "2022-11-15T20:23:38.935620Z"
    },
    "scrolled": true
   },
   "outputs": [
    {
     "name": "stdout",
     "output_type": "stream",
     "text": [
      "Model: \"sequential\"\n",
      "_________________________________________________________________\n",
      " Layer (type)                Output Shape              Param #   \n",
      "=================================================================\n",
      " lstm (LSTM)                 (None, 100)               40800     \n",
      "                                                                 \n",
      " dense (Dense)               (None, 1)                 101       \n",
      "                                                                 \n",
      "=================================================================\n",
      "Total params: 40,901\n",
      "Trainable params: 40,901\n",
      "Non-trainable params: 0\n",
      "_________________________________________________________________\n"
     ]
    }
   ],
   "source": [
    "model.summary()"
   ]
  },
  {
   "cell_type": "code",
   "execution_count": 35,
   "id": "9e19d8de",
   "metadata": {
    "ExecuteTime": {
     "end_time": "2022-11-15T22:38:38.296604Z",
     "start_time": "2022-11-15T20:23:43.430718Z"
    },
    "scrolled": true
   },
   "outputs": [
    {
     "name": "stdout",
     "output_type": "stream",
     "text": [
      "Epoch 1/35\n"
     ]
    },
    {
     "name": "stderr",
     "output_type": "stream",
     "text": [
      "2022-11-15 12:23:43.490820: W tensorflow/core/platform/profile_utils/cpu_utils.cc:128] Failed to get CPU frequency: 0 Hz\n",
      "2022-11-15 12:23:43.991017: I tensorflow/core/grappler/optimizers/custom_graph_optimizer_registry.cc:113] Plugin optimizer for device_type GPU is enabled.\n"
     ]
    },
    {
     "name": "stdout",
     "output_type": "stream",
     "text": [
      "1884/1884 [==============================] - 217s 115ms/step - loss: 0.0755\n",
      "Epoch 2/35\n",
      "1884/1884 [==============================] - 219s 116ms/step - loss: 0.0367\n",
      "Epoch 3/35\n",
      "1884/1884 [==============================] - 222s 118ms/step - loss: 0.0319\n",
      "Epoch 4/35\n",
      "1884/1884 [==============================] - 222s 118ms/step - loss: 0.0293\n",
      "Epoch 5/35\n",
      "1884/1884 [==============================] - 225s 120ms/step - loss: 0.0278\n",
      "Epoch 6/35\n",
      "1884/1884 [==============================] - 235s 125ms/step - loss: 0.0255\n",
      "Epoch 7/35\n",
      "1884/1884 [==============================] - 233s 124ms/step - loss: 0.0245\n",
      "Epoch 8/35\n",
      "1884/1884 [==============================] - 237s 126ms/step - loss: 0.0243\n",
      "Epoch 9/35\n",
      "1884/1884 [==============================] - 235s 125ms/step - loss: 0.0236\n",
      "Epoch 10/35\n",
      "1884/1884 [==============================] - 237s 126ms/step - loss: 0.0250\n",
      "Epoch 11/35\n",
      "1884/1884 [==============================] - 251s 133ms/step - loss: 0.0228\n",
      "Epoch 12/35\n",
      "1884/1884 [==============================] - 246s 131ms/step - loss: 0.0225\n",
      "Epoch 13/35\n",
      "1884/1884 [==============================] - 250s 132ms/step - loss: 0.0234\n",
      "Epoch 14/35\n",
      "1884/1884 [==============================] - 231s 122ms/step - loss: 0.0232\n",
      "Epoch 15/35\n",
      "1884/1884 [==============================] - 229s 122ms/step - loss: 0.0216\n",
      "Epoch 16/35\n",
      "1884/1884 [==============================] - 226s 120ms/step - loss: 0.0219\n",
      "Epoch 17/35\n",
      "1884/1884 [==============================] - 235s 125ms/step - loss: 0.0213\n",
      "Epoch 18/35\n",
      "1884/1884 [==============================] - 238s 126ms/step - loss: 0.0219\n",
      "Epoch 19/35\n",
      "1884/1884 [==============================] - 286s 152ms/step - loss: 0.0215\n",
      "Epoch 20/35\n",
      "1884/1884 [==============================] - 271s 144ms/step - loss: 0.0216\n",
      "Epoch 21/35\n",
      "1884/1884 [==============================] - 221s 117ms/step - loss: 0.0217\n",
      "Epoch 22/35\n",
      "1884/1884 [==============================] - 215s 114ms/step - loss: 0.0213\n",
      "Epoch 23/35\n",
      "1884/1884 [==============================] - 224s 119ms/step - loss: 0.0214\n",
      "Epoch 24/35\n",
      "1884/1884 [==============================] - 228s 121ms/step - loss: 0.0213\n",
      "Epoch 25/35\n",
      "1884/1884 [==============================] - 223s 118ms/step - loss: 0.0212\n",
      "Epoch 26/35\n",
      "1884/1884 [==============================] - 225s 119ms/step - loss: 0.0217\n",
      "Epoch 27/35\n",
      "1884/1884 [==============================] - 221s 117ms/step - loss: 0.0211\n",
      "Epoch 28/35\n",
      "1884/1884 [==============================] - 230s 122ms/step - loss: 0.0207\n",
      "Epoch 29/35\n",
      "1884/1884 [==============================] - 235s 125ms/step - loss: 0.0212\n",
      "Epoch 30/35\n",
      "1884/1884 [==============================] - 222s 118ms/step - loss: 0.0211\n",
      "Epoch 31/35\n",
      "1884/1884 [==============================] - 221s 118ms/step - loss: 0.0206\n",
      "Epoch 32/35\n",
      "1884/1884 [==============================] - 220s 117ms/step - loss: 0.0202\n",
      "Epoch 33/35\n",
      "1884/1884 [==============================] - 221s 117ms/step - loss: 0.0208\n",
      "Epoch 34/35\n",
      "1884/1884 [==============================] - 221s 117ms/step - loss: 0.0204\n",
      "Epoch 35/35\n",
      "1884/1884 [==============================] - 223s 118ms/step - loss: 0.0205\n"
     ]
    },
    {
     "data": {
      "text/plain": [
       "<keras.callbacks.History at 0x16607b970>"
      ]
     },
     "execution_count": 35,
     "metadata": {},
     "output_type": "execute_result"
    }
   ],
   "source": [
    "#model.fit(generator, epochs=35)"
   ]
  },
  {
   "cell_type": "code",
   "execution_count": 37,
   "id": "e0a88a44",
   "metadata": {
    "ExecuteTime": {
     "end_time": "2022-11-15T22:38:44.159837Z",
     "start_time": "2022-11-15T22:38:44.042489Z"
    },
    "scrolled": true
   },
   "outputs": [
    {
     "data": {
      "text/plain": [
       "[<matplotlib.lines.Line2D at 0x1651b7670>]"
      ]
     },
     "execution_count": 37,
     "metadata": {},
     "output_type": "execute_result"
    },
    {
     "data": {
      "image/png": "[encoded data removed]",
      "text/plain": [
       "<Figure size 432x288 with 1 Axes>"
      ]
     },
     "metadata": {
      "needs_background": "light"
     },
     "output_type": "display_data"
    }
   ],
   "source": [
    "loss_per_epoch = model.history.history['loss']\n",
    "plt.plot(range(len(loss_per_epoch)), loss_per_epoch)"
   ]
  },
  {
   "cell_type": "code",
   "execution_count": 39,
   "id": "20981e0d",
   "metadata": {
    "ExecuteTime": {
     "end_time": "2022-11-16T17:12:06.067792Z",
     "start_time": "2022-11-16T17:12:06.051108Z"
    }
   },
   "outputs": [],
   "source": [
    "last_train_batch = train_scaled[-12:]\n",
    "last_train_batch = last_train_batch.reshape((1, n_input, n_features))"
   ]
  },
  {
   "cell_type": "code",
   "execution_count": 40,
   "id": "c844303f",
   "metadata": {
    "ExecuteTime": {
     "end_time": "2022-11-16T17:12:09.253367Z",
     "start_time": "2022-11-16T17:12:08.625762Z"
    }
   },
   "outputs": [
    {
     "name": "stdout",
     "output_type": "stream",
     "text": [
      "1/1 [==============================] - 0s 435ms/step\n"
     ]
    },
    {
     "name": "stderr",
     "output_type": "stream",
     "text": [
      "2022-11-16 09:12:09.139352: I tensorflow/core/grappler/optimizers/custom_graph_optimizer_registry.cc:113] Plugin optimizer for device_type GPU is enabled.\n"
     ]
    },
    {
     "data": {
      "text/plain": [
       "array([[0.19550672]], dtype=float32)"
      ]
     },
     "execution_count": 40,
     "metadata": {},
     "output_type": "execute_result"
    }
   ],
   "source": [
    "model.predict(last_train_batch)"
   ]
  },
  {
   "cell_type": "code",
   "execution_count": 41,
   "id": "72477889",
   "metadata": {
    "ExecuteTime": {
     "end_time": "2022-11-16T17:12:22.873974Z",
     "start_time": "2022-11-16T17:12:22.866725Z"
    }
   },
   "outputs": [
    {
     "data": {
      "text/plain": [
       "array([0.22071893])"
      ]
     },
     "execution_count": 41,
     "metadata": {},
     "output_type": "execute_result"
    }
   ],
   "source": [
    "test_scaled[0]"
   ]
  },
  {
   "cell_type": "code",
   "execution_count": 120,
   "id": "9bb1d397",
   "metadata": {
    "ExecuteTime": {
     "end_time": "2022-11-16T18:33:40.097717Z",
     "start_time": "2022-11-16T18:33:38.897494Z"
    }
   },
   "outputs": [
    {
     "name": "stdout",
     "output_type": "stream",
     "text": [
      "1/1 [==============================] - 0s 84ms/step\n",
      "1/1 [==============================] - 0s 23ms/step\n",
      "1/1 [==============================] - 0s 22ms/step\n",
      "1/1 [==============================] - 0s 22ms/step\n",
      "1/1 [==============================] - 0s 22ms/step\n",
      "1/1 [==============================] - 0s 23ms/step\n",
      "1/1 [==============================] - 0s 21ms/step\n",
      "1/1 [==============================] - 0s 21ms/step\n",
      "1/1 [==============================] - 0s 21ms/step\n",
      "1/1 [==============================] - 0s 20ms/step\n",
      "1/1 [==============================] - 0s 21ms/step\n",
      "1/1 [==============================] - 0s 23ms/step\n",
      "1/1 [==============================] - 0s 22ms/step\n",
      "1/1 [==============================] - 0s 20ms/step\n",
      "1/1 [==============================] - 0s 21ms/step\n",
      "1/1 [==============================] - 0s 21ms/step\n",
      "1/1 [==============================] - 0s 23ms/step\n",
      "1/1 [==============================] - 0s 21ms/step\n",
      "1/1 [==============================] - 0s 21ms/step\n",
      "1/1 [==============================] - 0s 22ms/step\n",
      "1/1 [==============================] - 0s 20ms/step\n",
      "1/1 [==============================] - 0s 28ms/step\n",
      "1/1 [==============================] - 0s 68ms/step\n",
      "1/1 [==============================] - 0s 22ms/step\n"
     ]
    }
   ],
   "source": [
    "test_predictions = []\n",
    "\n",
    "first_eval_batch = train_scaled[-n_input:]\n",
    "current_batch = first_eval_batch.reshape((1, n_input, n_features))\n",
    "\n",
    "for i in range(len(lstm_test)):\n",
    "    \n",
    "    current_pred = model.predict(current_batch)[0]\n",
    "    \n",
    "    test_predictions.append(current_pred)\n",
    "    \n",
    "    current_batch = np.append(current_batch[:,1:,:], [[current_pred]], axis=1)"
   ]
  },
  {
   "cell_type": "code",
   "execution_count": 51,
   "id": "41a511e0",
   "metadata": {
    "ExecuteTime": {
     "end_time": "2022-11-16T17:35:21.403584Z",
     "start_time": "2022-11-16T17:35:21.246661Z"
    }
   },
   "outputs": [
    {
     "data": {
      "image/png": "[encoded data removed]",
      "text/plain": [
       "<Figure size 864x432 with 1 Axes>"
      ]
     },
     "metadata": {},
     "output_type": "display_data"
    }
   ],
   "source": [
    "final_predictions = scaler.inverse_transform(test_predictions)\n",
    "lstm_test['predictions'] = final_predictions\n",
    "lstm_test.plot(figsize=(12,6)); "
   ]
  },
  {
   "cell_type": "code",
   "execution_count": 52,
   "id": "1e678dd0",
   "metadata": {
    "ExecuteTime": {
     "end_time": "2022-11-16T17:35:38.045120Z",
     "start_time": "2022-11-16T17:35:38.031684Z"
    }
   },
   "outputs": [
    {
     "data": {
      "text/plain": [
       "1.4636002787657116"
      ]
     },
     "execution_count": 52,
     "metadata": {},
     "output_type": "execute_result"
    }
   ],
   "source": [
    "mean_absolute_error(lstm_test['y'], lstm_test['predictions'])"
   ]
  },
  {
   "cell_type": "markdown",
   "id": "ee77b43c",
   "metadata": {},
   "source": [
    "## Cleaning/Preprocessing Regression DataFrames\n",
    "The last step in this project will be to run a regression model that takes possible contributers to climate change into account."
   ]
  },
  {
   "cell_type": "code",
   "execution_count": 53,
   "id": "8cd8dc06",
   "metadata": {
    "ExecuteTime": {
     "end_time": "2022-11-16T17:36:35.623226Z",
     "start_time": "2022-11-16T17:36:35.586226Z"
    }
   },
   "outputs": [],
   "source": [
    "temp_year_df = ts.groupby(pd.Grouper(key=\"ds\", freq=\"Y\")).mean().reset_index()\n",
    "temp_year_df['ds'] = temp_year_df['ds'].dt.year"
   ]
  },
  {
   "cell_type": "code",
   "execution_count": 54,
   "id": "4f6e546e",
   "metadata": {
    "ExecuteTime": {
     "end_time": "2022-11-16T17:36:36.349345Z",
     "start_time": "2022-11-16T17:36:36.333152Z"
    }
   },
   "outputs": [
    {
     "data": {
      "text/html": [
       "<div>\n",
       "<style scoped>\n",
       "    .dataframe tbody tr th:only-of-type {\n",
       "        vertical-align: middle;\n",
       "    }\n",
       "\n",
       "    .dataframe tbody tr th {\n",
       "        vertical-align: top;\n",
       "    }\n",
       "\n",
       "    .dataframe thead th {\n",
       "        text-align: right;\n",
       "    }\n",
       "</style>\n",
       "<table border=\"1\" class=\"dataframe\">\n",
       "  <thead>\n",
       "    <tr style=\"text-align: right;\">\n",
       "      <th></th>\n",
       "      <th>y</th>\n",
       "    </tr>\n",
       "    <tr>\n",
       "      <th>ds</th>\n",
       "      <th></th>\n",
       "    </tr>\n",
       "  </thead>\n",
       "  <tbody>\n",
       "    <tr>\n",
       "      <th>1856</th>\n",
       "      <td>46.39265</td>\n",
       "    </tr>\n",
       "    <tr>\n",
       "      <th>1857</th>\n",
       "      <td>45.96470</td>\n",
       "    </tr>\n",
       "    <tr>\n",
       "      <th>1858</th>\n",
       "      <td>46.58045</td>\n",
       "    </tr>\n",
       "    <tr>\n",
       "      <th>1859</th>\n",
       "      <td>46.85360</td>\n",
       "    </tr>\n",
       "    <tr>\n",
       "      <th>1860</th>\n",
       "      <td>46.32950</td>\n",
       "    </tr>\n",
       "  </tbody>\n",
       "</table>\n",
       "</div>"
      ],
      "text/plain": [
       "             y\n",
       "ds            \n",
       "1856  46.39265\n",
       "1857  45.96470\n",
       "1858  46.58045\n",
       "1859  46.85360\n",
       "1860  46.32950"
      ]
     },
     "execution_count": 54,
     "metadata": {},
     "output_type": "execute_result"
    }
   ],
   "source": [
    "temp_year_df.set_index('ds', inplace = True)\n",
    "temp_year_df.head()"
   ]
  },
  {
   "cell_type": "code",
   "execution_count": 55,
   "id": "488b7300",
   "metadata": {
    "ExecuteTime": {
     "end_time": "2022-11-16T17:36:37.241164Z",
     "start_time": "2022-11-16T17:36:37.220587Z"
    }
   },
   "outputs": [
    {
     "data": {
      "text/html": [
       "<div>\n",
       "<style scoped>\n",
       "    .dataframe tbody tr th:only-of-type {\n",
       "        vertical-align: middle;\n",
       "    }\n",
       "\n",
       "    .dataframe tbody tr th {\n",
       "        vertical-align: top;\n",
       "    }\n",
       "\n",
       "    .dataframe thead th {\n",
       "        text-align: right;\n",
       "    }\n",
       "</style>\n",
       "<table border=\"1\" class=\"dataframe\">\n",
       "  <thead>\n",
       "    <tr style=\"text-align: right;\">\n",
       "      <th></th>\n",
       "      <th>0</th>\n",
       "    </tr>\n",
       "  </thead>\n",
       "  <tbody>\n",
       "    <tr>\n",
       "      <th>2018</th>\n",
       "      <td>36441.55</td>\n",
       "    </tr>\n",
       "    <tr>\n",
       "      <th>2017</th>\n",
       "      <td>35588.70</td>\n",
       "    </tr>\n",
       "    <tr>\n",
       "      <th>2016</th>\n",
       "      <td>35160.60</td>\n",
       "    </tr>\n",
       "    <tr>\n",
       "      <th>2015</th>\n",
       "      <td>34521.91</td>\n",
       "    </tr>\n",
       "    <tr>\n",
       "      <th>2014</th>\n",
       "      <td>34558.59</td>\n",
       "    </tr>\n",
       "  </tbody>\n",
       "</table>\n",
       "</div>"
      ],
      "text/plain": [
       "             0\n",
       "2018  36441.55\n",
       "2017  35588.70\n",
       "2016  35160.60\n",
       "2015  34521.91\n",
       "2014  34558.59"
      ]
     },
     "execution_count": 55,
     "metadata": {},
     "output_type": "execute_result"
    }
   ],
   "source": [
    "drop_columns = ['Country', 'Sector','Data source', 'Gas', 'Unit']\n",
    "gas_df = hist_gas_df[hist_gas_df['Country'] == 'World'].drop(columns = drop_columns).transpose()\n",
    "gas_df.index = pd.to_datetime(gas_df.index)\n",
    "gas_df.index = gas_df.index.year\n",
    "gas_df.head()"
   ]
  },
  {
   "cell_type": "code",
   "execution_count": 56,
   "id": "0dfcfa9c",
   "metadata": {
    "ExecuteTime": {
     "end_time": "2022-11-16T17:36:37.638838Z",
     "start_time": "2022-11-16T17:36:37.622030Z"
    },
    "scrolled": true
   },
   "outputs": [],
   "source": [
    "pop_df = pop_df[pop_df['Entity'] == 'World']\n",
    "pop_df = pop_df[pop_df['Year'].between(1990,2018)]"
   ]
  },
  {
   "cell_type": "code",
   "execution_count": 57,
   "id": "9cc4dd01",
   "metadata": {
    "ExecuteTime": {
     "end_time": "2022-11-16T17:36:37.861516Z",
     "start_time": "2022-11-16T17:36:37.853176Z"
    }
   },
   "outputs": [],
   "source": [
    "pop_drop_cols = ['Code', 'Entity']\n",
    "pop_df = pop_df.drop(columns=pop_drop_cols).set_index('Year')"
   ]
  },
  {
   "cell_type": "code",
   "execution_count": 58,
   "id": "cd8210f5",
   "metadata": {
    "ExecuteTime": {
     "end_time": "2022-11-16T17:36:38.050806Z",
     "start_time": "2022-11-16T17:36:38.024019Z"
    },
    "scrolled": true
   },
   "outputs": [
    {
     "data": {
      "text/html": [
       "<div>\n",
       "<style scoped>\n",
       "    .dataframe tbody tr th:only-of-type {\n",
       "        vertical-align: middle;\n",
       "    }\n",
       "\n",
       "    .dataframe tbody tr th {\n",
       "        vertical-align: top;\n",
       "    }\n",
       "\n",
       "    .dataframe thead th {\n",
       "        text-align: right;\n",
       "    }\n",
       "</style>\n",
       "<table border=\"1\" class=\"dataframe\">\n",
       "  <thead>\n",
       "    <tr style=\"text-align: right;\">\n",
       "      <th></th>\n",
       "      <th>Country Name</th>\n",
       "      <th>Code</th>\n",
       "      <th>1960</th>\n",
       "      <th>1961</th>\n",
       "      <th>1962</th>\n",
       "      <th>1963</th>\n",
       "      <th>1964</th>\n",
       "      <th>1965</th>\n",
       "      <th>1966</th>\n",
       "      <th>1967</th>\n",
       "      <th>...</th>\n",
       "      <th>2012</th>\n",
       "      <th>2013</th>\n",
       "      <th>2014</th>\n",
       "      <th>2015</th>\n",
       "      <th>2016</th>\n",
       "      <th>2017</th>\n",
       "      <th>2018</th>\n",
       "      <th>2019</th>\n",
       "      <th>2020</th>\n",
       "      <th>Unnamed: 65</th>\n",
       "    </tr>\n",
       "  </thead>\n",
       "  <tbody>\n",
       "    <tr>\n",
       "      <th>0</th>\n",
       "      <td>Aruba</td>\n",
       "      <td>ABW</td>\n",
       "      <td>NaN</td>\n",
       "      <td>NaN</td>\n",
       "      <td>NaN</td>\n",
       "      <td>NaN</td>\n",
       "      <td>NaN</td>\n",
       "      <td>NaN</td>\n",
       "      <td>NaN</td>\n",
       "      <td>NaN</td>\n",
       "      <td>...</td>\n",
       "      <td>-1.369863</td>\n",
       "      <td>4.198232</td>\n",
       "      <td>0.300000</td>\n",
       "      <td>5.700001</td>\n",
       "      <td>2.100000</td>\n",
       "      <td>1.999999</td>\n",
       "      <td>NaN</td>\n",
       "      <td>NaN</td>\n",
       "      <td>NaN</td>\n",
       "      <td>NaN</td>\n",
       "    </tr>\n",
       "    <tr>\n",
       "      <th>1</th>\n",
       "      <td>Africa Eastern and Southern</td>\n",
       "      <td>AFE</td>\n",
       "      <td>NaN</td>\n",
       "      <td>NaN</td>\n",
       "      <td>NaN</td>\n",
       "      <td>NaN</td>\n",
       "      <td>NaN</td>\n",
       "      <td>NaN</td>\n",
       "      <td>NaN</td>\n",
       "      <td>NaN</td>\n",
       "      <td>...</td>\n",
       "      <td>1.972652</td>\n",
       "      <td>4.308370</td>\n",
       "      <td>3.986754</td>\n",
       "      <td>2.925591</td>\n",
       "      <td>2.019391</td>\n",
       "      <td>2.542298</td>\n",
       "      <td>2.475272</td>\n",
       "      <td>2.077898</td>\n",
       "      <td>-2.939186</td>\n",
       "      <td>NaN</td>\n",
       "    </tr>\n",
       "    <tr>\n",
       "      <th>2</th>\n",
       "      <td>Afghanistan</td>\n",
       "      <td>AFG</td>\n",
       "      <td>NaN</td>\n",
       "      <td>NaN</td>\n",
       "      <td>NaN</td>\n",
       "      <td>NaN</td>\n",
       "      <td>NaN</td>\n",
       "      <td>NaN</td>\n",
       "      <td>NaN</td>\n",
       "      <td>NaN</td>\n",
       "      <td>...</td>\n",
       "      <td>12.752287</td>\n",
       "      <td>5.600745</td>\n",
       "      <td>2.724543</td>\n",
       "      <td>1.451315</td>\n",
       "      <td>2.260314</td>\n",
       "      <td>2.647003</td>\n",
       "      <td>1.189228</td>\n",
       "      <td>3.911603</td>\n",
       "      <td>-2.351101</td>\n",
       "      <td>NaN</td>\n",
       "    </tr>\n",
       "    <tr>\n",
       "      <th>3</th>\n",
       "      <td>Africa Western and Central</td>\n",
       "      <td>AFW</td>\n",
       "      <td>NaN</td>\n",
       "      <td>1.848719</td>\n",
       "      <td>3.770212</td>\n",
       "      <td>7.272501</td>\n",
       "      <td>5.396356</td>\n",
       "      <td>4.049794</td>\n",
       "      <td>-1.787094</td>\n",
       "      <td>-9.546521</td>\n",
       "      <td>...</td>\n",
       "      <td>5.142964</td>\n",
       "      <td>6.104241</td>\n",
       "      <td>5.927350</td>\n",
       "      <td>2.745937</td>\n",
       "      <td>0.127595</td>\n",
       "      <td>2.318042</td>\n",
       "      <td>2.952230</td>\n",
       "      <td>3.190336</td>\n",
       "      <td>-0.884981</td>\n",
       "      <td>NaN</td>\n",
       "    </tr>\n",
       "    <tr>\n",
       "      <th>4</th>\n",
       "      <td>Angola</td>\n",
       "      <td>AGO</td>\n",
       "      <td>NaN</td>\n",
       "      <td>NaN</td>\n",
       "      <td>NaN</td>\n",
       "      <td>NaN</td>\n",
       "      <td>NaN</td>\n",
       "      <td>NaN</td>\n",
       "      <td>NaN</td>\n",
       "      <td>NaN</td>\n",
       "      <td>...</td>\n",
       "      <td>8.542188</td>\n",
       "      <td>4.954545</td>\n",
       "      <td>4.822628</td>\n",
       "      <td>0.943572</td>\n",
       "      <td>-2.580050</td>\n",
       "      <td>-0.147213</td>\n",
       "      <td>-2.003630</td>\n",
       "      <td>-0.624644</td>\n",
       "      <td>-5.399987</td>\n",
       "      <td>NaN</td>\n",
       "    </tr>\n",
       "  </tbody>\n",
       "</table>\n",
       "<p>5 rows × 64 columns</p>\n",
       "</div>"
      ],
      "text/plain": [
       "                  Country Name Code  1960      1961      1962      1963  \\\n",
       "0                        Aruba  ABW   NaN       NaN       NaN       NaN   \n",
       "1  Africa Eastern and Southern  AFE   NaN       NaN       NaN       NaN   \n",
       "2                  Afghanistan  AFG   NaN       NaN       NaN       NaN   \n",
       "3   Africa Western and Central  AFW   NaN  1.848719  3.770212  7.272501   \n",
       "4                       Angola  AGO   NaN       NaN       NaN       NaN   \n",
       "\n",
       "       1964      1965      1966      1967  ...       2012      2013      2014  \\\n",
       "0       NaN       NaN       NaN       NaN  ...  -1.369863  4.198232  0.300000   \n",
       "1       NaN       NaN       NaN       NaN  ...   1.972652  4.308370  3.986754   \n",
       "2       NaN       NaN       NaN       NaN  ...  12.752287  5.600745  2.724543   \n",
       "3  5.396356  4.049794 -1.787094 -9.546521  ...   5.142964  6.104241  5.927350   \n",
       "4       NaN       NaN       NaN       NaN  ...   8.542188  4.954545  4.822628   \n",
       "\n",
       "       2015      2016      2017      2018      2019      2020  Unnamed: 65  \n",
       "0  5.700001  2.100000  1.999999       NaN       NaN       NaN          NaN  \n",
       "1  2.925591  2.019391  2.542298  2.475272  2.077898 -2.939186          NaN  \n",
       "2  1.451315  2.260314  2.647003  1.189228  3.911603 -2.351101          NaN  \n",
       "3  2.745937  0.127595  2.318042  2.952230  3.190336 -0.884981          NaN  \n",
       "4  0.943572 -2.580050 -0.147213 -2.003630 -0.624644 -5.399987          NaN  \n",
       "\n",
       "[5 rows x 64 columns]"
      ]
     },
     "execution_count": 58,
     "metadata": {},
     "output_type": "execute_result"
    }
   ],
   "source": [
    "gdp_df.head()"
   ]
  },
  {
   "cell_type": "code",
   "execution_count": 59,
   "id": "0e014511",
   "metadata": {
    "ExecuteTime": {
     "end_time": "2022-11-16T17:36:38.367353Z",
     "start_time": "2022-11-16T17:36:38.340723Z"
    }
   },
   "outputs": [
    {
     "data": {
      "text/html": [
       "<div>\n",
       "<style scoped>\n",
       "    .dataframe tbody tr th:only-of-type {\n",
       "        vertical-align: middle;\n",
       "    }\n",
       "\n",
       "    .dataframe tbody tr th {\n",
       "        vertical-align: top;\n",
       "    }\n",
       "\n",
       "    .dataframe thead th {\n",
       "        text-align: right;\n",
       "    }\n",
       "</style>\n",
       "<table border=\"1\" class=\"dataframe\">\n",
       "  <thead>\n",
       "    <tr style=\"text-align: right;\">\n",
       "      <th></th>\n",
       "      <th>259</th>\n",
       "    </tr>\n",
       "  </thead>\n",
       "  <tbody>\n",
       "    <tr>\n",
       "      <th>1961</th>\n",
       "      <td>3.800832</td>\n",
       "    </tr>\n",
       "    <tr>\n",
       "      <th>1962</th>\n",
       "      <td>5.320280</td>\n",
       "    </tr>\n",
       "    <tr>\n",
       "      <th>1963</th>\n",
       "      <td>5.192421</td>\n",
       "    </tr>\n",
       "    <tr>\n",
       "      <th>1964</th>\n",
       "      <td>6.568749</td>\n",
       "    </tr>\n",
       "    <tr>\n",
       "      <th>1965</th>\n",
       "      <td>5.555097</td>\n",
       "    </tr>\n",
       "  </tbody>\n",
       "</table>\n",
       "</div>"
      ],
      "text/plain": [
       "           259\n",
       "1961  3.800832\n",
       "1962  5.320280\n",
       "1963  5.192421\n",
       "1964  6.568749\n",
       "1965  5.555097"
      ]
     },
     "execution_count": 59,
     "metadata": {},
     "output_type": "execute_result"
    }
   ],
   "source": [
    "gdp_drop_columns = ['Code', 'Country Name']\n",
    "world_gdp = gdp_df[gdp_df['Country Name'] == \"World\"].drop(columns=gdp_drop_columns).transpose()\n",
    "world_gdp = world_gdp.dropna()\n",
    "world_gdp.index = pd.to_datetime(world_gdp.index)\n",
    "world_gdp.index = world_gdp.index.year\n",
    "world_gdp.head()"
   ]
  },
  {
   "cell_type": "code",
   "execution_count": 60,
   "id": "78d17468",
   "metadata": {
    "ExecuteTime": {
     "end_time": "2022-11-16T17:36:38.538168Z",
     "start_time": "2022-11-16T17:36:38.522241Z"
    }
   },
   "outputs": [],
   "source": [
    "reg_df = pop_df.join(world_gdp).join(gas_df).join(temp_year_df)\n",
    "\n",
    "mapping = {\n",
    "     reg_df.columns[0]:'Population', \n",
    "     reg_df.columns[1]: 'GDP_Growth', \n",
    "     reg_df.columns[2]:'Emissions', \n",
    "     reg_df.columns[3]: 'Average_Temp'\n",
    "}\n",
    "\n",
    "reg_df.rename(columns = mapping, inplace=True)\n",
    "reg_df.reset_index(inplace=True)"
   ]
  },
  {
   "cell_type": "code",
   "execution_count": 117,
   "id": "6001eb7f",
   "metadata": {
    "ExecuteTime": {
     "end_time": "2022-11-16T18:29:20.265514Z",
     "start_time": "2022-11-16T18:29:20.247387Z"
    }
   },
   "outputs": [
    {
     "data": {
      "text/html": [
       "<div>\n",
       "<style scoped>\n",
       "    .dataframe tbody tr th:only-of-type {\n",
       "        vertical-align: middle;\n",
       "    }\n",
       "\n",
       "    .dataframe tbody tr th {\n",
       "        vertical-align: top;\n",
       "    }\n",
       "\n",
       "    .dataframe thead th {\n",
       "        text-align: right;\n",
       "    }\n",
       "</style>\n",
       "<table border=\"1\" class=\"dataframe\">\n",
       "  <thead>\n",
       "    <tr style=\"text-align: right;\">\n",
       "      <th></th>\n",
       "      <th>Year</th>\n",
       "      <th>Population</th>\n",
       "      <th>GDP_Growth</th>\n",
       "      <th>Emissions</th>\n",
       "      <th>Average_Temp</th>\n",
       "    </tr>\n",
       "  </thead>\n",
       "  <tbody>\n",
       "    <tr>\n",
       "      <th>0</th>\n",
       "      <td>1990</td>\n",
       "      <td>5316175872</td>\n",
       "      <td>2.876178</td>\n",
       "      <td>22849.92</td>\n",
       "      <td>48.62150</td>\n",
       "    </tr>\n",
       "    <tr>\n",
       "      <th>1</th>\n",
       "      <td>1991</td>\n",
       "      <td>5406245888</td>\n",
       "      <td>1.446386</td>\n",
       "      <td>23056.40</td>\n",
       "      <td>48.52295</td>\n",
       "    </tr>\n",
       "    <tr>\n",
       "      <th>2</th>\n",
       "      <td>1992</td>\n",
       "      <td>5492686336</td>\n",
       "      <td>2.056186</td>\n",
       "      <td>22988.29</td>\n",
       "      <td>47.90585</td>\n",
       "    </tr>\n",
       "    <tr>\n",
       "      <th>3</th>\n",
       "      <td>1993</td>\n",
       "      <td>5577433600</td>\n",
       "      <td>1.808395</td>\n",
       "      <td>23124.00</td>\n",
       "      <td>47.95985</td>\n",
       "    </tr>\n",
       "    <tr>\n",
       "      <th>4</th>\n",
       "      <td>1994</td>\n",
       "      <td>5660727808</td>\n",
       "      <td>3.296975</td>\n",
       "      <td>23260.29</td>\n",
       "      <td>48.26975</td>\n",
       "    </tr>\n",
       "  </tbody>\n",
       "</table>\n",
       "</div>"
      ],
      "text/plain": [
       "   Year  Population  GDP_Growth  Emissions  Average_Temp\n",
       "0  1990  5316175872    2.876178   22849.92      48.62150\n",
       "1  1991  5406245888    1.446386   23056.40      48.52295\n",
       "2  1992  5492686336    2.056186   22988.29      47.90585\n",
       "3  1993  5577433600    1.808395   23124.00      47.95985\n",
       "4  1994  5660727808    3.296975   23260.29      48.26975"
      ]
     },
     "execution_count": 117,
     "metadata": {},
     "output_type": "execute_result"
    }
   ],
   "source": [
    "reg_df = reg_df.dropna()\n",
    "reg_df.head()"
   ]
  },
  {
   "cell_type": "code",
   "execution_count": 80,
   "id": "4fbbccdb",
   "metadata": {
    "ExecuteTime": {
     "end_time": "2022-11-16T17:48:40.841590Z",
     "start_time": "2022-11-16T17:48:40.830506Z"
    }
   },
   "outputs": [],
   "source": [
    "X = reg_df.drop('Average_Temp', axis=1)\n",
    "y = reg_df['Average_Temp']\n",
    "X_train, X_test, y_train, y_test = train_test_split(X,y, test_size = .15)"
   ]
  },
  {
   "cell_type": "code",
   "execution_count": 101,
   "id": "39677546",
   "metadata": {
    "ExecuteTime": {
     "end_time": "2022-11-16T17:58:17.348424Z",
     "start_time": "2022-11-16T17:58:17.343053Z"
    }
   },
   "outputs": [],
   "source": [
    "boost = XGBRegressor()\n",
    "param_grid = {\n",
    "    'learning_rate': [0.01, 0.1],\n",
    "    'max_depth': [2,3,4],\n",
    "    'min_child_weight': [1, 2, 3],\n",
    "    'subsample': [0.5, 1],\n",
    "    'n_estimators': [50,100,150]\n",
    "}"
   ]
  },
  {
   "cell_type": "code",
   "execution_count": 104,
   "id": "bd12bce7",
   "metadata": {
    "ExecuteTime": {
     "end_time": "2022-11-16T18:01:33.122944Z",
     "start_time": "2022-11-16T18:01:30.035716Z"
    }
   },
   "outputs": [
    {
     "name": "stdout",
     "output_type": "stream",
     "text": [
      "learning_rate: 0.1\n",
      "max_depth: 4\n",
      "min_child_weight: 2\n",
      "n_estimators: 150\n",
      "subsample: 1\n",
      "\n",
      "Training MAE: 0.008427718561344348\n",
      "Validation MAE: 0.21019504394531374\n"
     ]
    }
   ],
   "source": [
    "grid_boost = GridSearchCV(\n",
    "    boost, \n",
    "    param_grid, \n",
    "    scoring='neg_mean_absolute_error', \n",
    "    cv=3, \n",
    "    n_jobs=1)\n",
    "grid_boost.fit(X_train, y_train)\n",
    "\n",
    "best_parameters = grid_boost.best_params_\n",
    "\n",
    "for param_name in sorted(best_parameters.keys()):\n",
    "    print('%s: %r' % (param_name, best_parameters[param_name]))\n",
    "\n",
    "training_preds = grid_boost.predict(X_train)\n",
    "test_preds = grid_boost.predict(X_test)\n",
    "training_MAE = mean_absolute_error(y_train, training_preds)\n",
    "test_MAE = mean_absolute_error(y_test, test_preds)\n",
    "\n",
    "print('')\n",
    "print('Training MAE:' ,training_MAE)\n",
    "print('Validation MAE:' ,test_MAE)"
   ]
  },
  {
   "cell_type": "code",
   "execution_count": 122,
   "id": "26303bf0",
   "metadata": {
    "ExecuteTime": {
     "end_time": "2022-11-16T19:10:23.257806Z",
     "start_time": "2022-11-16T19:10:23.124650Z"
    }
   },
   "outputs": [
    {
     "data": {
      "image/png": "[encoded data removed]",
      "text/plain": [
       "<Figure size 576x396 with 1 Axes>"
      ]
     },
     "metadata": {},
     "output_type": "display_data"
    }
   ],
   "source": [
    "final_XGB = XGBRegressor(learning_rate=.1, \n",
    "                         max_depth=4, \n",
    "                         min_child_weight=2, \n",
    "                         n_estimators=150, \n",
    "                         subsample=1)\n",
    "final_XGB.fit(X_train, y_train);\n",
    "xgboost.plot_importance(final_XGB);"
   ]
  },
  {
   "cell_type": "code",
   "execution_count": null,
   "id": "6cb8ae03",
   "metadata": {},
   "outputs": [],
   "source": []
  },
  {
   "cell_type": "code",
   "execution_count": null,
   "id": "60edd79f",
   "metadata": {},
   "outputs": [],
   "source": []
  }
 ],
 "metadata": {
  "kernelspec": {
   "display_name": "Python 3.9 (tensorflow)",
   "language": "python",
   "name": "tensorflow"
  },
  "language_info": {
   "codemirror_mode": {
    "name": "ipython",
    "version": 3
   },
   "file_extension": ".py",
   "mimetype": "text/x-python",
   "name": "python",
   "nbconvert_exporter": "python",
   "pygments_lexer": "ipython3",
   "version": "3.9.13"
  }
 },
 "nbformat": 4,
 "nbformat_minor": 5
}
